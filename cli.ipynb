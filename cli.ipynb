{
 "cells": [
  {
   "cell_type": "code",
   "execution_count": 1,
   "id": "3b5cd947-a6a8-4dcc-ac0f-5227371744ae",
   "metadata": {
    "tags": []
   },
   "outputs": [],
   "source": [
    "import os\n",
    "import fire\n",
    "import random\n",
    "from retry.api import retry_call\n",
    "from tqdm import tqdm\n",
    "from datetime import datetime\n",
    "from functools import wraps\n",
    "from stylegan2_pytorch.stylegan2_pytorch_unet import Trainer, NanException\n",
    "\n",
    "import torch\n",
    "import torch.multiprocessing as mp\n",
    "import torch.distributed as dist\n",
    "\n",
    "import numpy as np"
   ]
  },
  {
   "cell_type": "code",
   "execution_count": 2,
   "id": "7414b94f-f9c1-4e8f-b04a-5520965a495d",
   "metadata": {
    "tags": []
   },
   "outputs": [],
   "source": [
    "def cast_list(el):\n",
    "    return el if isinstance(el, list) else [el]\n",
    "\n",
    "def timestamped_filename(prefix = 'generated-'):\n",
    "    now = datetime.now()\n",
    "    timestamp = now.strftime(\"%m-%d-%Y_%H-%M-%S\")\n",
    "    return f'{prefix}{timestamp}'\n",
    "\n",
    "def set_seed(seed):\n",
    "    torch.manual_seed(seed)\n",
    "    torch.backends.cudnn.deterministic = True\n",
    "    torch.backends.cudnn.benchmark = False\n",
    "    np.random.seed(seed)\n",
    "    random.seed(seed)\n",
    "\n",
    "def run_training(rank, world_size, model_args, data, load_from, new, num_train_steps, name, seed):\n",
    "    is_main = rank == 0\n",
    "    is_ddp = world_size > 1\n",
    "\n",
    "    if is_ddp:\n",
    "        set_seed(seed)\n",
    "        os.environ['MASTER_ADDR'] = 'localhost'\n",
    "        os.environ['MASTER_PORT'] = '12355'\n",
    "        dist.init_process_group('nccl', rank=rank, world_size=world_size)\n",
    "\n",
    "        print(f\"{rank + 1}/{world_size} process initialized.\")\n",
    "\n",
    "    model_args.update(\n",
    "        is_ddp = is_ddp,\n",
    "        rank = rank,\n",
    "        world_size = world_size\n",
    "    )\n",
    "\n",
    "    model = Trainer(**model_args)\n",
    "\n",
    "    if not new:\n",
    "        model.load(load_from)\n",
    "    else:\n",
    "        model.clear()\n",
    "\n",
    "    model.set_data_src(data)\n",
    "\n",
    "    progress_bar = tqdm(initial = model.steps, total = num_train_steps, mininterval=10., desc=f'{name}<{data}>')\n",
    "    while model.steps < num_train_steps:\n",
    "        retry_call(model.train, tries=3, exceptions=NanException)\n",
    "        progress_bar.n = model.steps\n",
    "        progress_bar.refresh()\n",
    "        if is_main and model.steps % 50 == 0:\n",
    "            model.print_log()\n",
    "\n",
    "    model.save(model.checkpoint_num)\n",
    "\n",
    "    if is_ddp:\n",
    "        dist.destroy_process_group()\n",
    "\n",
    "def train_from_folder(\n",
    "    data = '/home/mati/Desktop/workplace/datasets/CelebA-img',\n",
    "    results_dir = './results',\n",
    "    models_dir = './models',\n",
    "    name = 'default',\n",
    "    new = True,\n",
    "    load_from = -1,\n",
    "    image_size = 64,\n",
    "    network_capacity = 16,\n",
    "    fmap_max = 512,\n",
    "    transparent = False,\n",
    "    batch_size = 10,\n",
    "    gradient_accumulate_every = 3,\n",
    "    num_train_steps = 150000,\n",
    "    learning_rate = 2e-4,\n",
    "    lr_mlp = 0.1,\n",
    "    ttur_mult = 1.5,\n",
    "    rel_disc_loss = False,\n",
    "    num_workers =  None,\n",
    "    save_every = 1000,\n",
    "    evaluate_every = 1000,\n",
    "    generate = False,\n",
    "    num_generate = 1,\n",
    "    generate_interpolation = False,\n",
    "    interpolation_num_steps = 100,\n",
    "    save_frames = False,\n",
    "    num_image_tiles = 8,\n",
    "    trunc_psi = 0.75,\n",
    "    mixed_prob = 0.9,\n",
    "    fp16 = False,\n",
    "    no_pl_reg = False,\n",
    "    cl_reg = False,\n",
    "    fq_layers = [],\n",
    "    fq_dict_size = 256,\n",
    "    attn_layers = [1,2],\n",
    "    no_const = False,\n",
    "    aug_prob = 0.,\n",
    "    aug_types = ['translation', 'cutout'],\n",
    "    top_k_training = False,\n",
    "    generator_top_k_gamma = 0.99,\n",
    "    generator_top_k_frac = 0.5,\n",
    "    dual_contrast_loss = False,\n",
    "    dataset_aug_prob = 0.,\n",
    "    multi_gpus = False,\n",
    "    calculate_fid_every = None,\n",
    "    calculate_fid_num_images = 12800,\n",
    "    clear_fid_cache = False,\n",
    "    seed = 42,\n",
    "    log = False\n",
    "):\n",
    "    model_args = dict(\n",
    "        name = name,\n",
    "        results_dir = results_dir,\n",
    "        models_dir = models_dir,\n",
    "        batch_size = batch_size,\n",
    "        gradient_accumulate_every = gradient_accumulate_every,\n",
    "        image_size = image_size,\n",
    "        network_capacity = network_capacity,\n",
    "        fmap_max = fmap_max,\n",
    "        transparent = transparent,\n",
    "        lr = learning_rate,\n",
    "        lr_mlp = lr_mlp,\n",
    "        ttur_mult = ttur_mult,\n",
    "        rel_disc_loss = rel_disc_loss,\n",
    "        num_workers = num_workers,\n",
    "        save_every = save_every,\n",
    "        evaluate_every = evaluate_every,\n",
    "        num_image_tiles = num_image_tiles,\n",
    "        trunc_psi = trunc_psi,\n",
    "        fp16 = fp16,\n",
    "        no_pl_reg = no_pl_reg,\n",
    "        cl_reg = cl_reg,\n",
    "        fq_layers = fq_layers,\n",
    "        fq_dict_size = fq_dict_size,\n",
    "        attn_layers = attn_layers,\n",
    "        no_const = no_const,\n",
    "        aug_prob = aug_prob,\n",
    "        aug_types = cast_list(aug_types),\n",
    "        top_k_training = top_k_training,\n",
    "        generator_top_k_gamma = generator_top_k_gamma,\n",
    "        generator_top_k_frac = generator_top_k_frac,\n",
    "        dual_contrast_loss = dual_contrast_loss,\n",
    "        dataset_aug_prob = dataset_aug_prob,\n",
    "        calculate_fid_every = calculate_fid_every,\n",
    "        calculate_fid_num_images = calculate_fid_num_images,\n",
    "        clear_fid_cache = clear_fid_cache,\n",
    "        mixed_prob = mixed_prob,\n",
    "        log = log\n",
    "    )\n",
    "\n",
    "    world_size = torch.cuda.device_count()\n",
    "\n",
    "    if world_size == 1 or not multi_gpus:\n",
    "        run_training(0, 1, model_args, data, load_from, new, num_train_steps, name, seed)\n",
    "        return\n",
    "\n",
    "    mp.spawn(run_training,\n",
    "        args=(world_size, model_args, data, load_from, new, num_train_steps, name, seed),\n",
    "        nprocs=world_size,\n",
    "        join=True)"
   ]
  },
  {
   "cell_type": "code",
   "execution_count": null,
   "id": "5c786649-cc97-46af-8f8e-1119a50a35c3",
   "metadata": {
    "tags": []
   },
   "outputs": [
    {
     "name": "stderr",
     "output_type": "stream",
     "text": [
      "default</home/mati/Desktop/workplace/datasets/CelebA-img>:   0%|          | 0/150000 [00:00<?, ?it/s]/home/mati/anaconda3/envs/pytorch-gpu-2023-11/lib/python3.11/site-packages/torch/nn/modules/conv.py:456: UserWarning: Applied workaround for CuDNN issue, install nvrtc.so (Triggered internally at /opt/conda/conda-bld/pytorch_1695392026823/work/aten/src/ATen/native/cudnn/Conv_v8.cpp:80.)\n",
      "  return F.conv2d(input, weight, bias, self.stride,\n",
      "default</home/mati/Desktop/workplace/datasets/CelebA-img>:   0%|          | 50/150000 [00:48<40:08:37,  1.04it/s]"
     ]
    },
    {
     "name": "stdout",
     "output_type": "stream",
     "text": [
      "G: 30.87 | D: 0.76 | GP: 0.21\n"
     ]
    },
    {
     "name": "stderr",
     "output_type": "stream",
     "text": [
      "default</home/mati/Desktop/workplace/datasets/CelebA-img>:   0%|          | 100/150000 [01:32<38:29:06,  1.08it/s]"
     ]
    },
    {
     "name": "stdout",
     "output_type": "stream",
     "text": [
      "G: 3.72 | D: 0.54 | GP: 2.14\n"
     ]
    },
    {
     "name": "stderr",
     "output_type": "stream",
     "text": [
      "default</home/mati/Desktop/workplace/datasets/CelebA-img>:   0%|          | 150/150000 [02:19<38:35:20,  1.08it/s]"
     ]
    },
    {
     "name": "stdout",
     "output_type": "stream",
     "text": [
      "G: -27.92 | D: 0.42 | GP: 130.90\n"
     ]
    },
    {
     "name": "stderr",
     "output_type": "stream",
     "text": [
      "default</home/mati/Desktop/workplace/datasets/CelebA-img>:   0%|          | 200/150000 [03:01<37:49:45,  1.10it/s]"
     ]
    },
    {
     "name": "stdout",
     "output_type": "stream",
     "text": [
      "G: -47.34 | D: 104.04 | GP: 6.02\n"
     ]
    },
    {
     "name": "stderr",
     "output_type": "stream",
     "text": [
      "default</home/mati/Desktop/workplace/datasets/CelebA-img>:   0%|          | 250/150000 [03:47<37:55:05,  1.10it/s]"
     ]
    },
    {
     "name": "stdout",
     "output_type": "stream",
     "text": [
      "G: 4.99 | D: 0.81 | GP: 0.39\n"
     ]
    },
    {
     "name": "stderr",
     "output_type": "stream",
     "text": [
      "default</home/mati/Desktop/workplace/datasets/CelebA-img>:   0%|          | 300/150000 [04:31<37:41:20,  1.10it/s]"
     ]
    },
    {
     "name": "stdout",
     "output_type": "stream",
     "text": [
      "G: 0.79 | D: 10.73 | GP: 8.80\n"
     ]
    },
    {
     "name": "stderr",
     "output_type": "stream",
     "text": [
      "default</home/mati/Desktop/workplace/datasets/CelebA-img>:   0%|          | 350/150000 [05:14<37:22:53,  1.11it/s]"
     ]
    },
    {
     "name": "stdout",
     "output_type": "stream",
     "text": [
      "G: 0.53 | D: 1.50 | GP: 1.90\n"
     ]
    },
    {
     "name": "stderr",
     "output_type": "stream",
     "text": [
      "default</home/mati/Desktop/workplace/datasets/CelebA-img>:   0%|          | 400/150000 [05:58<37:14:25,  1.12it/s]"
     ]
    },
    {
     "name": "stdout",
     "output_type": "stream",
     "text": [
      "G: 2.33 | D: 1.23 | GP: 0.11\n"
     ]
    },
    {
     "name": "stderr",
     "output_type": "stream",
     "text": [
      "default</home/mati/Desktop/workplace/datasets/CelebA-img>:   0%|          | 450/150000 [06:42<37:08:07,  1.12it/s]"
     ]
    },
    {
     "name": "stdout",
     "output_type": "stream",
     "text": [
      "G: 0.75 | D: 0.96 | GP: 3.08\n"
     ]
    },
    {
     "name": "stderr",
     "output_type": "stream",
     "text": [
      "default</home/mati/Desktop/workplace/datasets/CelebA-img>:   0%|          | 500/150000 [07:29<37:18:11,  1.11it/s]"
     ]
    },
    {
     "name": "stdout",
     "output_type": "stream",
     "text": [
      "G: 31.86 | D: 2.54 | GP: 0.05\n"
     ]
    },
    {
     "name": "stderr",
     "output_type": "stream",
     "text": [
      "default</home/mati/Desktop/workplace/datasets/CelebA-img>:   0%|          | 550/150000 [08:14<37:17:20,  1.11it/s]"
     ]
    },
    {
     "name": "stdout",
     "output_type": "stream",
     "text": [
      "G: 18.86 | D: 0.66 | GP: 0.33\n"
     ]
    },
    {
     "name": "stderr",
     "output_type": "stream",
     "text": [
      "default</home/mati/Desktop/workplace/datasets/CelebA-img>:   0%|          | 600/150000 [08:58<37:14:33,  1.11it/s]"
     ]
    },
    {
     "name": "stdout",
     "output_type": "stream",
     "text": [
      "G: -1.17 | D: 5.75 | GP: 2.37\n"
     ]
    },
    {
     "name": "stderr",
     "output_type": "stream",
     "text": [
      "default</home/mati/Desktop/workplace/datasets/CelebA-img>:   0%|          | 650/150000 [09:43<37:15:55,  1.11it/s]"
     ]
    },
    {
     "name": "stdout",
     "output_type": "stream",
     "text": [
      "G: -3.01 | D: 0.55 | GP: 0.78\n"
     ]
    },
    {
     "name": "stderr",
     "output_type": "stream",
     "text": [
      "default</home/mati/Desktop/workplace/datasets/CelebA-img>:   0%|          | 700/150000 [10:27<37:11:19,  1.12it/s]"
     ]
    },
    {
     "name": "stdout",
     "output_type": "stream",
     "text": [
      "G: 0.40 | D: 1.48 | GP: 2.59\n"
     ]
    },
    {
     "name": "stderr",
     "output_type": "stream",
     "text": [
      "default</home/mati/Desktop/workplace/datasets/CelebA-img>:   0%|          | 750/150000 [11:10<37:04:15,  1.12it/s]"
     ]
    },
    {
     "name": "stdout",
     "output_type": "stream",
     "text": [
      "G: 0.85 | D: 1.16 | GP: 0.05\n"
     ]
    },
    {
     "name": "stderr",
     "output_type": "stream",
     "text": [
      "default</home/mati/Desktop/workplace/datasets/CelebA-img>:   1%|          | 800/150000 [11:53<36:57:35,  1.12it/s]"
     ]
    },
    {
     "name": "stdout",
     "output_type": "stream",
     "text": [
      "G: 1.17 | D: 3.17 | GP: 0.89\n"
     ]
    },
    {
     "name": "stderr",
     "output_type": "stream",
     "text": [
      "default</home/mati/Desktop/workplace/datasets/CelebA-img>:   1%|          | 850/150000 [12:36<36:52:27,  1.12it/s]"
     ]
    },
    {
     "name": "stdout",
     "output_type": "stream",
     "text": [
      "G: -0.13 | D: 1.48 | GP: 3.01\n"
     ]
    },
    {
     "name": "stderr",
     "output_type": "stream",
     "text": [
      "default</home/mati/Desktop/workplace/datasets/CelebA-img>:   1%|          | 900/150000 [13:22<36:55:38,  1.12it/s]"
     ]
    },
    {
     "name": "stdout",
     "output_type": "stream",
     "text": [
      "G: -0.10 | D: 4.61 | GP: 1.84\n"
     ]
    },
    {
     "name": "stderr",
     "output_type": "stream",
     "text": [
      "default</home/mati/Desktop/workplace/datasets/CelebA-img>:   1%|          | 950/150000 [14:06<36:53:28,  1.12it/s]"
     ]
    },
    {
     "name": "stdout",
     "output_type": "stream",
     "text": [
      "G: 6.82 | D: 1.28 | GP: 0.20\n"
     ]
    },
    {
     "name": "stderr",
     "output_type": "stream",
     "text": [
      "default</home/mati/Desktop/workplace/datasets/CelebA-img>:   1%|          | 1000/150000 [14:49<36:48:17,  1.12it/s]"
     ]
    },
    {
     "name": "stdout",
     "output_type": "stream",
     "text": [
      "G: 2.76 | D: 1.65 | GP: 4.44\n"
     ]
    },
    {
     "name": "stderr",
     "output_type": "stream",
     "text": [
      "default</home/mati/Desktop/workplace/datasets/CelebA-img>:   1%|          | 1050/150000 [15:33<36:46:27,  1.13it/s]"
     ]
    },
    {
     "name": "stdout",
     "output_type": "stream",
     "text": [
      "G: 1.85 | D: 0.80 | GP: 2.68\n"
     ]
    },
    {
     "name": "stderr",
     "output_type": "stream",
     "text": [
      "default</home/mati/Desktop/workplace/datasets/CelebA-img>:   1%|          | 1100/150000 [16:15<36:41:54,  1.13it/s]"
     ]
    },
    {
     "name": "stdout",
     "output_type": "stream",
     "text": [
      "G: 0.58 | D: 2.14 | GP: 0.94\n"
     ]
    },
    {
     "name": "stderr",
     "output_type": "stream",
     "text": [
      "default</home/mati/Desktop/workplace/datasets/CelebA-img>:   1%|          | 1150/150000 [16:59<36:38:17,  1.13it/s]"
     ]
    },
    {
     "name": "stdout",
     "output_type": "stream",
     "text": [
      "G: 0.13 | D: 1.42 | GP: 4.66\n"
     ]
    },
    {
     "name": "stderr",
     "output_type": "stream",
     "text": [
      "default</home/mati/Desktop/workplace/datasets/CelebA-img>:   1%|          | 1200/150000 [17:40<36:32:33,  1.13it/s]"
     ]
    },
    {
     "name": "stdout",
     "output_type": "stream",
     "text": [
      "G: 0.37 | D: 0.87 | GP: 0.12\n"
     ]
    },
    {
     "name": "stderr",
     "output_type": "stream",
     "text": [
      "default</home/mati/Desktop/workplace/datasets/CelebA-img>:   1%|          | 1250/150000 [18:23<36:29:24,  1.13it/s]"
     ]
    },
    {
     "name": "stdout",
     "output_type": "stream",
     "text": [
      "G: 3.81 | D: 1.36 | GP: 0.27\n"
     ]
    },
    {
     "name": "stderr",
     "output_type": "stream",
     "text": [
      "default</home/mati/Desktop/workplace/datasets/CelebA-img>:   1%|          | 1300/150000 [19:05<36:24:26,  1.13it/s]"
     ]
    },
    {
     "name": "stdout",
     "output_type": "stream",
     "text": [
      "G: 0.31 | D: 1.39 | GP: 0.75\n"
     ]
    },
    {
     "name": "stderr",
     "output_type": "stream",
     "text": [
      "default</home/mati/Desktop/workplace/datasets/CelebA-img>:   1%|          | 1350/150000 [19:48<36:21:48,  1.14it/s]"
     ]
    },
    {
     "name": "stdout",
     "output_type": "stream",
     "text": [
      "G: 0.47 | D: 1.52 | GP: 0.11\n"
     ]
    },
    {
     "name": "stderr",
     "output_type": "stream",
     "text": [
      "default</home/mati/Desktop/workplace/datasets/CelebA-img>:   1%|          | 1400/150000 [20:30<36:17:26,  1.14it/s]"
     ]
    },
    {
     "name": "stdout",
     "output_type": "stream",
     "text": [
      "G: -0.72 | D: 2.56 | GP: 1.09\n"
     ]
    },
    {
     "name": "stderr",
     "output_type": "stream",
     "text": [
      "default</home/mati/Desktop/workplace/datasets/CelebA-img>:   1%|          | 1450/150000 [21:14<36:15:24,  1.14it/s]"
     ]
    },
    {
     "name": "stdout",
     "output_type": "stream",
     "text": [
      "G: 0.74 | D: 1.05 | GP: 0.46\n"
     ]
    },
    {
     "name": "stderr",
     "output_type": "stream",
     "text": [
      "default</home/mati/Desktop/workplace/datasets/CelebA-img>:   1%|          | 1500/150000 [21:56<36:12:06,  1.14it/s]"
     ]
    },
    {
     "name": "stdout",
     "output_type": "stream",
     "text": [
      "G: 0.72 | D: 1.54 | GP: 1.59\n"
     ]
    },
    {
     "name": "stderr",
     "output_type": "stream",
     "text": [
      "default</home/mati/Desktop/workplace/datasets/CelebA-img>:   1%|          | 1550/150000 [22:39<36:10:11,  1.14it/s]"
     ]
    },
    {
     "name": "stdout",
     "output_type": "stream",
     "text": [
      "G: 0.66 | D: 1.07 | GP: 0.68\n"
     ]
    },
    {
     "name": "stderr",
     "output_type": "stream",
     "text": [
      "default</home/mati/Desktop/workplace/datasets/CelebA-img>:   1%|          | 1600/150000 [23:21<36:06:30,  1.14it/s]"
     ]
    },
    {
     "name": "stdout",
     "output_type": "stream",
     "text": [
      "G: 0.06 | D: 1.32 | GP: 0.89\n"
     ]
    },
    {
     "name": "stderr",
     "output_type": "stream",
     "text": [
      "default</home/mati/Desktop/workplace/datasets/CelebA-img>:   1%|          | 1650/150000 [24:04<36:04:45,  1.14it/s]"
     ]
    },
    {
     "name": "stdout",
     "output_type": "stream",
     "text": [
      "G: -0.32 | D: 1.54 | GP: 0.26\n"
     ]
    },
    {
     "name": "stderr",
     "output_type": "stream",
     "text": [
      "default</home/mati/Desktop/workplace/datasets/CelebA-img>:   1%|          | 1700/150000 [24:46<36:01:28,  1.14it/s]"
     ]
    },
    {
     "name": "stdout",
     "output_type": "stream",
     "text": [
      "G: 0.28 | D: 1.19 | GP: 1.70\n"
     ]
    },
    {
     "name": "stderr",
     "output_type": "stream",
     "text": [
      "default</home/mati/Desktop/workplace/datasets/CelebA-img>:   1%|          | 1750/150000 [25:29<35:59:54,  1.14it/s]"
     ]
    },
    {
     "name": "stdout",
     "output_type": "stream",
     "text": [
      "G: 0.76 | D: 1.84 | GP: 0.21\n"
     ]
    },
    {
     "name": "stderr",
     "output_type": "stream",
     "text": [
      "default</home/mati/Desktop/workplace/datasets/CelebA-img>:   1%|          | 1800/150000 [26:12<35:57:54,  1.14it/s]"
     ]
    },
    {
     "name": "stdout",
     "output_type": "stream",
     "text": [
      "G: 0.71 | D: 1.11 | GP: 0.04\n"
     ]
    },
    {
     "name": "stderr",
     "output_type": "stream",
     "text": [
      "default</home/mati/Desktop/workplace/datasets/CelebA-img>:   1%|          | 1850/150000 [26:57<35:58:57,  1.14it/s]"
     ]
    },
    {
     "name": "stdout",
     "output_type": "stream",
     "text": [
      "G: 0.80 | D: 1.59 | GP: 1.62\n"
     ]
    },
    {
     "name": "stderr",
     "output_type": "stream",
     "text": [
      "default</home/mati/Desktop/workplace/datasets/CelebA-img>:   1%|▏         | 1900/150000 [27:40<35:57:11,  1.14it/s]"
     ]
    },
    {
     "name": "stdout",
     "output_type": "stream",
     "text": [
      "G: 0.47 | D: 1.86 | GP: 0.74\n"
     ]
    },
    {
     "name": "stderr",
     "output_type": "stream",
     "text": [
      "default</home/mati/Desktop/workplace/datasets/CelebA-img>:   1%|▏         | 1950/150000 [28:24<35:57:15,  1.14it/s]"
     ]
    },
    {
     "name": "stdout",
     "output_type": "stream",
     "text": [
      "G: 0.80 | D: 1.64 | GP: 0.09\n"
     ]
    },
    {
     "name": "stderr",
     "output_type": "stream",
     "text": [
      "default</home/mati/Desktop/workplace/datasets/CelebA-img>:   1%|▏         | 2000/150000 [29:07<35:54:49,  1.14it/s]"
     ]
    },
    {
     "name": "stdout",
     "output_type": "stream",
     "text": [
      "G: 0.24 | D: 1.14 | GP: 0.10\n"
     ]
    },
    {
     "name": "stderr",
     "output_type": "stream",
     "text": [
      "default</home/mati/Desktop/workplace/datasets/CelebA-img>:   1%|▏         | 2050/150000 [29:50<35:54:05,  1.14it/s]"
     ]
    },
    {
     "name": "stdout",
     "output_type": "stream",
     "text": [
      "G: -0.54 | D: 1.11 | GP: 1.55\n"
     ]
    },
    {
     "name": "stderr",
     "output_type": "stream",
     "text": [
      "default</home/mati/Desktop/workplace/datasets/CelebA-img>:   1%|▏         | 2100/150000 [30:32<35:51:18,  1.15it/s]"
     ]
    },
    {
     "name": "stdout",
     "output_type": "stream",
     "text": [
      "G: -0.09 | D: 1.82 | GP: 0.09\n"
     ]
    },
    {
     "name": "stderr",
     "output_type": "stream",
     "text": [
      "default</home/mati/Desktop/workplace/datasets/CelebA-img>:   1%|▏         | 2150/150000 [31:15<35:50:00,  1.15it/s]"
     ]
    },
    {
     "name": "stdout",
     "output_type": "stream",
     "text": [
      "G: 0.80 | D: 1.39 | GP: 0.08\n"
     ]
    },
    {
     "name": "stderr",
     "output_type": "stream",
     "text": [
      "default</home/mati/Desktop/workplace/datasets/CelebA-img>:   1%|▏         | 2200/150000 [31:57<35:47:33,  1.15it/s]"
     ]
    },
    {
     "name": "stdout",
     "output_type": "stream",
     "text": [
      "G: -0.41 | D: 1.83 | GP: 0.10\n"
     ]
    },
    {
     "name": "stderr",
     "output_type": "stream",
     "text": [
      "default</home/mati/Desktop/workplace/datasets/CelebA-img>:   2%|▏         | 2250/150000 [32:41<35:46:18,  1.15it/s]"
     ]
    },
    {
     "name": "stdout",
     "output_type": "stream",
     "text": [
      "G: 2.23 | D: 0.83 | GP: 1.86\n"
     ]
    },
    {
     "name": "stderr",
     "output_type": "stream",
     "text": [
      "default</home/mati/Desktop/workplace/datasets/CelebA-img>:   2%|▏         | 2300/150000 [33:23<35:43:53,  1.15it/s]"
     ]
    },
    {
     "name": "stdout",
     "output_type": "stream",
     "text": [
      "G: 2.85 | D: 0.95 | GP: 0.03\n"
     ]
    },
    {
     "name": "stderr",
     "output_type": "stream",
     "text": [
      "default</home/mati/Desktop/workplace/datasets/CelebA-img>:   2%|▏         | 2350/150000 [34:06<35:42:45,  1.15it/s]"
     ]
    },
    {
     "name": "stdout",
     "output_type": "stream",
     "text": [
      "G: 1.22 | D: 1.54 | GP: 2.04\n"
     ]
    },
    {
     "name": "stderr",
     "output_type": "stream",
     "text": [
      "default</home/mati/Desktop/workplace/datasets/CelebA-img>:   2%|▏         | 2400/150000 [34:48<35:40:30,  1.15it/s]"
     ]
    },
    {
     "name": "stdout",
     "output_type": "stream",
     "text": [
      "G: 0.30 | D: 2.21 | GP: 0.16\n"
     ]
    },
    {
     "name": "stderr",
     "output_type": "stream",
     "text": [
      "default</home/mati/Desktop/workplace/datasets/CelebA-img>:   2%|▏         | 2450/150000 [35:31<35:39:24,  1.15it/s]"
     ]
    },
    {
     "name": "stdout",
     "output_type": "stream",
     "text": [
      "G: -0.28 | D: 1.73 | GP: 81.24\n"
     ]
    },
    {
     "name": "stderr",
     "output_type": "stream",
     "text": [
      "default</home/mati/Desktop/workplace/datasets/CelebA-img>:   2%|▏         | 2500/150000 [36:13<35:37:35,  1.15it/s]"
     ]
    },
    {
     "name": "stdout",
     "output_type": "stream",
     "text": [
      "G: 0.62 | D: 1.87 | GP: 0.01\n"
     ]
    },
    {
     "name": "stderr",
     "output_type": "stream",
     "text": [
      "default</home/mati/Desktop/workplace/datasets/CelebA-img>:   2%|▏         | 2550/150000 [36:56<35:36:09,  1.15it/s]"
     ]
    },
    {
     "name": "stdout",
     "output_type": "stream",
     "text": [
      "G: 0.57 | D: 1.89 | GP: 0.79\n"
     ]
    },
    {
     "name": "stderr",
     "output_type": "stream",
     "text": [
      "default</home/mati/Desktop/workplace/datasets/CelebA-img>:   2%|▏         | 2600/150000 [37:38<35:34:05,  1.15it/s]"
     ]
    },
    {
     "name": "stdout",
     "output_type": "stream",
     "text": [
      "G: 0.95 | D: 1.79 | GP: 1.77\n"
     ]
    },
    {
     "name": "stderr",
     "output_type": "stream",
     "text": [
      "default</home/mati/Desktop/workplace/datasets/CelebA-img>:   2%|▏         | 2650/150000 [38:21<35:33:16,  1.15it/s]"
     ]
    },
    {
     "name": "stdout",
     "output_type": "stream",
     "text": [
      "G: 0.74 | D: 1.18 | GP: 2.27\n"
     ]
    },
    {
     "name": "stderr",
     "output_type": "stream",
     "text": [
      "default</home/mati/Desktop/workplace/datasets/CelebA-img>:   2%|▏         | 2700/150000 [39:04<35:31:24,  1.15it/s]"
     ]
    },
    {
     "name": "stdout",
     "output_type": "stream",
     "text": [
      "G: 2.60 | D: 0.71 | GP: 1.75\n"
     ]
    },
    {
     "name": "stderr",
     "output_type": "stream",
     "text": [
      "default</home/mati/Desktop/workplace/datasets/CelebA-img>:   2%|▏         | 2750/150000 [39:47<35:30:14,  1.15it/s]"
     ]
    },
    {
     "name": "stdout",
     "output_type": "stream",
     "text": [
      "G: 4.92 | D: 0.29 | GP: 0.25\n"
     ]
    },
    {
     "name": "stderr",
     "output_type": "stream",
     "text": [
      "default</home/mati/Desktop/workplace/datasets/CelebA-img>:   2%|▏         | 2800/150000 [40:29<35:28:22,  1.15it/s]"
     ]
    },
    {
     "name": "stdout",
     "output_type": "stream",
     "text": [
      "G: -0.30 | D: 1.56 | GP: 1.68\n"
     ]
    },
    {
     "name": "stderr",
     "output_type": "stream",
     "text": [
      "default</home/mati/Desktop/workplace/datasets/CelebA-img>:   2%|▏         | 2850/150000 [41:11<35:27:08,  1.15it/s]"
     ]
    },
    {
     "name": "stdout",
     "output_type": "stream",
     "text": [
      "G: -0.29 | D: 2.70 | GP: 0.51\n"
     ]
    },
    {
     "name": "stderr",
     "output_type": "stream",
     "text": [
      "default</home/mati/Desktop/workplace/datasets/CelebA-img>:   2%|▏         | 2900/150000 [41:53<35:25:19,  1.15it/s]"
     ]
    },
    {
     "name": "stdout",
     "output_type": "stream",
     "text": [
      "G: -0.58 | D: 1.92 | GP: 2.63\n"
     ]
    },
    {
     "name": "stderr",
     "output_type": "stream",
     "text": [
      "default</home/mati/Desktop/workplace/datasets/CelebA-img>:   2%|▏         | 2950/150000 [42:38<35:25:46,  1.15it/s]"
     ]
    },
    {
     "name": "stdout",
     "output_type": "stream",
     "text": [
      "G: -0.24 | D: 1.94 | GP: 0.25\n"
     ]
    },
    {
     "name": "stderr",
     "output_type": "stream",
     "text": [
      "default</home/mati/Desktop/workplace/datasets/CelebA-img>:   2%|▏         | 3000/150000 [43:21<35:24:29,  1.15it/s]"
     ]
    },
    {
     "name": "stdout",
     "output_type": "stream",
     "text": [
      "G: -0.03 | D: 1.76 | GP: 0.45\n"
     ]
    },
    {
     "name": "stderr",
     "output_type": "stream",
     "text": [
      "default</home/mati/Desktop/workplace/datasets/CelebA-img>:   2%|▏         | 3050/150000 [44:08<35:26:50,  1.15it/s]"
     ]
    },
    {
     "name": "stdout",
     "output_type": "stream",
     "text": [
      "G: 0.92 | D: 1.62 | GP: 1.00\n"
     ]
    },
    {
     "name": "stderr",
     "output_type": "stream",
     "text": [
      "default</home/mati/Desktop/workplace/datasets/CelebA-img>:   2%|▏         | 3100/150000 [44:51<35:25:48,  1.15it/s]"
     ]
    },
    {
     "name": "stdout",
     "output_type": "stream",
     "text": [
      "G: 0.90 | D: 1.35 | GP: 1.45\n"
     ]
    },
    {
     "name": "stderr",
     "output_type": "stream",
     "text": [
      "default</home/mati/Desktop/workplace/datasets/CelebA-img>:   2%|▏         | 3150/150000 [45:34<35:24:34,  1.15it/s]"
     ]
    },
    {
     "name": "stdout",
     "output_type": "stream",
     "text": [
      "G: 1.48 | D: 0.88 | GP: 0.02\n"
     ]
    },
    {
     "name": "stderr",
     "output_type": "stream",
     "text": [
      "default</home/mati/Desktop/workplace/datasets/CelebA-img>:   2%|▏         | 3200/150000 [46:16<35:22:45,  1.15it/s]"
     ]
    },
    {
     "name": "stdout",
     "output_type": "stream",
     "text": [
      "G: 0.43 | D: 4.10 | GP: 0.14\n"
     ]
    },
    {
     "name": "stderr",
     "output_type": "stream",
     "text": [
      "default</home/mati/Desktop/workplace/datasets/CelebA-img>:   2%|▏         | 3250/150000 [46:59<35:21:35,  1.15it/s]"
     ]
    },
    {
     "name": "stdout",
     "output_type": "stream",
     "text": [
      "G: 0.04 | D: 1.95 | GP: 3.52\n"
     ]
    },
    {
     "name": "stderr",
     "output_type": "stream",
     "text": [
      "default</home/mati/Desktop/workplace/datasets/CelebA-img>:   2%|▏         | 3300/150000 [47:41<35:20:07,  1.15it/s]"
     ]
    },
    {
     "name": "stdout",
     "output_type": "stream",
     "text": [
      "G: -0.27 | D: 2.40 | GP: 0.54\n"
     ]
    },
    {
     "name": "stderr",
     "output_type": "stream",
     "text": [
      "default</home/mati/Desktop/workplace/datasets/CelebA-img>:   2%|▏         | 3350/150000 [48:24<35:19:06,  1.15it/s]"
     ]
    },
    {
     "name": "stdout",
     "output_type": "stream",
     "text": [
      "G: -1.47 | D: 0.97 | GP: 0.26\n"
     ]
    },
    {
     "name": "stderr",
     "output_type": "stream",
     "text": [
      "default</home/mati/Desktop/workplace/datasets/CelebA-img>:   2%|▏         | 3400/150000 [49:06<35:17:29,  1.15it/s]"
     ]
    },
    {
     "name": "stdout",
     "output_type": "stream",
     "text": [
      "G: 0.76 | D: 1.72 | GP: 0.83\n"
     ]
    },
    {
     "name": "stderr",
     "output_type": "stream",
     "text": [
      "default</home/mati/Desktop/workplace/datasets/CelebA-img>:   2%|▏         | 3450/150000 [49:49<35:16:30,  1.15it/s]"
     ]
    },
    {
     "name": "stdout",
     "output_type": "stream",
     "text": [
      "G: 0.28 | D: 1.43 | GP: 0.69\n"
     ]
    },
    {
     "name": "stderr",
     "output_type": "stream",
     "text": [
      "default</home/mati/Desktop/workplace/datasets/CelebA-img>:   2%|▏         | 3500/150000 [50:31<35:14:52,  1.15it/s]"
     ]
    },
    {
     "name": "stdout",
     "output_type": "stream",
     "text": [
      "G: -0.46 | D: 2.04 | GP: 0.74\n"
     ]
    },
    {
     "name": "stderr",
     "output_type": "stream",
     "text": [
      "default</home/mati/Desktop/workplace/datasets/CelebA-img>:   2%|▏         | 3550/150000 [51:14<35:14:05,  1.15it/s]"
     ]
    },
    {
     "name": "stdout",
     "output_type": "stream",
     "text": [
      "G: 0.39 | D: 1.81 | GP: 12.63\n"
     ]
    },
    {
     "name": "stderr",
     "output_type": "stream",
     "text": [
      "default</home/mati/Desktop/workplace/datasets/CelebA-img>:   2%|▏         | 3600/150000 [51:56<35:12:35,  1.15it/s]"
     ]
    },
    {
     "name": "stdout",
     "output_type": "stream",
     "text": [
      "G: 1.21 | D: 0.86 | GP: 1.20\n"
     ]
    },
    {
     "name": "stderr",
     "output_type": "stream",
     "text": [
      "default</home/mati/Desktop/workplace/datasets/CelebA-img>:   2%|▏         | 3650/150000 [52:39<35:11:40,  1.16it/s]"
     ]
    },
    {
     "name": "stdout",
     "output_type": "stream",
     "text": [
      "G: 0.37 | D: 0.98 | GP: 5.57\n"
     ]
    },
    {
     "name": "stderr",
     "output_type": "stream",
     "text": [
      "default</home/mati/Desktop/workplace/datasets/CelebA-img>:   2%|▏         | 3700/150000 [53:22<35:10:09,  1.16it/s]"
     ]
    },
    {
     "name": "stdout",
     "output_type": "stream",
     "text": [
      "G: 0.07 | D: 2.28 | GP: 11.96\n"
     ]
    },
    {
     "name": "stderr",
     "output_type": "stream",
     "text": [
      "default</home/mati/Desktop/workplace/datasets/CelebA-img>:   2%|▎         | 3750/150000 [54:04<35:09:10,  1.16it/s]"
     ]
    },
    {
     "name": "stdout",
     "output_type": "stream",
     "text": [
      "G: 1.87 | D: 0.76 | GP: 8.58\n"
     ]
    },
    {
     "name": "stderr",
     "output_type": "stream",
     "text": [
      "default</home/mati/Desktop/workplace/datasets/CelebA-img>:   3%|▎         | 3800/150000 [54:47<35:07:45,  1.16it/s]"
     ]
    },
    {
     "name": "stdout",
     "output_type": "stream",
     "text": [
      "G: 0.80 | D: 2.11 | GP: 1.69\n"
     ]
    },
    {
     "name": "stderr",
     "output_type": "stream",
     "text": [
      "default</home/mati/Desktop/workplace/datasets/CelebA-img>:   3%|▎         | 3850/150000 [55:29<35:06:48,  1.16it/s]"
     ]
    },
    {
     "name": "stdout",
     "output_type": "stream",
     "text": [
      "G: 0.35 | D: 2.07 | GP: 1.21\n"
     ]
    },
    {
     "name": "stderr",
     "output_type": "stream",
     "text": [
      "default</home/mati/Desktop/workplace/datasets/CelebA-img>:   3%|▎         | 3900/150000 [56:12<35:05:27,  1.16it/s]"
     ]
    },
    {
     "name": "stdout",
     "output_type": "stream",
     "text": [
      "G: -0.16 | D: 1.65 | GP: 0.20\n"
     ]
    },
    {
     "name": "stderr",
     "output_type": "stream",
     "text": [
      "default</home/mati/Desktop/workplace/datasets/CelebA-img>:   3%|▎         | 3950/150000 [56:55<35:04:30,  1.16it/s]"
     ]
    },
    {
     "name": "stdout",
     "output_type": "stream",
     "text": [
      "G: -1.53 | D: 2.08 | GP: 0.57\n"
     ]
    },
    {
     "name": "stderr",
     "output_type": "stream",
     "text": [
      "default</home/mati/Desktop/workplace/datasets/CelebA-img>:   3%|▎         | 4000/150000 [57:37<35:03:20,  1.16it/s]"
     ]
    },
    {
     "name": "stdout",
     "output_type": "stream",
     "text": [
      "G: 0.18 | D: 1.77 | GP: 0.10\n"
     ]
    },
    {
     "name": "stderr",
     "output_type": "stream",
     "text": [
      "default</home/mati/Desktop/workplace/datasets/CelebA-img>:   3%|▎         | 4050/150000 [58:21<35:03:01,  1.16it/s]"
     ]
    },
    {
     "name": "stdout",
     "output_type": "stream",
     "text": [
      "G: -0.65 | D: 1.86 | GP: 4.31\n"
     ]
    },
    {
     "name": "stderr",
     "output_type": "stream",
     "text": [
      "default</home/mati/Desktop/workplace/datasets/CelebA-img>:   3%|▎         | 4100/150000 [59:03<35:01:38,  1.16it/s]"
     ]
    },
    {
     "name": "stdout",
     "output_type": "stream",
     "text": [
      "G: 0.89 | D: 1.55 | GP: 0.64\n"
     ]
    },
    {
     "name": "stderr",
     "output_type": "stream",
     "text": [
      "default</home/mati/Desktop/workplace/datasets/CelebA-img>:   3%|▎         | 4150/150000 [59:46<35:00:44,  1.16it/s]"
     ]
    },
    {
     "name": "stdout",
     "output_type": "stream",
     "text": [
      "G: -0.59 | D: 2.83 | GP: 0.03\n"
     ]
    },
    {
     "name": "stderr",
     "output_type": "stream",
     "text": [
      "default</home/mati/Desktop/workplace/datasets/CelebA-img>:   3%|▎         | 4200/150000 [1:00:28<34:59:20,  1.16it/s]"
     ]
    },
    {
     "name": "stdout",
     "output_type": "stream",
     "text": [
      "G: 0.51 | D: 2.14 | GP: 0.18\n"
     ]
    },
    {
     "name": "stderr",
     "output_type": "stream",
     "text": [
      "default</home/mati/Desktop/workplace/datasets/CelebA-img>:   3%|▎         | 4250/150000 [1:01:11<34:58:25,  1.16it/s]"
     ]
    },
    {
     "name": "stdout",
     "output_type": "stream",
     "text": [
      "G: 0.65 | D: 1.91 | GP: 0.11\n"
     ]
    },
    {
     "name": "stderr",
     "output_type": "stream",
     "text": [
      "default</home/mati/Desktop/workplace/datasets/CelebA-img>:   3%|▎         | 4300/150000 [1:01:53<34:57:04,  1.16it/s]"
     ]
    },
    {
     "name": "stdout",
     "output_type": "stream",
     "text": [
      "G: 0.70 | D: 1.48 | GP: 0.12\n"
     ]
    },
    {
     "name": "stderr",
     "output_type": "stream",
     "text": [
      "default</home/mati/Desktop/workplace/datasets/CelebA-img>:   3%|▎         | 4350/150000 [1:02:36<34:56:08,  1.16it/s]"
     ]
    },
    {
     "name": "stdout",
     "output_type": "stream",
     "text": [
      "G: -0.60 | D: 1.44 | GP: 1.77\n"
     ]
    },
    {
     "name": "stderr",
     "output_type": "stream",
     "text": [
      "default</home/mati/Desktop/workplace/datasets/CelebA-img>:   3%|▎         | 4400/150000 [1:03:18<34:54:45,  1.16it/s]"
     ]
    },
    {
     "name": "stdout",
     "output_type": "stream",
     "text": [
      "G: 0.20 | D: 2.19 | GP: 0.23\n"
     ]
    },
    {
     "name": "stderr",
     "output_type": "stream",
     "text": [
      "default</home/mati/Desktop/workplace/datasets/CelebA-img>:   3%|▎         | 4450/150000 [1:04:01<34:53:52,  1.16it/s]"
     ]
    },
    {
     "name": "stdout",
     "output_type": "stream",
     "text": [
      "G: -0.21 | D: 1.94 | GP: 0.06\n"
     ]
    },
    {
     "name": "stderr",
     "output_type": "stream",
     "text": [
      "default</home/mati/Desktop/workplace/datasets/CelebA-img>:   3%|▎         | 4500/150000 [1:04:43<34:52:34,  1.16it/s]"
     ]
    },
    {
     "name": "stdout",
     "output_type": "stream",
     "text": [
      "G: 0.27 | D: 1.65 | GP: 0.32\n"
     ]
    },
    {
     "name": "stderr",
     "output_type": "stream",
     "text": [
      "default</home/mati/Desktop/workplace/datasets/CelebA-img>:   3%|▎         | 4550/150000 [1:05:26<34:51:43,  1.16it/s]"
     ]
    },
    {
     "name": "stdout",
     "output_type": "stream",
     "text": [
      "G: -0.50 | D: 1.73 | GP: 0.78\n"
     ]
    },
    {
     "name": "stderr",
     "output_type": "stream",
     "text": [
      "default</home/mati/Desktop/workplace/datasets/CelebA-img>:   3%|▎         | 4600/150000 [1:06:08<34:50:26,  1.16it/s]"
     ]
    },
    {
     "name": "stdout",
     "output_type": "stream",
     "text": [
      "G: -0.62 | D: 1.74 | GP: 0.43\n"
     ]
    },
    {
     "name": "stderr",
     "output_type": "stream",
     "text": [
      "default</home/mati/Desktop/workplace/datasets/CelebA-img>:   3%|▎         | 4650/150000 [1:06:51<34:49:39,  1.16it/s]"
     ]
    },
    {
     "name": "stdout",
     "output_type": "stream",
     "text": [
      "G: 0.00 | D: 1.79 | GP: 0.20\n"
     ]
    },
    {
     "name": "stderr",
     "output_type": "stream",
     "text": [
      "default</home/mati/Desktop/workplace/datasets/CelebA-img>:   3%|▎         | 4700/150000 [1:07:33<34:48:23,  1.16it/s]"
     ]
    },
    {
     "name": "stdout",
     "output_type": "stream",
     "text": [
      "G: -0.56 | D: 1.91 | GP: 0.09\n"
     ]
    },
    {
     "name": "stderr",
     "output_type": "stream",
     "text": [
      "default</home/mati/Desktop/workplace/datasets/CelebA-img>:   3%|▎         | 4750/150000 [1:08:15<34:47:30,  1.16it/s]"
     ]
    },
    {
     "name": "stdout",
     "output_type": "stream",
     "text": [
      "G: 0.81 | D: 1.57 | GP: 0.77\n"
     ]
    },
    {
     "name": "stderr",
     "output_type": "stream",
     "text": [
      "default</home/mati/Desktop/workplace/datasets/CelebA-img>:   3%|▎         | 4800/150000 [1:08:58<34:46:15,  1.16it/s]"
     ]
    },
    {
     "name": "stdout",
     "output_type": "stream",
     "text": [
      "G: 0.41 | D: 1.69 | GP: 0.21\n"
     ]
    },
    {
     "name": "stderr",
     "output_type": "stream",
     "text": [
      "default</home/mati/Desktop/workplace/datasets/CelebA-img>:   3%|▎         | 4850/150000 [1:09:40<34:45:22,  1.16it/s]"
     ]
    },
    {
     "name": "stdout",
     "output_type": "stream",
     "text": [
      "G: -0.37 | D: 1.81 | GP: 1.70\n"
     ]
    },
    {
     "name": "stderr",
     "output_type": "stream",
     "text": [
      "default</home/mati/Desktop/workplace/datasets/CelebA-img>:   3%|▎         | 4900/150000 [1:10:22<34:44:09,  1.16it/s]"
     ]
    },
    {
     "name": "stdout",
     "output_type": "stream",
     "text": [
      "G: -0.10 | D: 2.02 | GP: 0.33\n"
     ]
    },
    {
     "name": "stderr",
     "output_type": "stream",
     "text": [
      "default</home/mati/Desktop/workplace/datasets/CelebA-img>:   3%|▎         | 4950/150000 [1:11:05<34:43:16,  1.16it/s]"
     ]
    },
    {
     "name": "stdout",
     "output_type": "stream",
     "text": [
      "G: 0.12 | D: 1.67 | GP: 0.19\n"
     ]
    },
    {
     "name": "stderr",
     "output_type": "stream",
     "text": [
      "default</home/mati/Desktop/workplace/datasets/CelebA-img>:   3%|▎         | 5000/150000 [1:11:48<34:42:14,  1.16it/s]"
     ]
    },
    {
     "name": "stdout",
     "output_type": "stream",
     "text": [
      "G: -0.15 | D: 1.76 | GP: 1.55\n"
     ]
    },
    {
     "name": "stderr",
     "output_type": "stream",
     "text": [
      "default</home/mati/Desktop/workplace/datasets/CelebA-img>:   3%|▎         | 5050/150000 [1:12:32<34:41:57,  1.16it/s]"
     ]
    },
    {
     "name": "stdout",
     "output_type": "stream",
     "text": [
      "G: 9.89 | D: 2.26 | GP: 1.25 | PL: 0.08\n"
     ]
    },
    {
     "name": "stderr",
     "output_type": "stream",
     "text": [
      "default</home/mati/Desktop/workplace/datasets/CelebA-img>:   3%|▎         | 5100/150000 [1:13:16<34:41:43,  1.16it/s]"
     ]
    },
    {
     "name": "stdout",
     "output_type": "stream",
     "text": [
      "G: -0.39 | D: 2.03 | GP: 1.16 | PL: 0.09\n"
     ]
    },
    {
     "name": "stderr",
     "output_type": "stream",
     "text": [
      "default</home/mati/Desktop/workplace/datasets/CelebA-img>:   3%|▎         | 5150/150000 [1:14:00<34:41:22,  1.16it/s]"
     ]
    },
    {
     "name": "stdout",
     "output_type": "stream",
     "text": [
      "G: 0.09 | D: 1.87 | GP: 0.40 | PL: 0.09\n"
     ]
    },
    {
     "name": "stderr",
     "output_type": "stream",
     "text": [
      "default</home/mati/Desktop/workplace/datasets/CelebA-img>:   3%|▎         | 5200/150000 [1:14:43<34:40:53,  1.16it/s]"
     ]
    },
    {
     "name": "stdout",
     "output_type": "stream",
     "text": [
      "G: 5.34 | D: 0.11 | GP: 2.09 | PL: 0.09\n"
     ]
    },
    {
     "name": "stderr",
     "output_type": "stream",
     "text": [
      "default</home/mati/Desktop/workplace/datasets/CelebA-img>:   4%|▎         | 5250/150000 [1:15:28<34:40:48,  1.16it/s]"
     ]
    },
    {
     "name": "stdout",
     "output_type": "stream",
     "text": [
      "G: -0.27 | D: 1.84 | GP: 2.17 | PL: 0.09\n"
     ]
    },
    {
     "name": "stderr",
     "output_type": "stream",
     "text": [
      "default</home/mati/Desktop/workplace/datasets/CelebA-img>:   4%|▎         | 5300/150000 [1:16:11<34:39:58,  1.16it/s]"
     ]
    },
    {
     "name": "stdout",
     "output_type": "stream",
     "text": [
      "G: 0.98 | D: 1.10 | GP: 1.24 | PL: 0.09\n"
     ]
    },
    {
     "name": "stderr",
     "output_type": "stream",
     "text": [
      "default</home/mati/Desktop/workplace/datasets/CelebA-img>:   4%|▎         | 5350/150000 [1:16:57<34:40:40,  1.16it/s]"
     ]
    },
    {
     "name": "stdout",
     "output_type": "stream",
     "text": [
      "G: -0.16 | D: 1.83 | GP: 0.16 | PL: 0.09\n"
     ]
    },
    {
     "name": "stderr",
     "output_type": "stream",
     "text": [
      "default</home/mati/Desktop/workplace/datasets/CelebA-img>:   4%|▎         | 5400/150000 [1:17:41<34:40:17,  1.16it/s]"
     ]
    },
    {
     "name": "stdout",
     "output_type": "stream",
     "text": [
      "G: 3.57 | D: 0.96 | GP: 0.68 | PL: 0.09\n"
     ]
    },
    {
     "name": "stderr",
     "output_type": "stream",
     "text": [
      "default</home/mati/Desktop/workplace/datasets/CelebA-img>:   4%|▎         | 5450/150000 [1:18:25<34:40:08,  1.16it/s]"
     ]
    },
    {
     "name": "stdout",
     "output_type": "stream",
     "text": [
      "G: 0.78 | D: 1.77 | GP: 0.32 | PL: 0.09\n"
     ]
    },
    {
     "name": "stderr",
     "output_type": "stream",
     "text": [
      "default</home/mati/Desktop/workplace/datasets/CelebA-img>:   4%|▎         | 5500/150000 [1:19:08<34:39:19,  1.16it/s]"
     ]
    },
    {
     "name": "stdout",
     "output_type": "stream",
     "text": [
      "G: 3.90 | D: 1.51 | GP: 0.13 | PL: 0.09\n"
     ]
    },
    {
     "name": "stderr",
     "output_type": "stream",
     "text": [
      "default</home/mati/Desktop/workplace/datasets/CelebA-img>:   4%|▎         | 5550/150000 [1:19:52<34:39:05,  1.16it/s]"
     ]
    },
    {
     "name": "stdout",
     "output_type": "stream",
     "text": [
      "G: 0.19 | D: 1.64 | GP: 0.38 | PL: 0.09\n"
     ]
    },
    {
     "name": "stderr",
     "output_type": "stream",
     "text": [
      "default</home/mati/Desktop/workplace/datasets/CelebA-img>:   4%|▎         | 5600/150000 [1:20:35<34:38:13,  1.16it/s]"
     ]
    },
    {
     "name": "stdout",
     "output_type": "stream",
     "text": [
      "G: 0.26 | D: 1.81 | GP: 0.09 | PL: 0.09\n"
     ]
    },
    {
     "name": "stderr",
     "output_type": "stream",
     "text": [
      "default</home/mati/Desktop/workplace/datasets/CelebA-img>:   4%|▍         | 5650/150000 [1:21:20<34:38:01,  1.16it/s]"
     ]
    },
    {
     "name": "stdout",
     "output_type": "stream",
     "text": [
      "G: 0.72 | D: 0.79 | GP: 20.83 | PL: 0.09\n"
     ]
    },
    {
     "name": "stderr",
     "output_type": "stream",
     "text": [
      "default</home/mati/Desktop/workplace/datasets/CelebA-img>:   4%|▍         | 5700/150000 [1:22:04<34:37:38,  1.16it/s]"
     ]
    },
    {
     "name": "stdout",
     "output_type": "stream",
     "text": [
      "G: -0.08 | D: 1.42 | GP: 0.02 | PL: 0.09\n"
     ]
    },
    {
     "name": "stderr",
     "output_type": "stream",
     "text": [
      "default</home/mati/Desktop/workplace/datasets/CelebA-img>:   4%|▍         | 5750/150000 [1:22:47<34:37:04,  1.16it/s]"
     ]
    },
    {
     "name": "stdout",
     "output_type": "stream",
     "text": [
      "G: -0.84 | D: 1.96 | GP: 0.66 | PL: 0.09\n"
     ]
    },
    {
     "name": "stderr",
     "output_type": "stream",
     "text": [
      "default</home/mati/Desktop/workplace/datasets/CelebA-img>:   4%|▍         | 5800/150000 [1:23:31<34:36:31,  1.16it/s]"
     ]
    },
    {
     "name": "stdout",
     "output_type": "stream",
     "text": [
      "G: 0.82 | D: 1.91 | GP: 2.24 | PL: 0.09\n"
     ]
    },
    {
     "name": "stderr",
     "output_type": "stream",
     "text": [
      "default</home/mati/Desktop/workplace/datasets/CelebA-img>:   4%|▍         | 5850/150000 [1:24:14<34:35:58,  1.16it/s]"
     ]
    },
    {
     "name": "stdout",
     "output_type": "stream",
     "text": [
      "G: 0.51 | D: 1.49 | GP: 0.64 | PL: 0.09\n"
     ]
    },
    {
     "name": "stderr",
     "output_type": "stream",
     "text": [
      "default</home/mati/Desktop/workplace/datasets/CelebA-img>:   4%|▍         | 5900/150000 [1:24:58<34:35:24,  1.16it/s]"
     ]
    },
    {
     "name": "stdout",
     "output_type": "stream",
     "text": [
      "G: -0.14 | D: 1.83 | GP: 0.21 | PL: 0.09\n"
     ]
    },
    {
     "name": "stderr",
     "output_type": "stream",
     "text": [
      "default</home/mati/Desktop/workplace/datasets/CelebA-img>:   4%|▍         | 5950/150000 [1:25:42<34:34:50,  1.16it/s]"
     ]
    },
    {
     "name": "stdout",
     "output_type": "stream",
     "text": [
      "G: 0.26 | D: 1.75 | GP: 1.05 | PL: 0.09\n"
     ]
    },
    {
     "name": "stderr",
     "output_type": "stream",
     "text": [
      "default</home/mati/Desktop/workplace/datasets/CelebA-img>:   4%|▍         | 6000/150000 [1:26:26<34:34:31,  1.16it/s]"
     ]
    },
    {
     "name": "stdout",
     "output_type": "stream",
     "text": [
      "G: -0.20 | D: 1.92 | GP: 2.11 | PL: 0.09\n"
     ]
    },
    {
     "name": "stderr",
     "output_type": "stream",
     "text": [
      "default</home/mati/Desktop/workplace/datasets/CelebA-img>:   4%|▍         | 6050/150000 [1:27:11<34:34:40,  1.16it/s]"
     ]
    },
    {
     "name": "stdout",
     "output_type": "stream",
     "text": [
      "G: 32.57 | D: 1.14 | GP: 1.46 | PL: 0.09\n"
     ]
    },
    {
     "name": "stderr",
     "output_type": "stream",
     "text": [
      "default</home/mati/Desktop/workplace/datasets/CelebA-img>:   4%|▍         | 6100/150000 [1:27:54<34:33:44,  1.16it/s]"
     ]
    },
    {
     "name": "stdout",
     "output_type": "stream",
     "text": [
      "G: -1.07 | D: 0.89 | GP: 1.81 | PL: 0.09\n"
     ]
    },
    {
     "name": "stderr",
     "output_type": "stream",
     "text": [
      "default</home/mati/Desktop/workplace/datasets/CelebA-img>:   4%|▍         | 6150/150000 [1:28:38<34:33:30,  1.16it/s]"
     ]
    },
    {
     "name": "stdout",
     "output_type": "stream",
     "text": [
      "G: -1.69 | D: 1.16 | GP: 0.51 | PL: 0.09\n"
     ]
    },
    {
     "name": "stderr",
     "output_type": "stream",
     "text": [
      "default</home/mati/Desktop/workplace/datasets/CelebA-img>:   4%|▍         | 6200/150000 [1:29:21<34:32:37,  1.16it/s]"
     ]
    },
    {
     "name": "stdout",
     "output_type": "stream",
     "text": [
      "G: 0.22 | D: 0.28 | GP: 2.32 | PL: 0.09\n"
     ]
    },
    {
     "name": "stderr",
     "output_type": "stream",
     "text": [
      "default</home/mati/Desktop/workplace/datasets/CelebA-img>:   4%|▍         | 6250/150000 [1:30:06<34:32:23,  1.16it/s]"
     ]
    },
    {
     "name": "stdout",
     "output_type": "stream",
     "text": [
      "G: 0.01 | D: 1.66 | GP: 0.77 | PL: 0.09\n"
     ]
    },
    {
     "name": "stderr",
     "output_type": "stream",
     "text": [
      "default</home/mati/Desktop/workplace/datasets/CelebA-img>:   4%|▍         | 6300/150000 [1:30:49<34:31:31,  1.16it/s]"
     ]
    },
    {
     "name": "stdout",
     "output_type": "stream",
     "text": [
      "G: 0.58 | D: 1.66 | GP: 0.69 | PL: 0.09\n"
     ]
    },
    {
     "name": "stderr",
     "output_type": "stream",
     "text": [
      "default</home/mati/Desktop/workplace/datasets/CelebA-img>:   4%|▍         | 6350/150000 [1:31:34<34:31:26,  1.16it/s]"
     ]
    },
    {
     "name": "stdout",
     "output_type": "stream",
     "text": [
      "G: -0.58 | D: 1.95 | GP: 0.50 | PL: 0.09\n"
     ]
    },
    {
     "name": "stderr",
     "output_type": "stream",
     "text": [
      "default</home/mati/Desktop/workplace/datasets/CelebA-img>:   4%|▍         | 6400/150000 [1:32:16<34:30:34,  1.16it/s]"
     ]
    },
    {
     "name": "stdout",
     "output_type": "stream",
     "text": [
      "G: -0.54 | D: 0.45 | GP: 0.14 | PL: 0.09\n"
     ]
    },
    {
     "name": "stderr",
     "output_type": "stream",
     "text": [
      "default</home/mati/Desktop/workplace/datasets/CelebA-img>:   4%|▍         | 6450/150000 [1:33:01<34:30:18,  1.16it/s]"
     ]
    },
    {
     "name": "stdout",
     "output_type": "stream",
     "text": [
      "G: 0.36 | D: 1.53 | GP: 12.43 | PL: 0.09\n"
     ]
    },
    {
     "name": "stderr",
     "output_type": "stream",
     "text": [
      "default</home/mati/Desktop/workplace/datasets/CelebA-img>:   4%|▍         | 6500/150000 [1:33:45<34:29:44,  1.16it/s]"
     ]
    },
    {
     "name": "stdout",
     "output_type": "stream",
     "text": [
      "G: -0.65 | D: 1.80 | GP: 0.24 | PL: 0.09\n"
     ]
    },
    {
     "name": "stderr",
     "output_type": "stream",
     "text": [
      "default</home/mati/Desktop/workplace/datasets/CelebA-img>:   4%|▍         | 6550/150000 [1:34:29<34:29:17,  1.16it/s]"
     ]
    },
    {
     "name": "stdout",
     "output_type": "stream",
     "text": [
      "G: -0.90 | D: 1.13 | GP: 0.67 | PL: 0.09\n"
     ]
    },
    {
     "name": "stderr",
     "output_type": "stream",
     "text": [
      "default</home/mati/Desktop/workplace/datasets/CelebA-img>:   4%|▍         | 6600/150000 [1:35:12<34:28:43,  1.16it/s]"
     ]
    },
    {
     "name": "stdout",
     "output_type": "stream",
     "text": [
      "G: 0.63 | D: 1.56 | GP: 3.66 | PL: 0.09\n"
     ]
    },
    {
     "name": "stderr",
     "output_type": "stream",
     "text": [
      "default</home/mati/Desktop/workplace/datasets/CelebA-img>:   4%|▍         | 6650/150000 [1:35:56<34:28:17,  1.16it/s]"
     ]
    },
    {
     "name": "stdout",
     "output_type": "stream",
     "text": [
      "G: 0.04 | D: 1.63 | GP: 0.95 | PL: 0.09\n"
     ]
    },
    {
     "name": "stderr",
     "output_type": "stream",
     "text": [
      "default</home/mati/Desktop/workplace/datasets/CelebA-img>:   4%|▍         | 6700/150000 [1:36:40<34:27:42,  1.16it/s]"
     ]
    },
    {
     "name": "stdout",
     "output_type": "stream",
     "text": [
      "G: -0.24 | D: 1.73 | GP: 0.51 | PL: 0.09\n"
     ]
    },
    {
     "name": "stderr",
     "output_type": "stream",
     "text": [
      "default</home/mati/Desktop/workplace/datasets/CelebA-img>:   4%|▍         | 6750/150000 [1:37:24<34:27:06,  1.15it/s]"
     ]
    },
    {
     "name": "stdout",
     "output_type": "stream",
     "text": [
      "G: 0.70 | D: 1.30 | GP: 0.68 | PL: 0.09\n"
     ]
    },
    {
     "name": "stderr",
     "output_type": "stream",
     "text": [
      "default</home/mati/Desktop/workplace/datasets/CelebA-img>:   5%|▍         | 6800/150000 [1:38:07<34:26:29,  1.15it/s]"
     ]
    },
    {
     "name": "stdout",
     "output_type": "stream",
     "text": [
      "G: -0.21 | D: 1.81 | GP: 0.65 | PL: 0.09\n"
     ]
    },
    {
     "name": "stderr",
     "output_type": "stream",
     "text": [
      "default</home/mati/Desktop/workplace/datasets/CelebA-img>:   5%|▍         | 6850/150000 [1:38:52<34:26:09,  1.15it/s]"
     ]
    },
    {
     "name": "stdout",
     "output_type": "stream",
     "text": [
      "G: -0.12 | D: 1.87 | GP: 0.07 | PL: 0.09\n"
     ]
    },
    {
     "name": "stderr",
     "output_type": "stream",
     "text": [
      "default</home/mati/Desktop/workplace/datasets/CelebA-img>:   5%|▍         | 6900/150000 [1:39:34<34:25:15,  1.15it/s]"
     ]
    },
    {
     "name": "stdout",
     "output_type": "stream",
     "text": [
      "G: 0.70 | D: 2.47 | GP: 5.32 | PL: 0.09\n"
     ]
    },
    {
     "name": "stderr",
     "output_type": "stream",
     "text": [
      "default</home/mati/Desktop/workplace/datasets/CelebA-img>:   5%|▍         | 6950/150000 [1:40:19<34:24:55,  1.15it/s]"
     ]
    },
    {
     "name": "stdout",
     "output_type": "stream",
     "text": [
      "G: -0.50 | D: 2.02 | GP: 0.55 | PL: 0.09\n"
     ]
    },
    {
     "name": "stderr",
     "output_type": "stream",
     "text": [
      "default</home/mati/Desktop/workplace/datasets/CelebA-img>:   5%|▍         | 7000/150000 [1:41:02<34:24:14,  1.15it/s]"
     ]
    },
    {
     "name": "stdout",
     "output_type": "stream",
     "text": [
      "G: 0.64 | D: 1.67 | GP: 10.63 | PL: 0.09\n"
     ]
    },
    {
     "name": "stderr",
     "output_type": "stream",
     "text": [
      "default</home/mati/Desktop/workplace/datasets/CelebA-img>:   5%|▍         | 7050/150000 [1:41:48<34:24:14,  1.15it/s]"
     ]
    },
    {
     "name": "stdout",
     "output_type": "stream",
     "text": [
      "G: 0.38 | D: 1.82 | GP: 1.36 | PL: 0.09\n"
     ]
    },
    {
     "name": "stderr",
     "output_type": "stream",
     "text": [
      "default</home/mati/Desktop/workplace/datasets/CelebA-img>:   5%|▍         | 7100/150000 [1:42:31<34:23:22,  1.15it/s]"
     ]
    },
    {
     "name": "stdout",
     "output_type": "stream",
     "text": [
      "G: -0.40 | D: 1.55 | GP: 2.32 | PL: 0.09\n"
     ]
    },
    {
     "name": "stderr",
     "output_type": "stream",
     "text": [
      "default</home/mati/Desktop/workplace/datasets/CelebA-img>:   5%|▍         | 7150/150000 [1:43:15<34:23:04,  1.15it/s]"
     ]
    },
    {
     "name": "stdout",
     "output_type": "stream",
     "text": [
      "G: 0.33 | D: 1.61 | GP: 0.03 | PL: 0.09\n"
     ]
    },
    {
     "name": "stderr",
     "output_type": "stream",
     "text": [
      "default</home/mati/Desktop/workplace/datasets/CelebA-img>:   5%|▍         | 7200/150000 [1:43:58<34:22:11,  1.15it/s]"
     ]
    },
    {
     "name": "stdout",
     "output_type": "stream",
     "text": [
      "G: 0.25 | D: 2.75 | GP: 0.52 | PL: 0.09\n"
     ]
    },
    {
     "name": "stderr",
     "output_type": "stream",
     "text": [
      "default</home/mati/Desktop/workplace/datasets/CelebA-img>:   5%|▍         | 7250/150000 [1:44:42<34:21:49,  1.15it/s]"
     ]
    },
    {
     "name": "stdout",
     "output_type": "stream",
     "text": [
      "G: -1.16 | D: 2.33 | GP: 2.23 | PL: 0.09\n"
     ]
    },
    {
     "name": "stderr",
     "output_type": "stream",
     "text": [
      "default</home/mati/Desktop/workplace/datasets/CelebA-img>:   5%|▍         | 7300/150000 [1:45:26<34:21:11,  1.15it/s]"
     ]
    },
    {
     "name": "stdout",
     "output_type": "stream",
     "text": [
      "G: 0.42 | D: 1.90 | GP: 1.63 | PL: 0.09\n"
     ]
    },
    {
     "name": "stderr",
     "output_type": "stream",
     "text": [
      "default</home/mati/Desktop/workplace/datasets/CelebA-img>:   5%|▍         | 7350/150000 [1:46:10<34:20:32,  1.15it/s]"
     ]
    },
    {
     "name": "stdout",
     "output_type": "stream",
     "text": [
      "G: 0.02 | D: 1.79 | GP: 0.56 | PL: 0.09\n"
     ]
    },
    {
     "name": "stderr",
     "output_type": "stream",
     "text": [
      "default</home/mati/Desktop/workplace/datasets/CelebA-img>:   5%|▍         | 7400/150000 [1:46:53<34:19:58,  1.15it/s]"
     ]
    },
    {
     "name": "stdout",
     "output_type": "stream",
     "text": [
      "G: -0.13 | D: 1.80 | GP: 0.10 | PL: 0.09\n"
     ]
    },
    {
     "name": "stderr",
     "output_type": "stream",
     "text": [
      "default</home/mati/Desktop/workplace/datasets/CelebA-img>:   5%|▍         | 7450/150000 [1:47:37<34:19:22,  1.15it/s]"
     ]
    },
    {
     "name": "stdout",
     "output_type": "stream",
     "text": [
      "G: 0.84 | D: 1.90 | GP: 0.04 | PL: 0.09\n"
     ]
    },
    {
     "name": "stderr",
     "output_type": "stream",
     "text": [
      "default</home/mati/Desktop/workplace/datasets/CelebA-img>:   5%|▌         | 7500/150000 [1:48:21<34:18:45,  1.15it/s]"
     ]
    },
    {
     "name": "stdout",
     "output_type": "stream",
     "text": [
      "G: 0.05 | D: 2.11 | GP: 0.23 | PL: 0.09\n"
     ]
    },
    {
     "name": "stderr",
     "output_type": "stream",
     "text": [
      "default</home/mati/Desktop/workplace/datasets/CelebA-img>:   5%|▌         | 7550/150000 [1:49:04<34:18:07,  1.15it/s]"
     ]
    },
    {
     "name": "stdout",
     "output_type": "stream",
     "text": [
      "G: 0.31 | D: 1.72 | GP: 0.36 | PL: 0.09\n"
     ]
    },
    {
     "name": "stderr",
     "output_type": "stream",
     "text": [
      "default</home/mati/Desktop/workplace/datasets/CelebA-img>:   5%|▌         | 7600/150000 [1:49:48<34:17:28,  1.15it/s]"
     ]
    },
    {
     "name": "stdout",
     "output_type": "stream",
     "text": [
      "G: -0.13 | D: 1.89 | GP: 0.54 | PL: 0.09\n"
     ]
    },
    {
     "name": "stderr",
     "output_type": "stream",
     "text": [
      "default</home/mati/Desktop/workplace/datasets/CelebA-img>:   5%|▌         | 7650/150000 [1:50:33<34:17:14,  1.15it/s]"
     ]
    },
    {
     "name": "stdout",
     "output_type": "stream",
     "text": [
      "G: 1.05 | D: 1.72 | GP: 1.15 | PL: 0.09\n"
     ]
    },
    {
     "name": "stderr",
     "output_type": "stream",
     "text": [
      "default</home/mati/Desktop/workplace/datasets/CelebA-img>:   5%|▌         | 7700/150000 [1:51:17<34:16:37,  1.15it/s]"
     ]
    },
    {
     "name": "stdout",
     "output_type": "stream",
     "text": [
      "G: 0.60 | D: 1.67 | GP: 0.02 | PL: 0.09\n"
     ]
    },
    {
     "name": "stderr",
     "output_type": "stream",
     "text": [
      "default</home/mati/Desktop/workplace/datasets/CelebA-img>:   5%|▌         | 7750/150000 [1:52:01<34:16:13,  1.15it/s]"
     ]
    },
    {
     "name": "stdout",
     "output_type": "stream",
     "text": [
      "G: 0.70 | D: 1.81 | GP: 0.14 | PL: 0.09\n"
     ]
    },
    {
     "name": "stderr",
     "output_type": "stream",
     "text": [
      "default</home/mati/Desktop/workplace/datasets/CelebA-img>:   5%|▌         | 7800/150000 [1:52:44<34:15:20,  1.15it/s]"
     ]
    },
    {
     "name": "stdout",
     "output_type": "stream",
     "text": [
      "G: -0.46 | D: 1.66 | GP: 1.08 | PL: 0.09\n"
     ]
    },
    {
     "name": "stderr",
     "output_type": "stream",
     "text": [
      "default</home/mati/Desktop/workplace/datasets/CelebA-img>:   5%|▌         | 7850/150000 [1:53:29<34:15:04,  1.15it/s]"
     ]
    },
    {
     "name": "stdout",
     "output_type": "stream",
     "text": [
      "G: 1.06 | D: 2.03 | GP: 0.31 | PL: 0.09\n"
     ]
    },
    {
     "name": "stderr",
     "output_type": "stream",
     "text": [
      "default</home/mati/Desktop/workplace/datasets/CelebA-img>:   5%|▌         | 7900/150000 [1:54:12<34:14:12,  1.15it/s]"
     ]
    },
    {
     "name": "stdout",
     "output_type": "stream",
     "text": [
      "G: 0.31 | D: 1.87 | GP: 0.22 | PL: 0.09\n"
     ]
    },
    {
     "name": "stderr",
     "output_type": "stream",
     "text": [
      "default</home/mati/Desktop/workplace/datasets/CelebA-img>:   5%|▌         | 7950/150000 [1:54:56<34:13:46,  1.15it/s]"
     ]
    },
    {
     "name": "stdout",
     "output_type": "stream",
     "text": [
      "G: -0.55 | D: 1.79 | GP: 0.08 | PL: 0.09\n"
     ]
    },
    {
     "name": "stderr",
     "output_type": "stream",
     "text": [
      "default</home/mati/Desktop/workplace/datasets/CelebA-img>:   5%|▌         | 8000/150000 [1:55:39<34:13:02,  1.15it/s]"
     ]
    },
    {
     "name": "stdout",
     "output_type": "stream",
     "text": [
      "G: -0.37 | D: 2.01 | GP: 2.24 | PL: 0.09\n"
     ]
    },
    {
     "name": "stderr",
     "output_type": "stream",
     "text": [
      "default</home/mati/Desktop/workplace/datasets/CelebA-img>:   5%|▌         | 8050/150000 [1:56:25<34:12:57,  1.15it/s]"
     ]
    },
    {
     "name": "stdout",
     "output_type": "stream",
     "text": [
      "G: -0.20 | D: 2.03 | GP: 1.85 | PL: 0.09\n"
     ]
    },
    {
     "name": "stderr",
     "output_type": "stream",
     "text": [
      "default</home/mati/Desktop/workplace/datasets/CelebA-img>:   5%|▌         | 8100/150000 [1:57:09<34:12:18,  1.15it/s]"
     ]
    },
    {
     "name": "stdout",
     "output_type": "stream",
     "text": [
      "G: 0.02 | D: 1.87 | GP: 0.06 | PL: 0.09\n"
     ]
    },
    {
     "name": "stderr",
     "output_type": "stream",
     "text": [
      "default</home/mati/Desktop/workplace/datasets/CelebA-img>:   5%|▌         | 8150/150000 [1:57:52<34:11:39,  1.15it/s]"
     ]
    },
    {
     "name": "stdout",
     "output_type": "stream",
     "text": [
      "G: 0.20 | D: 1.84 | GP: 0.13 | PL: 0.09\n"
     ]
    },
    {
     "name": "stderr",
     "output_type": "stream",
     "text": [
      "default</home/mati/Desktop/workplace/datasets/CelebA-img>:   5%|▌         | 8200/150000 [1:58:36<34:11:01,  1.15it/s]"
     ]
    },
    {
     "name": "stdout",
     "output_type": "stream",
     "text": [
      "G: 0.52 | D: 3.49 | GP: 0.35 | PL: 0.09\n"
     ]
    },
    {
     "name": "stderr",
     "output_type": "stream",
     "text": [
      "default</home/mati/Desktop/workplace/datasets/CelebA-img>:   6%|▌         | 8250/150000 [1:59:20<34:10:25,  1.15it/s]"
     ]
    },
    {
     "name": "stdout",
     "output_type": "stream",
     "text": [
      "G: 0.15 | D: 1.94 | GP: 0.04 | PL: 0.09\n"
     ]
    },
    {
     "name": "stderr",
     "output_type": "stream",
     "text": [
      "default</home/mati/Desktop/workplace/datasets/CelebA-img>:   6%|▌         | 8300/150000 [2:00:03<34:09:46,  1.15it/s]"
     ]
    },
    {
     "name": "stdout",
     "output_type": "stream",
     "text": [
      "G: 0.45 | D: 1.62 | GP: 0.11 | PL: 0.09\n"
     ]
    },
    {
     "name": "stderr",
     "output_type": "stream",
     "text": [
      "default</home/mati/Desktop/workplace/datasets/CelebA-img>:   6%|▌         | 8350/150000 [2:00:47<34:09:08,  1.15it/s]"
     ]
    },
    {
     "name": "stdout",
     "output_type": "stream",
     "text": [
      "G: 0.36 | D: 1.62 | GP: 0.05 | PL: 0.09\n"
     ]
    },
    {
     "name": "stderr",
     "output_type": "stream",
     "text": [
      "default</home/mati/Desktop/workplace/datasets/CelebA-img>:   6%|▌         | 8400/150000 [2:01:31<34:08:29,  1.15it/s]"
     ]
    },
    {
     "name": "stdout",
     "output_type": "stream",
     "text": [
      "G: -0.66 | D: 1.96 | GP: 2.28 | PL: 0.09\n"
     ]
    },
    {
     "name": "stderr",
     "output_type": "stream",
     "text": [
      "default</home/mati/Desktop/workplace/datasets/CelebA-img>:   6%|▌         | 8450/150000 [2:02:15<34:08:03,  1.15it/s]"
     ]
    },
    {
     "name": "stdout",
     "output_type": "stream",
     "text": [
      "G: -1.15 | D: 1.77 | GP: 0.07 | PL: 0.09\n"
     ]
    },
    {
     "name": "stderr",
     "output_type": "stream",
     "text": [
      "default</home/mati/Desktop/workplace/datasets/CelebA-img>:   6%|▌         | 8500/150000 [2:03:00<34:07:46,  1.15it/s]"
     ]
    },
    {
     "name": "stdout",
     "output_type": "stream",
     "text": [
      "G: -0.31 | D: 3.55 | GP: 0.13 | PL: 0.09\n"
     ]
    },
    {
     "name": "stderr",
     "output_type": "stream",
     "text": [
      "default</home/mati/Desktop/workplace/datasets/CelebA-img>:   6%|▌         | 8550/150000 [2:03:48<34:08:23,  1.15it/s]"
     ]
    },
    {
     "name": "stdout",
     "output_type": "stream",
     "text": [
      "G: 0.54 | D: 1.67 | GP: 0.26 | PL: 0.09\n"
     ]
    },
    {
     "name": "stderr",
     "output_type": "stream",
     "text": [
      "default</home/mati/Desktop/workplace/datasets/CelebA-img>:   6%|▌         | 8600/150000 [2:04:33<34:08:02,  1.15it/s]"
     ]
    },
    {
     "name": "stdout",
     "output_type": "stream",
     "text": [
      "G: -0.10 | D: 1.93 | GP: 3.87 | PL: 0.09\n"
     ]
    },
    {
     "name": "stderr",
     "output_type": "stream",
     "text": [
      "default</home/mati/Desktop/workplace/datasets/CelebA-img>:   6%|▌         | 8650/150000 [2:05:18<34:07:38,  1.15it/s]"
     ]
    },
    {
     "name": "stdout",
     "output_type": "stream",
     "text": [
      "G: 0.35 | D: 8.46 | GP: 0.71 | PL: 0.09\n"
     ]
    },
    {
     "name": "stderr",
     "output_type": "stream",
     "text": [
      "default</home/mati/Desktop/workplace/datasets/CelebA-img>:   6%|▌         | 8700/150000 [2:06:04<34:07:36,  1.15it/s]"
     ]
    },
    {
     "name": "stdout",
     "output_type": "stream",
     "text": [
      "G: 0.47 | D: 1.85 | GP: 0.07 | PL: 0.09\n"
     ]
    },
    {
     "name": "stderr",
     "output_type": "stream",
     "text": [
      "default</home/mati/Desktop/workplace/datasets/CelebA-img>:   6%|▌         | 8750/150000 [2:06:52<34:08:07,  1.15it/s]"
     ]
    },
    {
     "name": "stdout",
     "output_type": "stream",
     "text": [
      "G: -0.11 | D: 1.81 | GP: 0.04 | PL: 0.09\n"
     ]
    },
    {
     "name": "stderr",
     "output_type": "stream",
     "text": [
      "default</home/mati/Desktop/workplace/datasets/CelebA-img>:   6%|▌         | 8800/150000 [2:07:40<34:08:29,  1.15it/s]"
     ]
    },
    {
     "name": "stdout",
     "output_type": "stream",
     "text": [
      "G: -0.01 | D: 1.86 | GP: 0.45 | PL: 0.09\n"
     ]
    },
    {
     "name": "stderr",
     "output_type": "stream",
     "text": [
      "default</home/mati/Desktop/workplace/datasets/CelebA-img>:   6%|▌         | 8850/150000 [2:08:26<34:08:30,  1.15it/s]"
     ]
    },
    {
     "name": "stdout",
     "output_type": "stream",
     "text": [
      "G: 0.47 | D: 1.72 | GP: 2.00 | PL: 0.09\n"
     ]
    },
    {
     "name": "stderr",
     "output_type": "stream",
     "text": [
      "default</home/mati/Desktop/workplace/datasets/CelebA-img>:   6%|▌         | 8900/150000 [2:09:15<34:09:08,  1.15it/s]"
     ]
    },
    {
     "name": "stdout",
     "output_type": "stream",
     "text": [
      "G: -0.02 | D: 1.81 | GP: 0.62 | PL: 0.09\n"
     ]
    },
    {
     "name": "stderr",
     "output_type": "stream",
     "text": [
      "default</home/mati/Desktop/workplace/datasets/CelebA-img>:   6%|▌         | 8950/150000 [2:10:05<34:10:11,  1.15it/s]"
     ]
    },
    {
     "name": "stdout",
     "output_type": "stream",
     "text": [
      "G: 0.40 | D: 1.66 | GP: 9887.04 | PL: 0.09\n"
     ]
    },
    {
     "name": "stderr",
     "output_type": "stream",
     "text": [
      "default</home/mati/Desktop/workplace/datasets/CelebA-img>:   6%|▌         | 9000/150000 [2:10:52<34:10:28,  1.15it/s]"
     ]
    },
    {
     "name": "stdout",
     "output_type": "stream",
     "text": [
      "G: 0.35 | D: 2.06 | GP: 0.64 | PL: 0.10\n"
     ]
    },
    {
     "name": "stderr",
     "output_type": "stream",
     "text": [
      "default</home/mati/Desktop/workplace/datasets/CelebA-img>:   6%|▌         | 9050/150000 [2:11:37<34:09:59,  1.15it/s]"
     ]
    },
    {
     "name": "stdout",
     "output_type": "stream",
     "text": [
      "G: -0.82 | D: 2.47 | GP: 0.18 | PL: 0.10\n"
     ]
    },
    {
     "name": "stderr",
     "output_type": "stream",
     "text": [
      "default</home/mati/Desktop/workplace/datasets/CelebA-img>:   6%|▌         | 9100/150000 [2:12:21<34:09:16,  1.15it/s]"
     ]
    },
    {
     "name": "stdout",
     "output_type": "stream",
     "text": [
      "G: 0.25 | D: 1.83 | GP: 0.05 | PL: 0.10\n"
     ]
    },
    {
     "name": "stderr",
     "output_type": "stream",
     "text": [
      "default</home/mati/Desktop/workplace/datasets/CelebA-img>:   6%|▌         | 9150/150000 [2:13:04<34:08:32,  1.15it/s]"
     ]
    },
    {
     "name": "stdout",
     "output_type": "stream",
     "text": [
      "G: 0.07 | D: 1.68 | GP: 0.24 | PL: 0.10\n"
     ]
    },
    {
     "name": "stderr",
     "output_type": "stream",
     "text": [
      "default</home/mati/Desktop/workplace/datasets/CelebA-img>:   6%|▌         | 9200/150000 [2:13:48<34:07:47,  1.15it/s]"
     ]
    },
    {
     "name": "stdout",
     "output_type": "stream",
     "text": [
      "G: -0.70 | D: 2.09 | GP: 0.82 | PL: 0.10\n"
     ]
    },
    {
     "name": "stderr",
     "output_type": "stream",
     "text": [
      "default</home/mati/Desktop/workplace/datasets/CelebA-img>:   6%|▌         | 9250/150000 [2:14:32<34:07:16,  1.15it/s]"
     ]
    },
    {
     "name": "stdout",
     "output_type": "stream",
     "text": [
      "G: 0.42 | D: 1.75 | GP: 0.08 | PL: 0.10\n"
     ]
    },
    {
     "name": "stderr",
     "output_type": "stream",
     "text": [
      "default</home/mati/Desktop/workplace/datasets/CelebA-img>:   6%|▌         | 9300/150000 [2:15:15<34:06:20,  1.15it/s]"
     ]
    },
    {
     "name": "stdout",
     "output_type": "stream",
     "text": [
      "G: 2.33 | D: 1.27 | GP: 1.26 | PL: 0.10\n"
     ]
    },
    {
     "name": "stderr",
     "output_type": "stream",
     "text": [
      "default</home/mati/Desktop/workplace/datasets/CelebA-img>:   6%|▌         | 9350/150000 [2:15:59<34:05:49,  1.15it/s]"
     ]
    },
    {
     "name": "stdout",
     "output_type": "stream",
     "text": [
      "G: -0.13 | D: 2.04 | GP: 1.51 | PL: 0.10\n"
     ]
    },
    {
     "name": "stderr",
     "output_type": "stream",
     "text": [
      "default</home/mati/Desktop/workplace/datasets/CelebA-img>:   6%|▋         | 9400/150000 [2:16:42<34:04:53,  1.15it/s]"
     ]
    },
    {
     "name": "stdout",
     "output_type": "stream",
     "text": [
      "G: 0.17 | D: 2.02 | GP: 1.68 | PL: 0.10\n"
     ]
    },
    {
     "name": "stderr",
     "output_type": "stream",
     "text": [
      "default</home/mati/Desktop/workplace/datasets/CelebA-img>:   6%|▋         | 9450/150000 [2:17:27<34:04:24,  1.15it/s]"
     ]
    },
    {
     "name": "stdout",
     "output_type": "stream",
     "text": [
      "G: -0.55 | D: 2.12 | GP: 1.97 | PL: 0.10\n"
     ]
    },
    {
     "name": "stderr",
     "output_type": "stream",
     "text": [
      "default</home/mati/Desktop/workplace/datasets/CelebA-img>:   6%|▋         | 9500/150000 [2:18:10<34:03:27,  1.15it/s]"
     ]
    },
    {
     "name": "stdout",
     "output_type": "stream",
     "text": [
      "G: -0.15 | D: 2.03 | GP: 0.81 | PL: 0.10\n"
     ]
    },
    {
     "name": "stderr",
     "output_type": "stream",
     "text": [
      "default</home/mati/Desktop/workplace/datasets/CelebA-img>:   6%|▋         | 9550/150000 [2:18:54<34:02:55,  1.15it/s]"
     ]
    },
    {
     "name": "stdout",
     "output_type": "stream",
     "text": [
      "G: 0.06 | D: 1.57 | GP: 3.25 | PL: 0.10\n"
     ]
    },
    {
     "name": "stderr",
     "output_type": "stream",
     "text": [
      "default</home/mati/Desktop/workplace/datasets/CelebA-img>:   6%|▋         | 9600/150000 [2:19:37<34:01:58,  1.15it/s]"
     ]
    },
    {
     "name": "stdout",
     "output_type": "stream",
     "text": [
      "G: 0.06 | D: 1.72 | GP: 3.25 | PL: 0.10\n"
     ]
    },
    {
     "name": "stderr",
     "output_type": "stream",
     "text": [
      "default</home/mati/Desktop/workplace/datasets/CelebA-img>:   6%|▋         | 9650/150000 [2:20:21<34:01:27,  1.15it/s]"
     ]
    },
    {
     "name": "stdout",
     "output_type": "stream",
     "text": [
      "G: 0.02 | D: 1.99 | GP: 1.25 | PL: 0.10\n"
     ]
    },
    {
     "name": "stderr",
     "output_type": "stream",
     "text": [
      "default</home/mati/Desktop/workplace/datasets/CelebA-img>:   6%|▋         | 9700/150000 [2:21:05<34:00:47,  1.15it/s]"
     ]
    },
    {
     "name": "stdout",
     "output_type": "stream",
     "text": [
      "G: 0.83 | D: 1.79 | GP: 1.25 | PL: 0.10\n"
     ]
    },
    {
     "name": "stderr",
     "output_type": "stream",
     "text": [
      "default</home/mati/Desktop/workplace/datasets/CelebA-img>:   6%|▋         | 9750/150000 [2:21:49<34:00:03,  1.15it/s]"
     ]
    },
    {
     "name": "stdout",
     "output_type": "stream",
     "text": [
      "G: 0.20 | D: 1.68 | GP: 0.37 | PL: 0.10\n"
     ]
    },
    {
     "name": "stderr",
     "output_type": "stream",
     "text": [
      "default</home/mati/Desktop/workplace/datasets/CelebA-img>:   7%|▋         | 9800/150000 [2:22:33<33:59:27,  1.15it/s]"
     ]
    },
    {
     "name": "stdout",
     "output_type": "stream",
     "text": [
      "G: -0.05 | D: 1.76 | GP: 0.04 | PL: 0.10\n"
     ]
    },
    {
     "name": "stderr",
     "output_type": "stream",
     "text": [
      "default</home/mati/Desktop/workplace/datasets/CelebA-img>:   7%|▋         | 9850/150000 [2:23:17<33:58:43,  1.15it/s]"
     ]
    },
    {
     "name": "stdout",
     "output_type": "stream",
     "text": [
      "G: 0.16 | D: 1.70 | GP: 0.74 | PL: 0.10\n"
     ]
    },
    {
     "name": "stderr",
     "output_type": "stream",
     "text": [
      "default</home/mati/Desktop/workplace/datasets/CelebA-img>:   7%|▋         | 9900/150000 [2:24:00<33:58:01,  1.15it/s]"
     ]
    },
    {
     "name": "stdout",
     "output_type": "stream",
     "text": [
      "G: 11.63 | D: 0.95 | GP: 0.02 | PL: 0.10\n"
     ]
    },
    {
     "name": "stderr",
     "output_type": "stream",
     "text": [
      "default</home/mati/Desktop/workplace/datasets/CelebA-img>:   7%|▋         | 9950/150000 [2:24:44<33:57:18,  1.15it/s]"
     ]
    },
    {
     "name": "stdout",
     "output_type": "stream",
     "text": [
      "G: 0.76 | D: 1.24 | GP: 0.28 | PL: 0.10\n"
     ]
    },
    {
     "name": "stderr",
     "output_type": "stream",
     "text": [
      "default</home/mati/Desktop/workplace/datasets/CelebA-img>:   7%|▋         | 10000/150000 [2:25:28<33:56:41,  1.15it/s]"
     ]
    },
    {
     "name": "stdout",
     "output_type": "stream",
     "text": [
      "G: 0.00 | D: 2.15 | GP: 56.53 | PL: 0.10\n"
     ]
    },
    {
     "name": "stderr",
     "output_type": "stream",
     "text": [
      "default</home/mati/Desktop/workplace/datasets/CelebA-img>:   7%|▋         | 10050/150000 [2:26:14<33:56:24,  1.15it/s]"
     ]
    },
    {
     "name": "stdout",
     "output_type": "stream",
     "text": [
      "G: -0.02 | D: 1.86 | GP: 0.17 | PL: 0.10\n"
     ]
    },
    {
     "name": "stderr",
     "output_type": "stream",
     "text": [
      "default</home/mati/Desktop/workplace/datasets/CelebA-img>:   7%|▋         | 10100/150000 [2:26:57<33:55:29,  1.15it/s]"
     ]
    },
    {
     "name": "stdout",
     "output_type": "stream",
     "text": [
      "G: 0.04 | D: 1.85 | GP: 0.47 | PL: 0.10\n"
     ]
    },
    {
     "name": "stderr",
     "output_type": "stream",
     "text": [
      "default</home/mati/Desktop/workplace/datasets/CelebA-img>:   7%|▋         | 10150/150000 [2:27:41<33:55:01,  1.15it/s]"
     ]
    },
    {
     "name": "stdout",
     "output_type": "stream",
     "text": [
      "G: -0.22 | D: 1.66 | GP: 0.33 | PL: 0.10\n"
     ]
    },
    {
     "name": "stderr",
     "output_type": "stream",
     "text": [
      "default</home/mati/Desktop/workplace/datasets/CelebA-img>:   7%|▋         | 10200/150000 [2:28:24<33:54:07,  1.15it/s]"
     ]
    },
    {
     "name": "stdout",
     "output_type": "stream",
     "text": [
      "G: -0.02 | D: 1.79 | GP: 0.15 | PL: 0.10\n"
     ]
    },
    {
     "name": "stderr",
     "output_type": "stream",
     "text": [
      "default</home/mati/Desktop/workplace/datasets/CelebA-img>:   7%|▋         | 10250/150000 [2:29:09<33:53:34,  1.15it/s]"
     ]
    },
    {
     "name": "stdout",
     "output_type": "stream",
     "text": [
      "G: 0.40 | D: 1.95 | GP: 0.45 | PL: 0.10\n"
     ]
    },
    {
     "name": "stderr",
     "output_type": "stream",
     "text": [
      "default</home/mati/Desktop/workplace/datasets/CelebA-img>:   7%|▋         | 10300/150000 [2:29:51<33:52:38,  1.15it/s]"
     ]
    },
    {
     "name": "stdout",
     "output_type": "stream",
     "text": [
      "G: -0.55 | D: 1.86 | GP: 2.00 | PL: 0.10\n"
     ]
    },
    {
     "name": "stderr",
     "output_type": "stream",
     "text": [
      "default</home/mati/Desktop/workplace/datasets/CelebA-img>:   7%|▋         | 10350/150000 [2:30:36<33:52:05,  1.15it/s]"
     ]
    },
    {
     "name": "stdout",
     "output_type": "stream",
     "text": [
      "G: -0.24 | D: 1.88 | GP: 3.59 | PL: 0.10\n"
     ]
    },
    {
     "name": "stderr",
     "output_type": "stream",
     "text": [
      "default</home/mati/Desktop/workplace/datasets/CelebA-img>:   7%|▋         | 10400/150000 [2:31:19<33:51:10,  1.15it/s]"
     ]
    },
    {
     "name": "stdout",
     "output_type": "stream",
     "text": [
      "G: -0.55 | D: 1.95 | GP: 3.01 | PL: 0.10\n"
     ]
    },
    {
     "name": "stderr",
     "output_type": "stream",
     "text": [
      "default</home/mati/Desktop/workplace/datasets/CelebA-img>:   7%|▋         | 10450/150000 [2:32:03<33:50:38,  1.15it/s]"
     ]
    },
    {
     "name": "stdout",
     "output_type": "stream",
     "text": [
      "G: -0.45 | D: 2.14 | GP: 0.52 | PL: 0.10\n"
     ]
    },
    {
     "name": "stderr",
     "output_type": "stream",
     "text": [
      "default</home/mati/Desktop/workplace/datasets/CelebA-img>:   7%|▋         | 10500/150000 [2:32:47<33:49:55,  1.15it/s]"
     ]
    },
    {
     "name": "stdout",
     "output_type": "stream",
     "text": [
      "G: 2.10 | D: 0.96 | GP: 1.18 | PL: 0.10\n"
     ]
    },
    {
     "name": "stderr",
     "output_type": "stream",
     "text": [
      "default</home/mati/Desktop/workplace/datasets/CelebA-img>:   7%|▋         | 10550/150000 [2:33:31<33:49:13,  1.15it/s]"
     ]
    },
    {
     "name": "stdout",
     "output_type": "stream",
     "text": [
      "G: 1.05 | D: 2.32 | GP: 2.13 | PL: 0.10\n"
     ]
    },
    {
     "name": "stderr",
     "output_type": "stream",
     "text": [
      "default</home/mati/Desktop/workplace/datasets/CelebA-img>:   7%|▋         | 10600/150000 [2:34:15<33:48:32,  1.15it/s]"
     ]
    },
    {
     "name": "stdout",
     "output_type": "stream",
     "text": [
      "G: -0.36 | D: 1.89 | GP: 0.29 | PL: 0.10\n"
     ]
    },
    {
     "name": "stderr",
     "output_type": "stream",
     "text": [
      "default</home/mati/Desktop/workplace/datasets/CelebA-img>:   7%|▋         | 10650/150000 [2:34:58<33:47:47,  1.15it/s]"
     ]
    },
    {
     "name": "stdout",
     "output_type": "stream",
     "text": [
      "G: 1.24 | D: 1.94 | GP: 0.15 | PL: 0.10\n"
     ]
    },
    {
     "name": "stderr",
     "output_type": "stream",
     "text": [
      "default</home/mati/Desktop/workplace/datasets/CelebA-img>:   7%|▋         | 10700/150000 [2:35:42<33:47:03,  1.15it/s]"
     ]
    },
    {
     "name": "stdout",
     "output_type": "stream",
     "text": [
      "G: -0.01 | D: 1.93 | GP: 0.07 | PL: 0.10\n"
     ]
    },
    {
     "name": "stderr",
     "output_type": "stream",
     "text": [
      "default</home/mati/Desktop/workplace/datasets/CelebA-img>:   7%|▋         | 10750/150000 [2:36:25<33:46:19,  1.15it/s]"
     ]
    },
    {
     "name": "stdout",
     "output_type": "stream",
     "text": [
      "G: 0.23 | D: 1.82 | GP: 0.07 | PL: 0.10\n"
     ]
    },
    {
     "name": "stderr",
     "output_type": "stream",
     "text": [
      "default</home/mati/Desktop/workplace/datasets/CelebA-img>:   7%|▋         | 10800/150000 [2:37:09<33:45:38,  1.15it/s]"
     ]
    },
    {
     "name": "stdout",
     "output_type": "stream",
     "text": [
      "G: 0.50 | D: 2.07 | GP: 2.93 | PL: 0.10\n"
     ]
    },
    {
     "name": "stderr",
     "output_type": "stream",
     "text": [
      "default</home/mati/Desktop/workplace/datasets/CelebA-img>:   7%|▋         | 10850/150000 [2:37:54<33:45:06,  1.15it/s]"
     ]
    },
    {
     "name": "stdout",
     "output_type": "stream",
     "text": [
      "G: -0.28 | D: 1.70 | GP: 8.04 | PL: 0.10\n"
     ]
    },
    {
     "name": "stderr",
     "output_type": "stream",
     "text": [
      "default</home/mati/Desktop/workplace/datasets/CelebA-img>:   7%|▋         | 10900/150000 [2:38:37<33:44:12,  1.15it/s]"
     ]
    },
    {
     "name": "stdout",
     "output_type": "stream",
     "text": [
      "G: 1.06 | D: 1.22 | GP: 19.10 | PL: 0.10\n"
     ]
    },
    {
     "name": "stderr",
     "output_type": "stream",
     "text": [
      "default</home/mati/Desktop/workplace/datasets/CelebA-img>:   7%|▋         | 10950/150000 [2:39:21<33:43:39,  1.15it/s]"
     ]
    },
    {
     "name": "stdout",
     "output_type": "stream",
     "text": [
      "G: 1.92 | D: 1.04 | GP: 0.15 | PL: 0.10\n"
     ]
    },
    {
     "name": "stderr",
     "output_type": "stream",
     "text": [
      "default</home/mati/Desktop/workplace/datasets/CelebA-img>:   7%|▋         | 11000/150000 [2:40:04<33:42:50,  1.15it/s]"
     ]
    },
    {
     "name": "stdout",
     "output_type": "stream",
     "text": [
      "G: 0.02 | D: 1.97 | GP: 0.19 | PL: 0.10\n"
     ]
    },
    {
     "name": "stderr",
     "output_type": "stream",
     "text": [
      "default</home/mati/Desktop/workplace/datasets/CelebA-img>:   7%|▋         | 11050/150000 [2:40:50<33:42:28,  1.15it/s]"
     ]
    },
    {
     "name": "stdout",
     "output_type": "stream",
     "text": [
      "G: 1.05 | D: 1.22 | GP: 1.31 | PL: 0.10\n"
     ]
    },
    {
     "name": "stderr",
     "output_type": "stream",
     "text": [
      "default</home/mati/Desktop/workplace/datasets/CelebA-img>:   7%|▋         | 11100/150000 [2:41:33<33:41:34,  1.15it/s]"
     ]
    },
    {
     "name": "stdout",
     "output_type": "stream",
     "text": [
      "G: 0.45 | D: 1.93 | GP: 0.42 | PL: 0.10\n"
     ]
    },
    {
     "name": "stderr",
     "output_type": "stream",
     "text": [
      "default</home/mati/Desktop/workplace/datasets/CelebA-img>:   7%|▋         | 11150/150000 [2:42:17<33:41:02,  1.15it/s]"
     ]
    },
    {
     "name": "stdout",
     "output_type": "stream",
     "text": [
      "G: 1.13 | D: 0.77 | GP: 753.66 | PL: 0.10\n"
     ]
    },
    {
     "name": "stderr",
     "output_type": "stream",
     "text": [
      "default</home/mati/Desktop/workplace/datasets/CelebA-img>:   7%|▋         | 11200/150000 [2:43:00<33:40:10,  1.15it/s]"
     ]
    },
    {
     "name": "stdout",
     "output_type": "stream",
     "text": [
      "G: -0.04 | D: 1.99 | GP: 0.90 | PL: 0.10\n"
     ]
    },
    {
     "name": "stderr",
     "output_type": "stream",
     "text": [
      "default</home/mati/Desktop/workplace/datasets/CelebA-img>:   8%|▊         | 11250/150000 [2:43:45<33:39:35,  1.15it/s]"
     ]
    },
    {
     "name": "stdout",
     "output_type": "stream",
     "text": [
      "G: 0.02 | D: 1.77 | GP: 0.95 | PL: 0.10\n"
     ]
    },
    {
     "name": "stderr",
     "output_type": "stream",
     "text": [
      "default</home/mati/Desktop/workplace/datasets/CelebA-img>:   8%|▊         | 11300/150000 [2:44:28<33:38:50,  1.15it/s]"
     ]
    },
    {
     "name": "stdout",
     "output_type": "stream",
     "text": [
      "G: -0.27 | D: 1.90 | GP: 0.02 | PL: 0.10\n"
     ]
    },
    {
     "name": "stderr",
     "output_type": "stream",
     "text": [
      "default</home/mati/Desktop/workplace/datasets/CelebA-img>:   8%|▊         | 11350/150000 [2:45:14<33:38:30,  1.14it/s]"
     ]
    },
    {
     "name": "stdout",
     "output_type": "stream",
     "text": [
      "G: 0.63 | D: 1.73 | GP: 0.66 | PL: 0.10\n"
     ]
    },
    {
     "name": "stderr",
     "output_type": "stream",
     "text": [
      "default</home/mati/Desktop/workplace/datasets/CelebA-img>:   8%|▊         | 11400/150000 [2:46:00<33:38:17,  1.14it/s]"
     ]
    },
    {
     "name": "stdout",
     "output_type": "stream",
     "text": [
      "G: 0.65 | D: 1.37 | GP: 1.29 | PL: 0.10\n"
     ]
    },
    {
     "name": "stderr",
     "output_type": "stream",
     "text": [
      "default</home/mati/Desktop/workplace/datasets/CelebA-img>:   8%|▊         | 11450/150000 [2:46:44<33:37:39,  1.14it/s]"
     ]
    },
    {
     "name": "stdout",
     "output_type": "stream",
     "text": [
      "G: -0.37 | D: 1.86 | GP: 0.14 | PL: 0.10\n"
     ]
    },
    {
     "name": "stderr",
     "output_type": "stream",
     "text": [
      "default</home/mati/Desktop/workplace/datasets/CelebA-img>:   8%|▊         | 11500/150000 [2:47:28<33:36:54,  1.14it/s]"
     ]
    },
    {
     "name": "stdout",
     "output_type": "stream",
     "text": [
      "G: -0.34 | D: 1.99 | GP: 0.09 | PL: 0.10\n"
     ]
    },
    {
     "name": "stderr",
     "output_type": "stream",
     "text": [
      "default</home/mati/Desktop/workplace/datasets/CelebA-img>:   8%|▊         | 11550/150000 [2:48:11<33:36:10,  1.14it/s]"
     ]
    },
    {
     "name": "stdout",
     "output_type": "stream",
     "text": [
      "G: -0.15 | D: 1.83 | GP: 0.02 | PL: 0.10\n"
     ]
    },
    {
     "name": "stderr",
     "output_type": "stream",
     "text": [
      "default</home/mati/Desktop/workplace/datasets/CelebA-img>:   8%|▊         | 11600/150000 [2:48:55<33:35:26,  1.14it/s]"
     ]
    },
    {
     "name": "stdout",
     "output_type": "stream",
     "text": [
      "G: 0.19 | D: 2.08 | GP: 1.78 | PL: 0.10\n"
     ]
    },
    {
     "name": "stderr",
     "output_type": "stream",
     "text": [
      "default</home/mati/Desktop/workplace/datasets/CelebA-img>:   8%|▊         | 11650/150000 [2:49:39<33:34:52,  1.14it/s]"
     ]
    },
    {
     "name": "stdout",
     "output_type": "stream",
     "text": [
      "G: -0.15 | D: 1.92 | GP: 1.05 | PL: 0.10\n"
     ]
    },
    {
     "name": "stderr",
     "output_type": "stream",
     "text": [
      "default</home/mati/Desktop/workplace/datasets/CelebA-img>:   8%|▊         | 11700/150000 [2:50:23<33:34:03,  1.14it/s]"
     ]
    },
    {
     "name": "stdout",
     "output_type": "stream",
     "text": [
      "G: -0.73 | D: 2.01 | GP: 0.18 | PL: 0.10\n"
     ]
    },
    {
     "name": "stderr",
     "output_type": "stream",
     "text": [
      "default</home/mati/Desktop/workplace/datasets/CelebA-img>:   8%|▊         | 11750/150000 [2:51:07<33:33:30,  1.14it/s]"
     ]
    },
    {
     "name": "stdout",
     "output_type": "stream",
     "text": [
      "G: 0.89 | D: 1.69 | GP: 0.02 | PL: 0.10\n"
     ]
    },
    {
     "name": "stderr",
     "output_type": "stream",
     "text": [
      "default</home/mati/Desktop/workplace/datasets/CelebA-img>:   8%|▊         | 11800/150000 [2:51:50<33:32:37,  1.14it/s]"
     ]
    },
    {
     "name": "stdout",
     "output_type": "stream",
     "text": [
      "G: 0.55 | D: 1.91 | GP: 0.25 | PL: 0.10\n"
     ]
    },
    {
     "name": "stderr",
     "output_type": "stream",
     "text": [
      "default</home/mati/Desktop/workplace/datasets/CelebA-img>:   8%|▊         | 11850/150000 [2:52:35<33:32:06,  1.14it/s]"
     ]
    },
    {
     "name": "stdout",
     "output_type": "stream",
     "text": [
      "G: -0.06 | D: 1.80 | GP: 0.26 | PL: 0.10\n"
     ]
    },
    {
     "name": "stderr",
     "output_type": "stream",
     "text": [
      "default</home/mati/Desktop/workplace/datasets/CelebA-img>:   8%|▊         | 11900/150000 [2:53:18<33:31:11,  1.14it/s]"
     ]
    },
    {
     "name": "stdout",
     "output_type": "stream",
     "text": [
      "G: -0.73 | D: 1.94 | GP: 0.29 | PL: 0.10\n"
     ]
    },
    {
     "name": "stderr",
     "output_type": "stream",
     "text": [
      "default</home/mati/Desktop/workplace/datasets/CelebA-img>:   8%|▊         | 11950/150000 [2:54:02<33:30:38,  1.14it/s]"
     ]
    },
    {
     "name": "stdout",
     "output_type": "stream",
     "text": [
      "G: -0.04 | D: 1.77 | GP: 0.12 | PL: 0.10\n"
     ]
    },
    {
     "name": "stderr",
     "output_type": "stream",
     "text": [
      "default</home/mati/Desktop/workplace/datasets/CelebA-img>:   8%|▊         | 12000/150000 [2:54:46<33:29:51,  1.14it/s]"
     ]
    },
    {
     "name": "stdout",
     "output_type": "stream",
     "text": [
      "G: -0.60 | D: 1.97 | GP: 0.45 | PL: 0.10\n"
     ]
    },
    {
     "name": "stderr",
     "output_type": "stream",
     "text": [
      "default</home/mati/Desktop/workplace/datasets/CelebA-img>:   8%|▊         | 12050/150000 [2:55:31<33:29:27,  1.14it/s]"
     ]
    },
    {
     "name": "stdout",
     "output_type": "stream",
     "text": [
      "G: 2.35 | D: 2.41 | GP: 0.62 | PL: 0.10\n"
     ]
    },
    {
     "name": "stderr",
     "output_type": "stream",
     "text": [
      "default</home/mati/Desktop/workplace/datasets/CelebA-img>:   8%|▊         | 12100/150000 [2:56:15<33:28:41,  1.14it/s]"
     ]
    },
    {
     "name": "stdout",
     "output_type": "stream",
     "text": [
      "G: 0.99 | D: 1.99 | GP: 0.66 | PL: 0.10\n"
     ]
    },
    {
     "name": "stderr",
     "output_type": "stream",
     "text": [
      "default</home/mati/Desktop/workplace/datasets/CelebA-img>:   8%|▊         | 12150/150000 [2:56:58<33:27:58,  1.14it/s]"
     ]
    },
    {
     "name": "stdout",
     "output_type": "stream",
     "text": [
      "G: 1.65 | D: 1.85 | GP: 0.76 | PL: 0.10\n"
     ]
    },
    {
     "name": "stderr",
     "output_type": "stream",
     "text": [
      "default</home/mati/Desktop/workplace/datasets/CelebA-img>:   8%|▊         | 12200/150000 [2:57:42<33:27:15,  1.14it/s]"
     ]
    },
    {
     "name": "stdout",
     "output_type": "stream",
     "text": [
      "G: 2.45 | D: 4.10 | GP: 0.22 | PL: 0.10\n"
     ]
    },
    {
     "name": "stderr",
     "output_type": "stream",
     "text": [
      "default</home/mati/Desktop/workplace/datasets/CelebA-img>:   8%|▊         | 12250/150000 [2:58:26<33:26:32,  1.14it/s]"
     ]
    },
    {
     "name": "stdout",
     "output_type": "stream",
     "text": [
      "G: -0.41 | D: 1.58 | GP: 0.04 | PL: 0.10\n"
     ]
    },
    {
     "name": "stderr",
     "output_type": "stream",
     "text": [
      "default</home/mati/Desktop/workplace/datasets/CelebA-img>:   8%|▊         | 12300/150000 [2:59:10<33:25:49,  1.14it/s]"
     ]
    },
    {
     "name": "stdout",
     "output_type": "stream",
     "text": [
      "G: 0.19 | D: 1.67 | GP: 0.53 | PL: 0.10\n"
     ]
    },
    {
     "name": "stderr",
     "output_type": "stream",
     "text": [
      "default</home/mati/Desktop/workplace/datasets/CelebA-img>:   8%|▊         | 12350/150000 [2:59:53<33:25:05,  1.14it/s]"
     ]
    },
    {
     "name": "stdout",
     "output_type": "stream",
     "text": [
      "G: 0.80 | D: 1.41 | GP: 0.27 | PL: 0.10\n"
     ]
    },
    {
     "name": "stderr",
     "output_type": "stream",
     "text": [
      "default</home/mati/Desktop/workplace/datasets/CelebA-img>:   8%|▊         | 12400/150000 [3:00:37<33:24:21,  1.14it/s]"
     ]
    },
    {
     "name": "stdout",
     "output_type": "stream",
     "text": [
      "G: 0.61 | D: 1.77 | GP: 0.56 | PL: 0.10\n"
     ]
    },
    {
     "name": "stderr",
     "output_type": "stream",
     "text": [
      "default</home/mati/Desktop/workplace/datasets/CelebA-img>:   8%|▊         | 12450/150000 [3:01:21<33:23:45,  1.14it/s]"
     ]
    },
    {
     "name": "stdout",
     "output_type": "stream",
     "text": [
      "G: 0.31 | D: 1.96 | GP: 0.47 | PL: 0.10\n"
     ]
    },
    {
     "name": "stderr",
     "output_type": "stream",
     "text": [
      "default</home/mati/Desktop/workplace/datasets/CelebA-img>:   8%|▊         | 12500/150000 [3:02:04<33:22:50,  1.14it/s]"
     ]
    },
    {
     "name": "stdout",
     "output_type": "stream",
     "text": [
      "G: 0.43 | D: 1.89 | GP: 0.89 | PL: 0.10\n"
     ]
    },
    {
     "name": "stderr",
     "output_type": "stream",
     "text": [
      "default</home/mati/Desktop/workplace/datasets/CelebA-img>:   8%|▊         | 12550/150000 [3:02:49<33:22:19,  1.14it/s]"
     ]
    },
    {
     "name": "stdout",
     "output_type": "stream",
     "text": [
      "G: 2.38 | D: 1.24 | GP: 0.05 | PL: 0.10\n"
     ]
    },
    {
     "name": "stderr",
     "output_type": "stream",
     "text": [
      "default</home/mati/Desktop/workplace/datasets/CelebA-img>:   8%|▊         | 12600/150000 [3:03:32<33:21:28,  1.14it/s]"
     ]
    },
    {
     "name": "stdout",
     "output_type": "stream",
     "text": [
      "G: -0.63 | D: 1.55 | GP: 0.10 | PL: 0.10\n"
     ]
    },
    {
     "name": "stderr",
     "output_type": "stream",
     "text": [
      "default</home/mati/Desktop/workplace/datasets/CelebA-img>:   8%|▊         | 12650/150000 [3:04:17<33:20:56,  1.14it/s]"
     ]
    },
    {
     "name": "stdout",
     "output_type": "stream",
     "text": [
      "G: 0.31 | D: 1.76 | GP: 0.62 | PL: 0.10\n"
     ]
    },
    {
     "name": "stderr",
     "output_type": "stream",
     "text": [
      "default</home/mati/Desktop/workplace/datasets/CelebA-img>:   8%|▊         | 12700/150000 [3:05:00<33:20:03,  1.14it/s]"
     ]
    },
    {
     "name": "stdout",
     "output_type": "stream",
     "text": [
      "G: -0.58 | D: 1.97 | GP: 1.14 | PL: 0.10\n"
     ]
    },
    {
     "name": "stderr",
     "output_type": "stream",
     "text": [
      "default</home/mati/Desktop/workplace/datasets/CelebA-img>:   8%|▊         | 12750/150000 [3:05:44<33:19:27,  1.14it/s]"
     ]
    },
    {
     "name": "stdout",
     "output_type": "stream",
     "text": [
      "G: 0.40 | D: 1.54 | GP: 1.43 | PL: 0.10\n"
     ]
    },
    {
     "name": "stderr",
     "output_type": "stream",
     "text": [
      "default</home/mati/Desktop/workplace/datasets/CelebA-img>:   9%|▊         | 12800/150000 [3:06:27<33:18:34,  1.14it/s]"
     ]
    },
    {
     "name": "stdout",
     "output_type": "stream",
     "text": [
      "G: 0.68 | D: 1.86 | GP: 0.13 | PL: 0.10\n"
     ]
    },
    {
     "name": "stderr",
     "output_type": "stream",
     "text": [
      "default</home/mati/Desktop/workplace/datasets/CelebA-img>:   9%|▊         | 12850/150000 [3:07:13<33:18:16,  1.14it/s]"
     ]
    },
    {
     "name": "stdout",
     "output_type": "stream",
     "text": [
      "G: -0.67 | D: 1.89 | GP: 3.78 | PL: 0.11\n"
     ]
    },
    {
     "name": "stderr",
     "output_type": "stream",
     "text": [
      "default</home/mati/Desktop/workplace/datasets/CelebA-img>:   9%|▊         | 12900/150000 [3:08:00<33:18:03,  1.14it/s]"
     ]
    },
    {
     "name": "stdout",
     "output_type": "stream",
     "text": [
      "G: -0.47 | D: 1.79 | GP: 0.95 | PL: 0.10\n"
     ]
    },
    {
     "name": "stderr",
     "output_type": "stream",
     "text": [
      "default</home/mati/Desktop/workplace/datasets/CelebA-img>:   9%|▊         | 12950/150000 [3:08:43<33:17:19,  1.14it/s]"
     ]
    },
    {
     "name": "stdout",
     "output_type": "stream",
     "text": [
      "G: -0.13 | D: 1.89 | GP: 0.97 | PL: 0.10\n"
     ]
    },
    {
     "name": "stderr",
     "output_type": "stream",
     "text": [
      "default</home/mati/Desktop/workplace/datasets/CelebA-img>:   9%|▊         | 13000/150000 [3:09:27<33:16:39,  1.14it/s]"
     ]
    },
    {
     "name": "stdout",
     "output_type": "stream",
     "text": [
      "G: 0.19 | D: 1.84 | GP: 1.04 | PL: 0.10\n"
     ]
    },
    {
     "name": "stderr",
     "output_type": "stream",
     "text": [
      "default</home/mati/Desktop/workplace/datasets/CelebA-img>:   9%|▊         | 13050/150000 [3:10:14<33:16:28,  1.14it/s]"
     ]
    },
    {
     "name": "stdout",
     "output_type": "stream",
     "text": [
      "G: 0.07 | D: 1.65 | GP: 0.80 | PL: 0.11\n"
     ]
    },
    {
     "name": "stderr",
     "output_type": "stream",
     "text": [
      "default</home/mati/Desktop/workplace/datasets/CelebA-img>:   9%|▊         | 13100/150000 [3:11:00<33:16:09,  1.14it/s]"
     ]
    },
    {
     "name": "stdout",
     "output_type": "stream",
     "text": [
      "G: 0.17 | D: 1.94 | GP: 0.05 | PL: 0.11\n"
     ]
    },
    {
     "name": "stderr",
     "output_type": "stream",
     "text": [
      "default</home/mati/Desktop/workplace/datasets/CelebA-img>:   9%|▉         | 13150/150000 [3:11:45<33:15:39,  1.14it/s]"
     ]
    },
    {
     "name": "stdout",
     "output_type": "stream",
     "text": [
      "G: 0.63 | D: 1.93 | GP: 2.20 | PL: 0.11\n"
     ]
    },
    {
     "name": "stderr",
     "output_type": "stream",
     "text": [
      "default</home/mati/Desktop/workplace/datasets/CelebA-img>:   9%|▉         | 13200/150000 [3:12:31<33:15:16,  1.14it/s]"
     ]
    },
    {
     "name": "stdout",
     "output_type": "stream",
     "text": [
      "G: 1.71 | D: 1.42 | GP: 0.92 | PL: 0.11\n"
     ]
    },
    {
     "name": "stderr",
     "output_type": "stream",
     "text": [
      "default</home/mati/Desktop/workplace/datasets/CelebA-img>:   9%|▉         | 13250/150000 [3:13:16<33:14:40,  1.14it/s]"
     ]
    },
    {
     "name": "stdout",
     "output_type": "stream",
     "text": [
      "G: 1.53 | D: 1.42 | GP: 0.03 | PL: 0.11\n"
     ]
    },
    {
     "name": "stderr",
     "output_type": "stream",
     "text": [
      "default</home/mati/Desktop/workplace/datasets/CelebA-img>:   9%|▉         | 13300/150000 [3:13:58<33:13:46,  1.14it/s]"
     ]
    },
    {
     "name": "stdout",
     "output_type": "stream",
     "text": [
      "G: -0.20 | D: 1.66 | GP: 0.77 | PL: 0.11\n"
     ]
    },
    {
     "name": "stderr",
     "output_type": "stream",
     "text": [
      "default</home/mati/Desktop/workplace/datasets/CelebA-img>:   9%|▉         | 13350/150000 [3:14:43<33:13:12,  1.14it/s]"
     ]
    },
    {
     "name": "stdout",
     "output_type": "stream",
     "text": [
      "G: -0.74 | D: 2.77 | GP: 0.28 | PL: 0.11\n"
     ]
    },
    {
     "name": "stderr",
     "output_type": "stream",
     "text": [
      "default</home/mati/Desktop/workplace/datasets/CelebA-img>:   9%|▉         | 13400/150000 [3:15:27<33:12:28,  1.14it/s]"
     ]
    },
    {
     "name": "stdout",
     "output_type": "stream",
     "text": [
      "G: -1.41 | D: 2.06 | GP: 0.06 | PL: 0.11\n"
     ]
    },
    {
     "name": "stderr",
     "output_type": "stream",
     "text": [
      "default</home/mati/Desktop/workplace/datasets/CelebA-img>:   9%|▉         | 13450/150000 [3:16:14<33:12:18,  1.14it/s]"
     ]
    },
    {
     "name": "stdout",
     "output_type": "stream",
     "text": [
      "G: 0.42 | D: 2.05 | GP: 0.74 | PL: 0.11\n"
     ]
    },
    {
     "name": "stderr",
     "output_type": "stream",
     "text": [
      "default</home/mati/Desktop/workplace/datasets/CelebA-img>:   9%|▉         | 13500/150000 [3:16:58<33:11:39,  1.14it/s]"
     ]
    },
    {
     "name": "stdout",
     "output_type": "stream",
     "text": [
      "G: 3.27 | D: 1.61 | GP: 0.03 | PL: 0.11\n"
     ]
    },
    {
     "name": "stderr",
     "output_type": "stream",
     "text": [
      "default</home/mati/Desktop/workplace/datasets/CelebA-img>:   9%|▉         | 13550/150000 [3:17:43<33:11:11,  1.14it/s]"
     ]
    },
    {
     "name": "stdout",
     "output_type": "stream",
     "text": [
      "G: 0.34 | D: 1.89 | GP: 0.26 | PL: 0.11\n"
     ]
    },
    {
     "name": "stderr",
     "output_type": "stream",
     "text": [
      "default</home/mati/Desktop/workplace/datasets/CelebA-img>:   9%|▉         | 13600/150000 [3:18:27<33:10:23,  1.14it/s]"
     ]
    },
    {
     "name": "stdout",
     "output_type": "stream",
     "text": [
      "G: -0.14 | D: 1.80 | GP: 2.38 | PL: 0.11\n"
     ]
    },
    {
     "name": "stderr",
     "output_type": "stream",
     "text": [
      "default</home/mati/Desktop/workplace/datasets/CelebA-img>:   9%|▉         | 13650/150000 [3:19:13<33:10:01,  1.14it/s]"
     ]
    },
    {
     "name": "stdout",
     "output_type": "stream",
     "text": [
      "G: 0.46 | D: 1.43 | GP: 32.64 | PL: 0.11\n"
     ]
    },
    {
     "name": "stderr",
     "output_type": "stream",
     "text": [
      "default</home/mati/Desktop/workplace/datasets/CelebA-img>:   9%|▉         | 13700/150000 [3:19:58<33:09:33,  1.14it/s]"
     ]
    },
    {
     "name": "stdout",
     "output_type": "stream",
     "text": [
      "G: -0.32 | D: 1.83 | GP: 0.43 | PL: 0.11\n"
     ]
    },
    {
     "name": "stderr",
     "output_type": "stream",
     "text": [
      "default</home/mati/Desktop/workplace/datasets/CelebA-img>:   9%|▉         | 13750/150000 [3:20:43<33:09:03,  1.14it/s]"
     ]
    },
    {
     "name": "stdout",
     "output_type": "stream",
     "text": [
      "G: -0.86 | D: 1.82 | GP: 0.41 | PL: 0.11\n"
     ]
    },
    {
     "name": "stderr",
     "output_type": "stream",
     "text": [
      "default</home/mati/Desktop/workplace/datasets/CelebA-img>:   9%|▉         | 13800/150000 [3:21:28<33:08:26,  1.14it/s]"
     ]
    },
    {
     "name": "stdout",
     "output_type": "stream",
     "text": [
      "G: -1.47 | D: 1.47 | GP: 2.45 | PL: 0.11\n"
     ]
    },
    {
     "name": "stderr",
     "output_type": "stream",
     "text": [
      "default</home/mati/Desktop/workplace/datasets/CelebA-img>:   9%|▉         | 13850/150000 [3:22:12<33:07:51,  1.14it/s]"
     ]
    },
    {
     "name": "stdout",
     "output_type": "stream",
     "text": [
      "G: -0.63 | D: 1.95 | GP: 1.19 | PL: 0.11\n"
     ]
    },
    {
     "name": "stderr",
     "output_type": "stream",
     "text": [
      "default</home/mati/Desktop/workplace/datasets/CelebA-img>:   9%|▉         | 13900/150000 [3:22:57<33:07:18,  1.14it/s]"
     ]
    },
    {
     "name": "stdout",
     "output_type": "stream",
     "text": [
      "G: -6.01 | D: 0.99 | GP: 0.77 | PL: 0.11\n"
     ]
    },
    {
     "name": "stderr",
     "output_type": "stream",
     "text": [
      "default</home/mati/Desktop/workplace/datasets/CelebA-img>:   9%|▉         | 13950/150000 [3:23:42<33:06:44,  1.14it/s]"
     ]
    },
    {
     "name": "stdout",
     "output_type": "stream",
     "text": [
      "G: -0.46 | D: 1.88 | GP: 2.20 | PL: 0.11\n"
     ]
    },
    {
     "name": "stderr",
     "output_type": "stream",
     "text": [
      "default</home/mati/Desktop/workplace/datasets/CelebA-img>:   9%|▉         | 14000/150000 [3:24:27<33:06:05,  1.14it/s]"
     ]
    },
    {
     "name": "stdout",
     "output_type": "stream",
     "text": [
      "G: 0.90 | D: 1.77 | GP: 0.50 | PL: 0.11\n"
     ]
    },
    {
     "name": "stderr",
     "output_type": "stream",
     "text": [
      "default</home/mati/Desktop/workplace/datasets/CelebA-img>:   9%|▉         | 14050/150000 [3:25:14<33:05:54,  1.14it/s]"
     ]
    },
    {
     "name": "stdout",
     "output_type": "stream",
     "text": [
      "G: -0.50 | D: 2.04 | GP: 2.24 | PL: 0.11\n"
     ]
    },
    {
     "name": "stderr",
     "output_type": "stream",
     "text": [
      "default</home/mati/Desktop/workplace/datasets/CelebA-img>:   9%|▉         | 14100/150000 [3:25:57<33:05:07,  1.14it/s]"
     ]
    },
    {
     "name": "stdout",
     "output_type": "stream",
     "text": [
      "G: 0.47 | D: 1.86 | GP: 0.67 | PL: 0.11\n"
     ]
    },
    {
     "name": "stderr",
     "output_type": "stream",
     "text": [
      "default</home/mati/Desktop/workplace/datasets/CelebA-img>:   9%|▉         | 14150/150000 [3:26:45<33:05:05,  1.14it/s]"
     ]
    },
    {
     "name": "stdout",
     "output_type": "stream",
     "text": [
      "G: 1.86 | D: 1.87 | GP: 1.66 | PL: 0.11\n"
     ]
    },
    {
     "name": "stderr",
     "output_type": "stream",
     "text": [
      "default</home/mati/Desktop/workplace/datasets/CelebA-img>:   9%|▉         | 14200/150000 [3:27:30<33:04:26,  1.14it/s]"
     ]
    },
    {
     "name": "stdout",
     "output_type": "stream",
     "text": [
      "G: -6.56 | D: 1.32 | GP: 0.06 | PL: 0.11\n"
     ]
    },
    {
     "name": "stderr",
     "output_type": "stream",
     "text": [
      "default</home/mati/Desktop/workplace/datasets/CelebA-img>:  10%|▉         | 14250/150000 [3:28:14<33:03:46,  1.14it/s]"
     ]
    },
    {
     "name": "stdout",
     "output_type": "stream",
     "text": [
      "G: 0.35 | D: 1.07 | GP: 9.33 | PL: 0.11\n"
     ]
    },
    {
     "name": "stderr",
     "output_type": "stream",
     "text": [
      "default</home/mati/Desktop/workplace/datasets/CelebA-img>:  10%|▉         | 14300/150000 [3:29:02<33:03:39,  1.14it/s]"
     ]
    },
    {
     "name": "stdout",
     "output_type": "stream",
     "text": [
      "G: 0.30 | D: 1.85 | GP: 0.95 | PL: 0.11\n"
     ]
    },
    {
     "name": "stderr",
     "output_type": "stream",
     "text": [
      "default</home/mati/Desktop/workplace/datasets/CelebA-img>:  10%|▉         | 14350/150000 [3:29:50<33:03:35,  1.14it/s]"
     ]
    },
    {
     "name": "stdout",
     "output_type": "stream",
     "text": [
      "G: 0.17 | D: 1.75 | GP: 3.59 | PL: 0.11\n"
     ]
    },
    {
     "name": "stderr",
     "output_type": "stream",
     "text": [
      "default</home/mati/Desktop/workplace/datasets/CelebA-img>:  10%|▉         | 14400/150000 [3:30:32<33:02:40,  1.14it/s]"
     ]
    },
    {
     "name": "stdout",
     "output_type": "stream",
     "text": [
      "G: -0.45 | D: 2.02 | GP: 0.07 | PL: 0.11\n"
     ]
    },
    {
     "name": "stderr",
     "output_type": "stream",
     "text": [
      "default</home/mati/Desktop/workplace/datasets/CelebA-img>:  10%|▉         | 14450/150000 [3:31:17<33:02:00,  1.14it/s]"
     ]
    },
    {
     "name": "stdout",
     "output_type": "stream",
     "text": [
      "G: 0.62 | D: 1.74 | GP: 0.38 | PL: 0.11\n"
     ]
    },
    {
     "name": "stderr",
     "output_type": "stream",
     "text": [
      "default</home/mati/Desktop/workplace/datasets/CelebA-img>:  10%|▉         | 14500/150000 [3:32:00<33:01:12,  1.14it/s]"
     ]
    },
    {
     "name": "stdout",
     "output_type": "stream",
     "text": [
      "G: -0.09 | D: 1.90 | GP: 0.29 | PL: 0.11\n"
     ]
    },
    {
     "name": "stderr",
     "output_type": "stream",
     "text": [
      "default</home/mati/Desktop/workplace/datasets/CelebA-img>:  10%|▉         | 14550/150000 [3:32:44<33:00:24,  1.14it/s]"
     ]
    },
    {
     "name": "stdout",
     "output_type": "stream",
     "text": [
      "G: -0.11 | D: 1.83 | GP: 2.38 | PL: 0.11\n"
     ]
    },
    {
     "name": "stderr",
     "output_type": "stream",
     "text": [
      "default</home/mati/Desktop/workplace/datasets/CelebA-img>:  10%|▉         | 14600/150000 [3:33:27<32:59:37,  1.14it/s]"
     ]
    },
    {
     "name": "stdout",
     "output_type": "stream",
     "text": [
      "G: 0.57 | D: 1.53 | GP: 0.66 | PL: 0.11\n"
     ]
    },
    {
     "name": "stderr",
     "output_type": "stream",
     "text": [
      "default</home/mati/Desktop/workplace/datasets/CelebA-img>:  10%|▉         | 14650/150000 [3:34:11<32:58:51,  1.14it/s]"
     ]
    },
    {
     "name": "stdout",
     "output_type": "stream",
     "text": [
      "G: 0.68 | D: 0.84 | GP: 32.44 | PL: 0.11\n"
     ]
    },
    {
     "name": "stderr",
     "output_type": "stream",
     "text": [
      "default</home/mati/Desktop/workplace/datasets/CelebA-img>:  10%|▉         | 14700/150000 [3:34:54<32:58:02,  1.14it/s]"
     ]
    },
    {
     "name": "stdout",
     "output_type": "stream",
     "text": [
      "G: 0.48 | D: 1.88 | GP: 0.32 | PL: 0.11\n"
     ]
    },
    {
     "name": "stderr",
     "output_type": "stream",
     "text": [
      "default</home/mati/Desktop/workplace/datasets/CelebA-img>:  10%|▉         | 14750/150000 [3:35:37<32:57:14,  1.14it/s]"
     ]
    },
    {
     "name": "stdout",
     "output_type": "stream",
     "text": [
      "G: -0.88 | D: 1.94 | GP: 2.65 | PL: 0.11\n"
     ]
    },
    {
     "name": "stderr",
     "output_type": "stream",
     "text": [
      "default</home/mati/Desktop/workplace/datasets/CelebA-img>:  10%|▉         | 14800/150000 [3:36:21<32:56:24,  1.14it/s]"
     ]
    },
    {
     "name": "stdout",
     "output_type": "stream",
     "text": [
      "G: 2.31 | D: 37.76 | GP: 0.13 | PL: 0.11\n"
     ]
    },
    {
     "name": "stderr",
     "output_type": "stream",
     "text": [
      "default</home/mati/Desktop/workplace/datasets/CelebA-img>:  10%|▉         | 14850/150000 [3:37:05<32:55:43,  1.14it/s]"
     ]
    },
    {
     "name": "stdout",
     "output_type": "stream",
     "text": [
      "G: -0.19 | D: 1.88 | GP: 2.64 | PL: 0.11\n"
     ]
    },
    {
     "name": "stderr",
     "output_type": "stream",
     "text": [
      "default</home/mati/Desktop/workplace/datasets/CelebA-img>:  10%|▉         | 14900/150000 [3:37:47<32:54:48,  1.14it/s]"
     ]
    },
    {
     "name": "stdout",
     "output_type": "stream",
     "text": [
      "G: -0.37 | D: 1.97 | GP: 0.17 | PL: 0.11\n"
     ]
    },
    {
     "name": "stderr",
     "output_type": "stream",
     "text": [
      "default</home/mati/Desktop/workplace/datasets/CelebA-img>:  10%|▉         | 14950/150000 [3:38:32<32:54:07,  1.14it/s]"
     ]
    },
    {
     "name": "stdout",
     "output_type": "stream",
     "text": [
      "G: -0.35 | D: 1.99 | GP: 1.26 | PL: 0.11\n"
     ]
    },
    {
     "name": "stderr",
     "output_type": "stream",
     "text": [
      "default</home/mati/Desktop/workplace/datasets/CelebA-img>:  10%|█         | 15000/150000 [3:39:15<32:53:16,  1.14it/s]"
     ]
    },
    {
     "name": "stdout",
     "output_type": "stream",
     "text": [
      "G: 0.30 | D: 1.94 | GP: 0.05 | PL: 0.11\n"
     ]
    },
    {
     "name": "stderr",
     "output_type": "stream",
     "text": [
      "default</home/mati/Desktop/workplace/datasets/CelebA-img>:  10%|█         | 15050/150000 [3:40:00<32:52:44,  1.14it/s]"
     ]
    },
    {
     "name": "stdout",
     "output_type": "stream",
     "text": [
      "G: -0.06 | D: 1.95 | GP: 1.25 | PL: 0.11\n"
     ]
    },
    {
     "name": "stderr",
     "output_type": "stream",
     "text": [
      "default</home/mati/Desktop/workplace/datasets/CelebA-img>:  10%|█         | 15100/150000 [3:40:42<32:51:48,  1.14it/s]"
     ]
    },
    {
     "name": "stdout",
     "output_type": "stream",
     "text": [
      "G: 0.30 | D: 1.76 | GP: 0.05 | PL: 0.11\n"
     ]
    },
    {
     "name": "stderr",
     "output_type": "stream",
     "text": [
      "default</home/mati/Desktop/workplace/datasets/CelebA-img>:  10%|█         | 15150/150000 [3:41:27<32:51:07,  1.14it/s]"
     ]
    },
    {
     "name": "stdout",
     "output_type": "stream",
     "text": [
      "G: -0.74 | D: 2.31 | GP: 1.15 | PL: 0.11\n"
     ]
    },
    {
     "name": "stderr",
     "output_type": "stream",
     "text": [
      "default</home/mati/Desktop/workplace/datasets/CelebA-img>:  10%|█         | 15200/150000 [3:42:09<32:50:12,  1.14it/s]"
     ]
    },
    {
     "name": "stdout",
     "output_type": "stream",
     "text": [
      "G: -0.16 | D: 2.02 | GP: 0.22 | PL: 0.11\n"
     ]
    },
    {
     "name": "stderr",
     "output_type": "stream",
     "text": [
      "default</home/mati/Desktop/workplace/datasets/CelebA-img>:  10%|█         | 15250/150000 [3:42:53<32:49:32,  1.14it/s]"
     ]
    },
    {
     "name": "stdout",
     "output_type": "stream",
     "text": [
      "G: -0.30 | D: 2.25 | GP: 0.57 | PL: 0.11\n"
     ]
    },
    {
     "name": "stderr",
     "output_type": "stream",
     "text": [
      "default</home/mati/Desktop/workplace/datasets/CelebA-img>:  10%|█         | 15300/150000 [3:43:37<32:48:44,  1.14it/s]"
     ]
    },
    {
     "name": "stdout",
     "output_type": "stream",
     "text": [
      "G: -0.01 | D: 1.88 | GP: 3.65 | PL: 0.11\n"
     ]
    },
    {
     "name": "stderr",
     "output_type": "stream",
     "text": [
      "default</home/mati/Desktop/workplace/datasets/CelebA-img>:  10%|█         | 15350/150000 [3:44:20<32:47:56,  1.14it/s]"
     ]
    },
    {
     "name": "stdout",
     "output_type": "stream",
     "text": [
      "G: 3.69 | D: 1.59 | GP: 0.28 | PL: 0.11\n"
     ]
    },
    {
     "name": "stderr",
     "output_type": "stream",
     "text": [
      "default</home/mati/Desktop/workplace/datasets/CelebA-img>:  10%|█         | 15400/150000 [3:45:04<32:47:10,  1.14it/s]"
     ]
    },
    {
     "name": "stdout",
     "output_type": "stream",
     "text": [
      "G: 0.36 | D: 1.87 | GP: 0.02 | PL: 0.11\n"
     ]
    },
    {
     "name": "stderr",
     "output_type": "stream",
     "text": [
      "default</home/mati/Desktop/workplace/datasets/CelebA-img>:  10%|█         | 15450/150000 [3:45:53<32:47:11,  1.14it/s]"
     ]
    },
    {
     "name": "stdout",
     "output_type": "stream",
     "text": [
      "G: 0.03 | D: 2.04 | GP: 0.08 | PL: 0.11\n"
     ]
    },
    {
     "name": "stderr",
     "output_type": "stream",
     "text": [
      "default</home/mati/Desktop/workplace/datasets/CelebA-img>:  10%|█         | 15500/150000 [3:46:37<32:46:29,  1.14it/s]"
     ]
    },
    {
     "name": "stdout",
     "output_type": "stream",
     "text": [
      "G: -0.47 | D: 1.92 | GP: 0.10 | PL: 0.11\n"
     ]
    },
    {
     "name": "stderr",
     "output_type": "stream",
     "text": [
      "default</home/mati/Desktop/workplace/datasets/CelebA-img>:  10%|█         | 15550/150000 [3:47:20<32:45:41,  1.14it/s]"
     ]
    },
    {
     "name": "stdout",
     "output_type": "stream",
     "text": [
      "G: 0.88 | D: 1.79 | GP: 0.88 | PL: 0.11\n"
     ]
    },
    {
     "name": "stderr",
     "output_type": "stream",
     "text": [
      "default</home/mati/Desktop/workplace/datasets/CelebA-img>:  10%|█         | 15600/150000 [3:48:04<32:44:53,  1.14it/s]"
     ]
    },
    {
     "name": "stdout",
     "output_type": "stream",
     "text": [
      "G: -0.30 | D: 1.85 | GP: 0.44 | PL: 0.11\n"
     ]
    },
    {
     "name": "stderr",
     "output_type": "stream",
     "text": [
      "default</home/mati/Desktop/workplace/datasets/CelebA-img>:  10%|█         | 15650/150000 [3:48:48<32:44:12,  1.14it/s]"
     ]
    },
    {
     "name": "stdout",
     "output_type": "stream",
     "text": [
      "G: -0.23 | D: 1.85 | GP: 1.42 | PL: 0.11\n"
     ]
    },
    {
     "name": "stderr",
     "output_type": "stream",
     "text": [
      "default</home/mati/Desktop/workplace/datasets/CelebA-img>:  10%|█         | 15700/150000 [3:49:30<32:43:16,  1.14it/s]"
     ]
    },
    {
     "name": "stdout",
     "output_type": "stream",
     "text": [
      "G: 0.76 | D: 1.85 | GP: 0.47 | PL: 0.11\n"
     ]
    },
    {
     "name": "stderr",
     "output_type": "stream",
     "text": [
      "default</home/mati/Desktop/workplace/datasets/CelebA-img>:  10%|█         | 15750/150000 [3:50:14<32:42:36,  1.14it/s]"
     ]
    },
    {
     "name": "stdout",
     "output_type": "stream",
     "text": [
      "G: 1.01 | D: 1.64 | GP: 1.49 | PL: 0.11\n"
     ]
    },
    {
     "name": "stderr",
     "output_type": "stream",
     "text": [
      "default</home/mati/Desktop/workplace/datasets/CelebA-img>:  11%|█         | 15800/150000 [3:50:57<32:41:42,  1.14it/s]"
     ]
    },
    {
     "name": "stdout",
     "output_type": "stream",
     "text": [
      "G: 0.07 | D: 1.74 | GP: 0.55 | PL: 0.11\n"
     ]
    },
    {
     "name": "stderr",
     "output_type": "stream",
     "text": [
      "default</home/mati/Desktop/workplace/datasets/CelebA-img>:  11%|█         | 15850/150000 [3:51:41<32:41:01,  1.14it/s]"
     ]
    },
    {
     "name": "stdout",
     "output_type": "stream",
     "text": [
      "G: 0.10 | D: 1.89 | GP: 1.18 | PL: 0.11\n"
     ]
    },
    {
     "name": "stderr",
     "output_type": "stream",
     "text": [
      "default</home/mati/Desktop/workplace/datasets/CelebA-img>:  11%|█         | 15900/150000 [3:52:24<32:40:08,  1.14it/s]"
     ]
    },
    {
     "name": "stdout",
     "output_type": "stream",
     "text": [
      "G: 2.20 | D: 0.00 | GP: 3.37 | PL: 0.11\n"
     ]
    },
    {
     "name": "stderr",
     "output_type": "stream",
     "text": [
      "default</home/mati/Desktop/workplace/datasets/CelebA-img>:  11%|█         | 15950/150000 [3:53:08<32:39:27,  1.14it/s]"
     ]
    },
    {
     "name": "stdout",
     "output_type": "stream",
     "text": [
      "G: 0.43 | D: 1.64 | GP: 0.04 | PL: 0.11\n"
     ]
    },
    {
     "name": "stderr",
     "output_type": "stream",
     "text": [
      "default</home/mati/Desktop/workplace/datasets/CelebA-img>:  11%|█         | 16000/150000 [3:53:51<32:38:36,  1.14it/s]"
     ]
    },
    {
     "name": "stdout",
     "output_type": "stream",
     "text": [
      "G: 0.34 | D: 2.18 | GP: 11.41 | PL: 0.11\n"
     ]
    },
    {
     "name": "stderr",
     "output_type": "stream",
     "text": [
      "default</home/mati/Desktop/workplace/datasets/CelebA-img>:  11%|█         | 16050/150000 [3:54:37<32:38:04,  1.14it/s]"
     ]
    },
    {
     "name": "stdout",
     "output_type": "stream",
     "text": [
      "G: -0.10 | D: 1.90 | GP: 3.03 | PL: 0.11\n"
     ]
    },
    {
     "name": "stderr",
     "output_type": "stream",
     "text": [
      "default</home/mati/Desktop/workplace/datasets/CelebA-img>:  11%|█         | 16100/150000 [3:55:20<32:37:16,  1.14it/s]"
     ]
    },
    {
     "name": "stdout",
     "output_type": "stream",
     "text": [
      "G: -0.45 | D: 2.92 | GP: 3.19 | PL: 0.11\n"
     ]
    },
    {
     "name": "stderr",
     "output_type": "stream",
     "text": [
      "default</home/mati/Desktop/workplace/datasets/CelebA-img>:  11%|█         | 16150/150000 [3:56:03<32:36:28,  1.14it/s]"
     ]
    },
    {
     "name": "stdout",
     "output_type": "stream",
     "text": [
      "G: 0.78 | D: 2.13 | GP: 1.74 | PL: 0.11\n"
     ]
    },
    {
     "name": "stderr",
     "output_type": "stream",
     "text": [
      "default</home/mati/Desktop/workplace/datasets/CelebA-img>:  11%|█         | 16200/150000 [3:56:47<32:35:40,  1.14it/s]"
     ]
    },
    {
     "name": "stdout",
     "output_type": "stream",
     "text": [
      "G: -0.40 | D: 1.86 | GP: 0.03 | PL: 0.11\n"
     ]
    },
    {
     "name": "stderr",
     "output_type": "stream",
     "text": [
      "default</home/mati/Desktop/workplace/datasets/CelebA-img>:  11%|█         | 16250/150000 [3:57:30<32:34:54,  1.14it/s]"
     ]
    },
    {
     "name": "stdout",
     "output_type": "stream",
     "text": [
      "G: 0.33 | D: 1.78 | GP: 1.13 | PL: 0.11\n"
     ]
    },
    {
     "name": "stderr",
     "output_type": "stream",
     "text": [
      "default</home/mati/Desktop/workplace/datasets/CelebA-img>:  11%|█         | 16300/150000 [3:58:14<32:34:07,  1.14it/s]"
     ]
    },
    {
     "name": "stdout",
     "output_type": "stream",
     "text": [
      "G: -0.11 | D: 1.90 | GP: 1.39 | PL: 0.11\n"
     ]
    },
    {
     "name": "stderr",
     "output_type": "stream",
     "text": [
      "default</home/mati/Desktop/workplace/datasets/CelebA-img>:  11%|█         | 16350/150000 [3:58:57<32:33:19,  1.14it/s]"
     ]
    },
    {
     "name": "stdout",
     "output_type": "stream",
     "text": [
      "G: -0.04 | D: 1.53 | GP: 6.69 | PL: 0.11\n"
     ]
    },
    {
     "name": "stderr",
     "output_type": "stream",
     "text": [
      "default</home/mati/Desktop/workplace/datasets/CelebA-img>:  11%|█         | 16400/150000 [3:59:40<32:32:30,  1.14it/s]"
     ]
    },
    {
     "name": "stdout",
     "output_type": "stream",
     "text": [
      "G: -0.18 | D: 1.87 | GP: 0.81 | PL: 0.11\n"
     ]
    },
    {
     "name": "stderr",
     "output_type": "stream",
     "text": [
      "default</home/mati/Desktop/workplace/datasets/CelebA-img>:  11%|█         | 16450/150000 [4:00:24<32:31:49,  1.14it/s]"
     ]
    },
    {
     "name": "stdout",
     "output_type": "stream",
     "text": [
      "G: 0.24 | D: 1.72 | GP: 0.17 | PL: 0.11\n"
     ]
    },
    {
     "name": "stderr",
     "output_type": "stream",
     "text": [
      "default</home/mati/Desktop/workplace/datasets/CelebA-img>:  11%|█         | 16500/150000 [4:01:07<32:30:55,  1.14it/s]"
     ]
    },
    {
     "name": "stdout",
     "output_type": "stream",
     "text": [
      "G: -0.01 | D: 1.95 | GP: 0.08 | PL: 0.11\n"
     ]
    },
    {
     "name": "stderr",
     "output_type": "stream",
     "text": [
      "default</home/mati/Desktop/workplace/datasets/CelebA-img>:  11%|█         | 16550/150000 [4:01:51<32:30:13,  1.14it/s]"
     ]
    },
    {
     "name": "stdout",
     "output_type": "stream",
     "text": [
      "G: 0.01 | D: 1.89 | GP: 3.82 | PL: 0.11\n"
     ]
    },
    {
     "name": "stderr",
     "output_type": "stream",
     "text": [
      "default</home/mati/Desktop/workplace/datasets/CelebA-img>:  11%|█         | 16600/150000 [4:02:34<32:29:18,  1.14it/s]"
     ]
    },
    {
     "name": "stdout",
     "output_type": "stream",
     "text": [
      "G: 0.16 | D: 1.70 | GP: 0.03 | PL: 0.11\n"
     ]
    },
    {
     "name": "stderr",
     "output_type": "stream",
     "text": [
      "default</home/mati/Desktop/workplace/datasets/CelebA-img>:  11%|█         | 16650/150000 [4:03:18<32:28:37,  1.14it/s]"
     ]
    },
    {
     "name": "stdout",
     "output_type": "stream",
     "text": [
      "G: 0.34 | D: 1.78 | GP: 0.05 | PL: 0.11\n"
     ]
    },
    {
     "name": "stderr",
     "output_type": "stream",
     "text": [
      "default</home/mati/Desktop/workplace/datasets/CelebA-img>:  11%|█         | 16700/150000 [4:04:00<32:27:43,  1.14it/s]"
     ]
    },
    {
     "name": "stdout",
     "output_type": "stream",
     "text": [
      "G: -0.16 | D: 1.87 | GP: 0.24 | PL: 0.11\n"
     ]
    },
    {
     "name": "stderr",
     "output_type": "stream",
     "text": [
      "default</home/mati/Desktop/workplace/datasets/CelebA-img>:  11%|█         | 16750/150000 [4:04:44<32:27:01,  1.14it/s]"
     ]
    },
    {
     "name": "stdout",
     "output_type": "stream",
     "text": [
      "G: 0.18 | D: 1.99 | GP: 1.70 | PL: 0.11\n"
     ]
    },
    {
     "name": "stderr",
     "output_type": "stream",
     "text": [
      "default</home/mati/Desktop/workplace/datasets/CelebA-img>:  11%|█         | 16800/150000 [4:05:27<32:26:07,  1.14it/s]"
     ]
    },
    {
     "name": "stdout",
     "output_type": "stream",
     "text": [
      "G: -0.26 | D: 1.74 | GP: 1.84 | PL: 0.11\n"
     ]
    },
    {
     "name": "stderr",
     "output_type": "stream",
     "text": [
      "default</home/mati/Desktop/workplace/datasets/CelebA-img>:  11%|█         | 16850/150000 [4:06:11<32:25:27,  1.14it/s]"
     ]
    },
    {
     "name": "stdout",
     "output_type": "stream",
     "text": [
      "G: 0.10 | D: 1.53 | GP: 0.05 | PL: 0.11\n"
     ]
    },
    {
     "name": "stderr",
     "output_type": "stream",
     "text": [
      "default</home/mati/Desktop/workplace/datasets/CelebA-img>:  11%|█▏        | 16900/150000 [4:06:55<32:24:39,  1.14it/s]"
     ]
    },
    {
     "name": "stdout",
     "output_type": "stream",
     "text": [
      "G: 0.22 | D: 2.01 | GP: 0.99 | PL: 0.11\n"
     ]
    },
    {
     "name": "stderr",
     "output_type": "stream",
     "text": [
      "default</home/mati/Desktop/workplace/datasets/CelebA-img>:  11%|█▏        | 16950/150000 [4:07:38<32:23:51,  1.14it/s]"
     ]
    },
    {
     "name": "stdout",
     "output_type": "stream",
     "text": [
      "G: -0.22 | D: 1.98 | GP: 0.64 | PL: 0.11\n"
     ]
    },
    {
     "name": "stderr",
     "output_type": "stream",
     "text": [
      "default</home/mati/Desktop/workplace/datasets/CelebA-img>:  11%|█▏        | 17000/150000 [4:08:22<32:23:07,  1.14it/s]"
     ]
    },
    {
     "name": "stdout",
     "output_type": "stream",
     "text": [
      "G: -0.21 | D: 1.69 | GP: 0.09 | PL: 0.11\n"
     ]
    },
    {
     "name": "stderr",
     "output_type": "stream",
     "text": [
      "default</home/mati/Desktop/workplace/datasets/CelebA-img>:  11%|█▏        | 17050/150000 [4:09:06<32:22:28,  1.14it/s]"
     ]
    },
    {
     "name": "stdout",
     "output_type": "stream",
     "text": [
      "G: 0.13 | D: 1.79 | GP: 3.06 | PL: 0.11\n"
     ]
    },
    {
     "name": "stderr",
     "output_type": "stream",
     "text": [
      "default</home/mati/Desktop/workplace/datasets/CelebA-img>:  11%|█▏        | 17100/150000 [4:09:49<32:21:40,  1.14it/s]"
     ]
    },
    {
     "name": "stdout",
     "output_type": "stream",
     "text": [
      "G: 0.10 | D: 1.93 | GP: 1.24 | PL: 0.11\n"
     ]
    },
    {
     "name": "stderr",
     "output_type": "stream",
     "text": [
      "default</home/mati/Desktop/workplace/datasets/CelebA-img>:  11%|█▏        | 17150/150000 [4:10:33<32:20:52,  1.14it/s]"
     ]
    },
    {
     "name": "stdout",
     "output_type": "stream",
     "text": [
      "G: 0.24 | D: 1.83 | GP: 0.45 | PL: 0.11\n"
     ]
    },
    {
     "name": "stderr",
     "output_type": "stream",
     "text": [
      "default</home/mati/Desktop/workplace/datasets/CelebA-img>:  11%|█▏        | 17200/150000 [4:11:16<32:20:04,  1.14it/s]"
     ]
    },
    {
     "name": "stdout",
     "output_type": "stream",
     "text": [
      "G: 1.15 | D: 1.58 | GP: 0.05 | PL: 0.11\n"
     ]
    },
    {
     "name": "stderr",
     "output_type": "stream",
     "text": [
      "default</home/mati/Desktop/workplace/datasets/CelebA-img>:  12%|█▏        | 17250/150000 [4:12:00<32:19:23,  1.14it/s]"
     ]
    },
    {
     "name": "stdout",
     "output_type": "stream",
     "text": [
      "G: 0.41 | D: 1.80 | GP: 0.47 | PL: 0.11\n"
     ]
    },
    {
     "name": "stderr",
     "output_type": "stream",
     "text": [
      "default</home/mati/Desktop/workplace/datasets/CelebA-img>:  12%|█▏        | 17300/150000 [4:12:43<32:18:29,  1.14it/s]"
     ]
    },
    {
     "name": "stdout",
     "output_type": "stream",
     "text": [
      "G: 0.40 | D: 1.59 | GP: 20.49 | PL: 0.11\n"
     ]
    },
    {
     "name": "stderr",
     "output_type": "stream",
     "text": [
      "default</home/mati/Desktop/workplace/datasets/CelebA-img>:  12%|█▏        | 17350/150000 [4:13:27<32:17:49,  1.14it/s]"
     ]
    },
    {
     "name": "stdout",
     "output_type": "stream",
     "text": [
      "G: -0.33 | D: 1.95 | GP: 0.32 | PL: 0.11\n"
     ]
    },
    {
     "name": "stderr",
     "output_type": "stream",
     "text": [
      "default</home/mati/Desktop/workplace/datasets/CelebA-img>:  12%|█▏        | 17400/150000 [4:14:10<32:16:57,  1.14it/s]"
     ]
    },
    {
     "name": "stdout",
     "output_type": "stream",
     "text": [
      "G: 0.37 | D: 1.84 | GP: 0.99 | PL: 0.11\n"
     ]
    },
    {
     "name": "stderr",
     "output_type": "stream",
     "text": [
      "default</home/mati/Desktop/workplace/datasets/CelebA-img>:  12%|█▏        | 17450/150000 [4:14:54<32:16:16,  1.14it/s]"
     ]
    },
    {
     "name": "stdout",
     "output_type": "stream",
     "text": [
      "G: 0.66 | D: 1.66 | GP: 3.07 | PL: 0.11\n"
     ]
    },
    {
     "name": "stderr",
     "output_type": "stream",
     "text": [
      "default</home/mati/Desktop/workplace/datasets/CelebA-img>:  12%|█▏        | 17500/150000 [4:15:37<32:15:23,  1.14it/s]"
     ]
    },
    {
     "name": "stdout",
     "output_type": "stream",
     "text": [
      "G: 2.04 | D: 2.90 | GP: 0.01 | PL: 0.11\n"
     ]
    },
    {
     "name": "stderr",
     "output_type": "stream",
     "text": [
      "default</home/mati/Desktop/workplace/datasets/CelebA-img>:  12%|█▏        | 17550/150000 [4:16:21<32:14:42,  1.14it/s]"
     ]
    },
    {
     "name": "stdout",
     "output_type": "stream",
     "text": [
      "G: 1.12 | D: 1.66 | GP: 15.86 | PL: 0.11\n"
     ]
    },
    {
     "name": "stderr",
     "output_type": "stream",
     "text": [
      "default</home/mati/Desktop/workplace/datasets/CelebA-img>:  12%|█▏        | 17600/150000 [4:17:03<32:13:49,  1.14it/s]"
     ]
    },
    {
     "name": "stdout",
     "output_type": "stream",
     "text": [
      "G: 0.07 | D: 1.87 | GP: 1.09 | PL: 0.11\n"
     ]
    },
    {
     "name": "stderr",
     "output_type": "stream",
     "text": [
      "default</home/mati/Desktop/workplace/datasets/CelebA-img>:  12%|█▏        | 17650/150000 [4:17:48<32:13:08,  1.14it/s]"
     ]
    },
    {
     "name": "stdout",
     "output_type": "stream",
     "text": [
      "G: -0.82 | D: 1.97 | GP: 2.11 | PL: 0.11\n"
     ]
    },
    {
     "name": "stderr",
     "output_type": "stream",
     "text": [
      "default</home/mati/Desktop/workplace/datasets/CelebA-img>:  12%|█▏        | 17700/150000 [4:18:31<32:12:22,  1.14it/s]"
     ]
    },
    {
     "name": "stdout",
     "output_type": "stream",
     "text": [
      "G: -3.41 | D: 1.03 | GP: 0.67 | PL: 0.11\n"
     ]
    },
    {
     "name": "stderr",
     "output_type": "stream",
     "text": [
      "default</home/mati/Desktop/workplace/datasets/CelebA-img>:  12%|█▏        | 17750/150000 [4:19:14<32:11:34,  1.14it/s]"
     ]
    },
    {
     "name": "stdout",
     "output_type": "stream",
     "text": [
      "G: -0.28 | D: 2.22 | GP: 0.52 | PL: 0.11\n"
     ]
    },
    {
     "name": "stderr",
     "output_type": "stream",
     "text": [
      "default</home/mati/Desktop/workplace/datasets/CelebA-img>:  12%|█▏        | 17800/150000 [4:19:58<32:10:49,  1.14it/s]"
     ]
    },
    {
     "name": "stdout",
     "output_type": "stream",
     "text": [
      "G: 0.51 | D: 2.00 | GP: 0.41 | PL: 0.11\n"
     ]
    },
    {
     "name": "stderr",
     "output_type": "stream",
     "text": [
      "default</home/mati/Desktop/workplace/datasets/CelebA-img>:  12%|█▏        | 17850/150000 [4:20:41<32:10:01,  1.14it/s]"
     ]
    },
    {
     "name": "stdout",
     "output_type": "stream",
     "text": [
      "G: 0.27 | D: 1.72 | GP: 1.58 | PL: 0.11\n"
     ]
    },
    {
     "name": "stderr",
     "output_type": "stream",
     "text": [
      "default</home/mati/Desktop/workplace/datasets/CelebA-img>:  12%|█▏        | 17900/150000 [4:21:25<32:09:14,  1.14it/s]"
     ]
    },
    {
     "name": "stdout",
     "output_type": "stream",
     "text": [
      "G: 0.25 | D: 1.93 | GP: 0.10 | PL: 0.11\n"
     ]
    },
    {
     "name": "stderr",
     "output_type": "stream",
     "text": [
      "default</home/mati/Desktop/workplace/datasets/CelebA-img>:  12%|█▏        | 17950/150000 [4:22:08<32:08:28,  1.14it/s]"
     ]
    },
    {
     "name": "stdout",
     "output_type": "stream",
     "text": [
      "G: -0.26 | D: 2.01 | GP: 0.44 | PL: 0.11\n"
     ]
    },
    {
     "name": "stderr",
     "output_type": "stream",
     "text": [
      "default</home/mati/Desktop/workplace/datasets/CelebA-img>:  12%|█▏        | 18000/150000 [4:22:52<32:07:45,  1.14it/s]"
     ]
    },
    {
     "name": "stdout",
     "output_type": "stream",
     "text": [
      "G: 0.30 | D: 1.60 | GP: 0.05 | PL: 0.11\n"
     ]
    },
    {
     "name": "stderr",
     "output_type": "stream",
     "text": [
      "default</home/mati/Desktop/workplace/datasets/CelebA-img>:  12%|█▏        | 18050/150000 [4:23:37<32:07:11,  1.14it/s]"
     ]
    },
    {
     "name": "stdout",
     "output_type": "stream",
     "text": [
      "G: -0.06 | D: 2.08 | GP: 2.11 | PL: 0.11\n"
     ]
    },
    {
     "name": "stderr",
     "output_type": "stream",
     "text": [
      "default</home/mati/Desktop/workplace/datasets/CelebA-img>:  12%|█▏        | 18100/150000 [4:24:20<32:06:19,  1.14it/s]"
     ]
    },
    {
     "name": "stdout",
     "output_type": "stream",
     "text": [
      "G: 20.99 | D: 1.35 | GP: 0.38 | PL: 0.11\n"
     ]
    },
    {
     "name": "stderr",
     "output_type": "stream",
     "text": [
      "default</home/mati/Desktop/workplace/datasets/CelebA-img>:  12%|█▏        | 18150/150000 [4:25:04<32:05:40,  1.14it/s]"
     ]
    },
    {
     "name": "stdout",
     "output_type": "stream",
     "text": [
      "G: 0.08 | D: 1.82 | GP: 1.54 | PL: 0.11\n"
     ]
    },
    {
     "name": "stderr",
     "output_type": "stream",
     "text": [
      "default</home/mati/Desktop/workplace/datasets/CelebA-img>:  12%|█▏        | 18200/150000 [4:25:47<32:04:47,  1.14it/s]"
     ]
    },
    {
     "name": "stdout",
     "output_type": "stream",
     "text": [
      "G: -2.20 | D: 1.66 | GP: 0.02 | PL: 0.11\n"
     ]
    },
    {
     "name": "stderr",
     "output_type": "stream",
     "text": [
      "default</home/mati/Desktop/workplace/datasets/CelebA-img>:  12%|█▏        | 18250/150000 [4:26:31<32:04:07,  1.14it/s]"
     ]
    },
    {
     "name": "stdout",
     "output_type": "stream",
     "text": [
      "G: 1.50 | D: 1.75 | GP: 0.09 | PL: 0.11\n"
     ]
    },
    {
     "name": "stderr",
     "output_type": "stream",
     "text": [
      "default</home/mati/Desktop/workplace/datasets/CelebA-img>:  12%|█▏        | 18300/150000 [4:27:14<32:03:14,  1.14it/s]"
     ]
    },
    {
     "name": "stdout",
     "output_type": "stream",
     "text": [
      "G: -0.38 | D: 1.76 | GP: 1.68 | PL: 0.11\n"
     ]
    },
    {
     "name": "stderr",
     "output_type": "stream",
     "text": [
      "default</home/mati/Desktop/workplace/datasets/CelebA-img>:  12%|█▏        | 18350/150000 [4:27:58<32:02:32,  1.14it/s]"
     ]
    },
    {
     "name": "stdout",
     "output_type": "stream",
     "text": [
      "G: -0.49 | D: 2.01 | GP: 0.69 | PL: 0.11\n"
     ]
    },
    {
     "name": "stderr",
     "output_type": "stream",
     "text": [
      "default</home/mati/Desktop/workplace/datasets/CelebA-img>:  12%|█▏        | 18400/150000 [4:28:40<32:01:39,  1.14it/s]"
     ]
    },
    {
     "name": "stdout",
     "output_type": "stream",
     "text": [
      "G: 4.64 | D: 1.10 | GP: 1.75 | PL: 0.11\n"
     ]
    },
    {
     "name": "stderr",
     "output_type": "stream",
     "text": [
      "default</home/mati/Desktop/workplace/datasets/CelebA-img>:  12%|█▏        | 18450/150000 [4:29:25<32:00:57,  1.14it/s]"
     ]
    },
    {
     "name": "stdout",
     "output_type": "stream",
     "text": [
      "G: 0.09 | D: 1.68 | GP: 0.21 | PL: 0.11\n"
     ]
    },
    {
     "name": "stderr",
     "output_type": "stream",
     "text": [
      "default</home/mati/Desktop/workplace/datasets/CelebA-img>:  12%|█▏        | 18500/150000 [4:30:08<32:00:11,  1.14it/s]"
     ]
    },
    {
     "name": "stdout",
     "output_type": "stream",
     "text": [
      "G: 0.17 | D: 1.65 | GP: 0.06 | PL: 0.11\n"
     ]
    },
    {
     "name": "stderr",
     "output_type": "stream",
     "text": [
      "default</home/mati/Desktop/workplace/datasets/CelebA-img>:  12%|█▏        | 18550/150000 [4:30:51<31:59:24,  1.14it/s]"
     ]
    },
    {
     "name": "stdout",
     "output_type": "stream",
     "text": [
      "G: -0.02 | D: 1.71 | GP: 0.09 | PL: 0.11\n"
     ]
    },
    {
     "name": "stderr",
     "output_type": "stream",
     "text": [
      "default</home/mati/Desktop/workplace/datasets/CelebA-img>:  12%|█▏        | 18600/150000 [4:31:35<31:58:39,  1.14it/s]"
     ]
    },
    {
     "name": "stdout",
     "output_type": "stream",
     "text": [
      "G: -0.06 | D: 1.75 | GP: 0.02 | PL: 0.11\n"
     ]
    },
    {
     "name": "stderr",
     "output_type": "stream",
     "text": [
      "default</home/mati/Desktop/workplace/datasets/CelebA-img>:  12%|█▏        | 18650/150000 [4:32:18<31:57:53,  1.14it/s]"
     ]
    },
    {
     "name": "stdout",
     "output_type": "stream",
     "text": [
      "G: 0.21 | D: 1.85 | GP: 5.80 | PL: 0.11\n"
     ]
    },
    {
     "name": "stderr",
     "output_type": "stream",
     "text": [
      "default</home/mati/Desktop/workplace/datasets/CelebA-img>:  12%|█▏        | 18700/150000 [4:33:02<31:57:07,  1.14it/s]"
     ]
    },
    {
     "name": "stdout",
     "output_type": "stream",
     "text": [
      "G: 0.31 | D: 1.95 | GP: 3.54 | PL: 0.11\n"
     ]
    },
    {
     "name": "stderr",
     "output_type": "stream",
     "text": [
      "default</home/mati/Desktop/workplace/datasets/CelebA-img>:  12%|█▎        | 18750/150000 [4:33:45<31:56:20,  1.14it/s]"
     ]
    },
    {
     "name": "stdout",
     "output_type": "stream",
     "text": [
      "G: 1.33 | D: 1.53 | GP: 0.74 | PL: 0.11\n"
     ]
    },
    {
     "name": "stderr",
     "output_type": "stream",
     "text": [
      "default</home/mati/Desktop/workplace/datasets/CelebA-img>:  13%|█▎        | 18800/150000 [4:34:29<31:55:34,  1.14it/s]"
     ]
    },
    {
     "name": "stdout",
     "output_type": "stream",
     "text": [
      "G: -0.54 | D: 1.99 | GP: 6.41 | PL: 0.11\n"
     ]
    },
    {
     "name": "stderr",
     "output_type": "stream",
     "text": [
      "default</home/mati/Desktop/workplace/datasets/CelebA-img>:  13%|█▎        | 18850/150000 [4:35:13<31:54:52,  1.14it/s]"
     ]
    },
    {
     "name": "stdout",
     "output_type": "stream",
     "text": [
      "G: 0.85 | D: 1.60 | GP: 0.04 | PL: 0.11\n"
     ]
    },
    {
     "name": "stderr",
     "output_type": "stream",
     "text": [
      "default</home/mati/Desktop/workplace/datasets/CelebA-img>:  13%|█▎        | 18900/150000 [4:35:55<31:54:00,  1.14it/s]"
     ]
    },
    {
     "name": "stdout",
     "output_type": "stream",
     "text": [
      "G: 0.06 | D: 1.75 | GP: 0.46 | PL: 0.11\n"
     ]
    },
    {
     "name": "stderr",
     "output_type": "stream",
     "text": [
      "default</home/mati/Desktop/workplace/datasets/CelebA-img>:  13%|█▎        | 18950/150000 [4:36:40<31:53:20,  1.14it/s]"
     ]
    },
    {
     "name": "stdout",
     "output_type": "stream",
     "text": [
      "G: 0.73 | D: 1.95 | GP: 0.04 | PL: 0.11\n"
     ]
    },
    {
     "name": "stderr",
     "output_type": "stream",
     "text": [
      "default</home/mati/Desktop/workplace/datasets/CelebA-img>:  13%|█▎        | 19000/150000 [4:37:23<31:52:31,  1.14it/s]"
     ]
    },
    {
     "name": "stdout",
     "output_type": "stream",
     "text": [
      "G: -0.01 | D: 2.01 | GP: 2.88 | PL: 0.11\n"
     ]
    },
    {
     "name": "stderr",
     "output_type": "stream",
     "text": [
      "default</home/mati/Desktop/workplace/datasets/CelebA-img>:  13%|█▎        | 19050/150000 [4:38:08<31:51:57,  1.14it/s]"
     ]
    },
    {
     "name": "stdout",
     "output_type": "stream",
     "text": [
      "G: 0.29 | D: 1.70 | GP: 1.23 | PL: 0.11\n"
     ]
    },
    {
     "name": "stderr",
     "output_type": "stream",
     "text": [
      "default</home/mati/Desktop/workplace/datasets/CelebA-img>:  13%|█▎        | 19100/150000 [4:38:51<31:51:04,  1.14it/s]"
     ]
    },
    {
     "name": "stdout",
     "output_type": "stream",
     "text": [
      "G: 0.01 | D: 1.87 | GP: 5.27 | PL: 0.11\n"
     ]
    },
    {
     "name": "stderr",
     "output_type": "stream",
     "text": [
      "default</home/mati/Desktop/workplace/datasets/CelebA-img>:  13%|█▎        | 19150/150000 [4:39:35<31:50:23,  1.14it/s]"
     ]
    },
    {
     "name": "stdout",
     "output_type": "stream",
     "text": [
      "G: 0.93 | D: 1.71 | GP: 0.66 | PL: 0.11\n"
     ]
    },
    {
     "name": "stderr",
     "output_type": "stream",
     "text": [
      "default</home/mati/Desktop/workplace/datasets/CelebA-img>:  13%|█▎        | 19200/150000 [4:40:17<31:49:31,  1.14it/s]"
     ]
    },
    {
     "name": "stdout",
     "output_type": "stream",
     "text": [
      "G: -0.39 | D: 1.95 | GP: 0.26 | PL: 0.11\n"
     ]
    },
    {
     "name": "stderr",
     "output_type": "stream",
     "text": [
      "default</home/mati/Desktop/workplace/datasets/CelebA-img>:  13%|█▎        | 19250/150000 [4:41:01<31:48:49,  1.14it/s]"
     ]
    },
    {
     "name": "stdout",
     "output_type": "stream",
     "text": [
      "G: -0.27 | D: 1.79 | GP: 0.02 | PL: 0.11\n"
     ]
    },
    {
     "name": "stderr",
     "output_type": "stream",
     "text": [
      "default</home/mati/Desktop/workplace/datasets/CelebA-img>:  13%|█▎        | 19300/150000 [4:41:45<31:48:02,  1.14it/s]"
     ]
    },
    {
     "name": "stdout",
     "output_type": "stream",
     "text": [
      "G: 0.54 | D: 1.85 | GP: 7.44 | PL: 0.11\n"
     ]
    },
    {
     "name": "stderr",
     "output_type": "stream",
     "text": [
      "default</home/mati/Desktop/workplace/datasets/CelebA-img>:  13%|█▎        | 19350/150000 [4:42:28<31:47:16,  1.14it/s]"
     ]
    },
    {
     "name": "stdout",
     "output_type": "stream",
     "text": [
      "G: 0.63 | D: 1.94 | GP: 0.08 | PL: 0.11\n"
     ]
    },
    {
     "name": "stderr",
     "output_type": "stream",
     "text": [
      "default</home/mati/Desktop/workplace/datasets/CelebA-img>:  13%|█▎        | 19400/150000 [4:43:11<31:46:28,  1.14it/s]"
     ]
    },
    {
     "name": "stdout",
     "output_type": "stream",
     "text": [
      "G: 0.44 | D: 1.79 | GP: 1.57 | PL: 0.11\n"
     ]
    },
    {
     "name": "stderr",
     "output_type": "stream",
     "text": [
      "default</home/mati/Desktop/workplace/datasets/CelebA-img>:  13%|█▎        | 19450/150000 [4:43:55<31:45:42,  1.14it/s]"
     ]
    },
    {
     "name": "stdout",
     "output_type": "stream",
     "text": [
      "G: 0.30 | D: 1.69 | GP: 2.92 | PL: 0.11\n"
     ]
    },
    {
     "name": "stderr",
     "output_type": "stream",
     "text": [
      "default</home/mati/Desktop/workplace/datasets/CelebA-img>:  13%|█▎        | 19500/150000 [4:44:38<31:44:55,  1.14it/s]"
     ]
    },
    {
     "name": "stdout",
     "output_type": "stream",
     "text": [
      "G: -0.62 | D: 1.96 | GP: 1.36 | PL: 0.12\n"
     ]
    },
    {
     "name": "stderr",
     "output_type": "stream",
     "text": [
      "default</home/mati/Desktop/workplace/datasets/CelebA-img>:  13%|█▎        | 19550/150000 [4:45:22<31:44:09,  1.14it/s]"
     ]
    },
    {
     "name": "stdout",
     "output_type": "stream",
     "text": [
      "G: -0.53 | D: 1.86 | GP: 21.16 | PL: 0.11\n"
     ]
    },
    {
     "name": "stderr",
     "output_type": "stream",
     "text": [
      "default</home/mati/Desktop/workplace/datasets/CelebA-img>:  13%|█▎        | 19600/150000 [4:46:05<31:43:22,  1.14it/s]"
     ]
    },
    {
     "name": "stdout",
     "output_type": "stream",
     "text": [
      "G: 0.54 | D: 1.75 | GP: 0.40 | PL: 0.11\n"
     ]
    },
    {
     "name": "stderr",
     "output_type": "stream",
     "text": [
      "default</home/mati/Desktop/workplace/datasets/CelebA-img>:  13%|█▎        | 19650/150000 [4:46:49<31:42:41,  1.14it/s]"
     ]
    },
    {
     "name": "stdout",
     "output_type": "stream",
     "text": [
      "G: -0.50 | D: 1.94 | GP: 2.34 | PL: 0.11\n"
     ]
    },
    {
     "name": "stderr",
     "output_type": "stream",
     "text": [
      "default</home/mati/Desktop/workplace/datasets/CelebA-img>:  13%|█▎        | 19700/150000 [4:47:32<31:41:50,  1.14it/s]"
     ]
    },
    {
     "name": "stdout",
     "output_type": "stream",
     "text": [
      "G: -0.50 | D: 1.92 | GP: 0.41 | PL: 0.12\n"
     ]
    },
    {
     "name": "stderr",
     "output_type": "stream",
     "text": [
      "default</home/mati/Desktop/workplace/datasets/CelebA-img>:  13%|█▎        | 19750/150000 [4:48:16<31:41:09,  1.14it/s]"
     ]
    },
    {
     "name": "stdout",
     "output_type": "stream",
     "text": [
      "G: -0.00 | D: 1.80 | GP: 0.90 | PL: 0.12\n"
     ]
    },
    {
     "name": "stderr",
     "output_type": "stream",
     "text": [
      "default</home/mati/Desktop/workplace/datasets/CelebA-img>:  13%|█▎        | 19800/150000 [4:48:59<31:40:18,  1.14it/s]"
     ]
    },
    {
     "name": "stdout",
     "output_type": "stream",
     "text": [
      "G: 0.10 | D: 1.79 | GP: 0.27 | PL: 0.12\n"
     ]
    },
    {
     "name": "stderr",
     "output_type": "stream",
     "text": [
      "default</home/mati/Desktop/workplace/datasets/CelebA-img>:  13%|█▎        | 19850/150000 [4:49:43<31:39:36,  1.14it/s]"
     ]
    },
    {
     "name": "stdout",
     "output_type": "stream",
     "text": [
      "G: 0.82 | D: 1.91 | GP: 0.89 | PL: 0.12\n"
     ]
    },
    {
     "name": "stderr",
     "output_type": "stream",
     "text": [
      "default</home/mati/Desktop/workplace/datasets/CelebA-img>:  13%|█▎        | 19900/150000 [4:50:25<31:38:44,  1.14it/s]"
     ]
    },
    {
     "name": "stdout",
     "output_type": "stream",
     "text": [
      "G: -0.32 | D: 1.99 | GP: 53.77 | PL: 0.12\n"
     ]
    },
    {
     "name": "stderr",
     "output_type": "stream",
     "text": [
      "default</home/mati/Desktop/workplace/datasets/CelebA-img>:  13%|█▎        | 19950/150000 [4:51:10<31:38:03,  1.14it/s]"
     ]
    },
    {
     "name": "stdout",
     "output_type": "stream",
     "text": [
      "G: -0.51 | D: 1.88 | GP: 0.01 | PL: 0.12\n"
     ]
    },
    {
     "name": "stderr",
     "output_type": "stream",
     "text": [
      "default</home/mati/Desktop/workplace/datasets/CelebA-img>:  13%|█▎        | 20000/150000 [4:51:55<31:37:32,  1.14it/s]"
     ]
    },
    {
     "name": "stdout",
     "output_type": "stream",
     "text": [
      "G: -0.81 | D: 2.38 | GP: 0.83 | PL: 0.12\n"
     ]
    },
    {
     "name": "stderr",
     "output_type": "stream",
     "text": [
      "default</home/mati/Desktop/workplace/datasets/CelebA-img>:  13%|█▎        | 20050/150000 [4:52:41<31:36:58,  1.14it/s]"
     ]
    },
    {
     "name": "stdout",
     "output_type": "stream",
     "text": [
      "G: 0.52 | D: 1.67 | GP: 1.51 | PL: 0.12\n"
     ]
    },
    {
     "name": "stderr",
     "output_type": "stream",
     "text": [
      "default</home/mati/Desktop/workplace/datasets/CelebA-img>:  13%|█▎        | 20100/150000 [4:53:25<31:36:19,  1.14it/s]"
     ]
    },
    {
     "name": "stdout",
     "output_type": "stream",
     "text": [
      "G: -1.57 | D: 1.31 | GP: 0.80 | PL: 0.12\n"
     ]
    },
    {
     "name": "stderr",
     "output_type": "stream",
     "text": [
      "default</home/mati/Desktop/workplace/datasets/CelebA-img>:  13%|█▎        | 20150/150000 [4:54:11<31:35:49,  1.14it/s]"
     ]
    },
    {
     "name": "stdout",
     "output_type": "stream",
     "text": [
      "G: -0.63 | D: 2.06 | GP: 1.21 | PL: 0.12\n"
     ]
    },
    {
     "name": "stderr",
     "output_type": "stream",
     "text": [
      "default</home/mati/Desktop/workplace/datasets/CelebA-img>:  13%|█▎        | 20200/150000 [4:54:55<31:35:06,  1.14it/s]"
     ]
    },
    {
     "name": "stdout",
     "output_type": "stream",
     "text": [
      "G: 0.78 | D: 2.82 | GP: 0.12 | PL: 0.12\n"
     ]
    },
    {
     "name": "stderr",
     "output_type": "stream",
     "text": [
      "default</home/mati/Desktop/workplace/datasets/CelebA-img>:  14%|█▎        | 20250/150000 [4:55:38<31:34:20,  1.14it/s]"
     ]
    },
    {
     "name": "stdout",
     "output_type": "stream",
     "text": [
      "G: 1.02 | D: 1.63 | GP: 0.41 | PL: 0.12\n"
     ]
    },
    {
     "name": "stderr",
     "output_type": "stream",
     "text": [
      "default</home/mati/Desktop/workplace/datasets/CelebA-img>:  14%|█▎        | 20300/150000 [4:56:22<31:33:33,  1.14it/s]"
     ]
    },
    {
     "name": "stdout",
     "output_type": "stream",
     "text": [
      "G: 0.07 | D: 2.13 | GP: 0.44 | PL: 0.12\n"
     ]
    },
    {
     "name": "stderr",
     "output_type": "stream",
     "text": [
      "default</home/mati/Desktop/workplace/datasets/CelebA-img>:  14%|█▎        | 20350/150000 [4:57:05<31:32:46,  1.14it/s]"
     ]
    },
    {
     "name": "stdout",
     "output_type": "stream",
     "text": [
      "G: 1.20 | D: 1.43 | GP: 0.01 | PL: 0.12\n"
     ]
    },
    {
     "name": "stderr",
     "output_type": "stream",
     "text": [
      "default</home/mati/Desktop/workplace/datasets/CelebA-img>:  14%|█▎        | 20400/150000 [4:57:48<31:32:00,  1.14it/s]"
     ]
    },
    {
     "name": "stdout",
     "output_type": "stream",
     "text": [
      "G: -0.34 | D: 2.10 | GP: 0.38 | PL: 0.12\n"
     ]
    },
    {
     "name": "stderr",
     "output_type": "stream",
     "text": [
      "default</home/mati/Desktop/workplace/datasets/CelebA-img>:  14%|█▎        | 20450/150000 [4:58:33<31:31:19,  1.14it/s]"
     ]
    },
    {
     "name": "stdout",
     "output_type": "stream",
     "text": [
      "G: -1.26 | D: 1.84 | GP: 1.17 | PL: 0.12\n"
     ]
    },
    {
     "name": "stderr",
     "output_type": "stream",
     "text": [
      "default</home/mati/Desktop/workplace/datasets/CelebA-img>:  14%|█▎        | 20500/150000 [4:59:15<31:30:27,  1.14it/s]"
     ]
    },
    {
     "name": "stdout",
     "output_type": "stream",
     "text": [
      "G: 0.57 | D: 1.79 | GP: 0.11 | PL: 0.12\n"
     ]
    },
    {
     "name": "stderr",
     "output_type": "stream",
     "text": [
      "default</home/mati/Desktop/workplace/datasets/CelebA-img>:  14%|█▎        | 20550/150000 [4:59:59<31:29:45,  1.14it/s]"
     ]
    },
    {
     "name": "stdout",
     "output_type": "stream",
     "text": [
      "G: -0.20 | D: 1.29 | GP: 1.56 | PL: 0.12\n"
     ]
    },
    {
     "name": "stderr",
     "output_type": "stream",
     "text": [
      "default</home/mati/Desktop/workplace/datasets/CelebA-img>:  14%|█▎        | 20600/150000 [5:00:42<31:28:53,  1.14it/s]"
     ]
    },
    {
     "name": "stdout",
     "output_type": "stream",
     "text": [
      "G: -0.85 | D: 2.08 | GP: 0.02 | PL: 0.12\n"
     ]
    },
    {
     "name": "stderr",
     "output_type": "stream",
     "text": [
      "default</home/mati/Desktop/workplace/datasets/CelebA-img>:  14%|█▍        | 20650/150000 [5:01:26<31:28:12,  1.14it/s]"
     ]
    },
    {
     "name": "stdout",
     "output_type": "stream",
     "text": [
      "G: 0.13 | D: 2.00 | GP: 2.53 | PL: 0.12\n"
     ]
    },
    {
     "name": "stderr",
     "output_type": "stream",
     "text": [
      "default</home/mati/Desktop/workplace/datasets/CelebA-img>:  14%|█▍        | 20700/150000 [5:02:11<31:27:37,  1.14it/s]"
     ]
    },
    {
     "name": "stdout",
     "output_type": "stream",
     "text": [
      "G: -1.67 | D: 2.30 | GP: 0.33 | PL: 0.12\n"
     ]
    },
    {
     "name": "stderr",
     "output_type": "stream",
     "text": [
      "default</home/mati/Desktop/workplace/datasets/CelebA-img>:  14%|█▍        | 20750/150000 [5:02:55<31:26:56,  1.14it/s]"
     ]
    },
    {
     "name": "stdout",
     "output_type": "stream",
     "text": [
      "G: -0.65 | D: 1.95 | GP: 0.91 | PL: 0.12\n"
     ]
    },
    {
     "name": "stderr",
     "output_type": "stream",
     "text": [
      "default</home/mati/Desktop/workplace/datasets/CelebA-img>:  14%|█▍        | 20800/150000 [5:03:38<31:26:04,  1.14it/s]"
     ]
    },
    {
     "name": "stdout",
     "output_type": "stream",
     "text": [
      "G: 0.48 | D: 1.81 | GP: 0.84 | PL: 0.12\n"
     ]
    },
    {
     "name": "stderr",
     "output_type": "stream",
     "text": [
      "default</home/mati/Desktop/workplace/datasets/CelebA-img>:  14%|█▍        | 20850/150000 [5:04:23<31:25:27,  1.14it/s]"
     ]
    },
    {
     "name": "stdout",
     "output_type": "stream",
     "text": [
      "G: -0.29 | D: 1.78 | GP: 7.19 | PL: 0.12\n"
     ]
    },
    {
     "name": "stderr",
     "output_type": "stream",
     "text": [
      "default</home/mati/Desktop/workplace/datasets/CelebA-img>:  14%|█▍        | 20900/150000 [5:05:11<31:25:12,  1.14it/s]"
     ]
    },
    {
     "name": "stdout",
     "output_type": "stream",
     "text": [
      "G: -0.63 | D: 2.37 | GP: 0.27 | PL: 0.12\n"
     ]
    },
    {
     "name": "stderr",
     "output_type": "stream",
     "text": [
      "default</home/mati/Desktop/workplace/datasets/CelebA-img>:  14%|█▍        | 20950/150000 [5:06:06<31:25:38,  1.14it/s]"
     ]
    },
    {
     "name": "stdout",
     "output_type": "stream",
     "text": [
      "G: -1.70 | D: 2.87 | GP: 0.21 | PL: 0.12\n"
     ]
    },
    {
     "name": "stderr",
     "output_type": "stream",
     "text": [
      "default</home/mati/Desktop/workplace/datasets/CelebA-img>:  14%|█▍        | 21000/150000 [5:07:04<31:26:19,  1.14it/s]"
     ]
    },
    {
     "name": "stdout",
     "output_type": "stream",
     "text": [
      "G: 0.90 | D: 1.50 | GP: 0.05 | PL: 0.12\n"
     ]
    },
    {
     "name": "stderr",
     "output_type": "stream",
     "text": [
      "default</home/mati/Desktop/workplace/datasets/CelebA-img>:  14%|█▍        | 21050/150000 [5:08:04<31:27:12,  1.14it/s]"
     ]
    },
    {
     "name": "stdout",
     "output_type": "stream",
     "text": [
      "G: -0.37 | D: 1.87 | GP: 1.42 | PL: 0.12\n"
     ]
    },
    {
     "name": "stderr",
     "output_type": "stream",
     "text": [
      "default</home/mati/Desktop/workplace/datasets/CelebA-img>:  14%|█▍        | 21100/150000 [5:08:59<31:27:40,  1.14it/s]"
     ]
    },
    {
     "name": "stdout",
     "output_type": "stream",
     "text": [
      "G: 0.52 | D: 1.55 | GP: 0.86 | PL: 0.12\n"
     ]
    },
    {
     "name": "stderr",
     "output_type": "stream",
     "text": [
      "default</home/mati/Desktop/workplace/datasets/CelebA-img>:  14%|█▍        | 21150/150000 [5:09:55<31:28:04,  1.14it/s]"
     ]
    },
    {
     "name": "stdout",
     "output_type": "stream",
     "text": [
      "G: 0.01 | D: 1.54 | GP: 8.35 | PL: 0.12\n"
     ]
    },
    {
     "name": "stderr",
     "output_type": "stream",
     "text": [
      "default</home/mati/Desktop/workplace/datasets/CelebA-img>:  14%|█▍        | 21200/150000 [5:10:49<31:28:25,  1.14it/s]"
     ]
    },
    {
     "name": "stdout",
     "output_type": "stream",
     "text": [
      "G: -0.30 | D: 1.79 | GP: 0.20 | PL: 0.12\n"
     ]
    },
    {
     "name": "stderr",
     "output_type": "stream",
     "text": [
      "default</home/mati/Desktop/workplace/datasets/CelebA-img>:  14%|█▍        | 21250/150000 [5:11:45<31:28:53,  1.14it/s]"
     ]
    },
    {
     "name": "stdout",
     "output_type": "stream",
     "text": [
      "G: -0.51 | D: 1.99 | GP: 0.59 | PL: 0.12\n"
     ]
    },
    {
     "name": "stderr",
     "output_type": "stream",
     "text": [
      "default</home/mati/Desktop/workplace/datasets/CelebA-img>:  14%|█▍        | 21300/150000 [5:12:42<31:29:30,  1.14it/s]"
     ]
    },
    {
     "name": "stdout",
     "output_type": "stream",
     "text": [
      "G: -0.09 | D: 1.72 | GP: 1.44 | PL: 0.12\n"
     ]
    },
    {
     "name": "stderr",
     "output_type": "stream",
     "text": [
      "default</home/mati/Desktop/workplace/datasets/CelebA-img>:  14%|█▍        | 21350/150000 [5:13:40<31:30:06,  1.13it/s]"
     ]
    },
    {
     "name": "stdout",
     "output_type": "stream",
     "text": [
      "G: -0.48 | D: 1.95 | GP: 0.31 | PL: 0.12\n"
     ]
    },
    {
     "name": "stderr",
     "output_type": "stream",
     "text": [
      "default</home/mati/Desktop/workplace/datasets/CelebA-img>:  14%|█▍        | 21400/150000 [5:14:37<31:30:43,  1.13it/s]"
     ]
    },
    {
     "name": "stdout",
     "output_type": "stream",
     "text": [
      "G: -0.46 | D: 1.99 | GP: 0.35 | PL: 0.12\n"
     ]
    },
    {
     "name": "stderr",
     "output_type": "stream",
     "text": [
      "default</home/mati/Desktop/workplace/datasets/CelebA-img>:  14%|█▍        | 21450/150000 [5:15:35<31:31:22,  1.13it/s]"
     ]
    },
    {
     "name": "stdout",
     "output_type": "stream",
     "text": [
      "G: 0.08 | D: 1.73 | GP: 0.26 | PL: 0.12\n"
     ]
    },
    {
     "name": "stderr",
     "output_type": "stream",
     "text": [
      "default</home/mati/Desktop/workplace/datasets/CelebA-img>:  14%|█▍        | 21500/150000 [5:16:30<31:31:41,  1.13it/s]"
     ]
    },
    {
     "name": "stdout",
     "output_type": "stream",
     "text": [
      "G: -0.06 | D: 1.92 | GP: 1.20 | PL: 0.12\n"
     ]
    },
    {
     "name": "stderr",
     "output_type": "stream",
     "text": [
      "default</home/mati/Desktop/workplace/datasets/CelebA-img>:  14%|█▍        | 21550/150000 [5:17:28<31:32:17,  1.13it/s]"
     ]
    },
    {
     "name": "stdout",
     "output_type": "stream",
     "text": [
      "G: 1.35 | D: 1.97 | GP: 1.43 | PL: 0.12\n"
     ]
    },
    {
     "name": "stderr",
     "output_type": "stream",
     "text": [
      "default</home/mati/Desktop/workplace/datasets/CelebA-img>:  14%|█▍        | 21600/150000 [5:18:24<31:32:43,  1.13it/s]"
     ]
    },
    {
     "name": "stdout",
     "output_type": "stream",
     "text": [
      "G: 0.31 | D: 1.84 | GP: 0.25 | PL: 0.12\n"
     ]
    },
    {
     "name": "stderr",
     "output_type": "stream",
     "text": [
      "default</home/mati/Desktop/workplace/datasets/CelebA-img>:  14%|█▍        | 21650/150000 [5:19:27<31:33:51,  1.13it/s]"
     ]
    },
    {
     "name": "stdout",
     "output_type": "stream",
     "text": [
      "G: -0.38 | D: 1.76 | GP: 0.14 | PL: 0.12\n"
     ]
    },
    {
     "name": "stderr",
     "output_type": "stream",
     "text": [
      "default</home/mati/Desktop/workplace/datasets/CelebA-img>:  14%|█▍        | 21700/150000 [5:20:24<31:34:25,  1.13it/s]"
     ]
    },
    {
     "name": "stdout",
     "output_type": "stream",
     "text": [
      "G: 1.47 | D: 1.83 | GP: 0.22 | PL: 0.12\n"
     ]
    },
    {
     "name": "stderr",
     "output_type": "stream",
     "text": [
      "default</home/mati/Desktop/workplace/datasets/CelebA-img>:  14%|█▍        | 21750/150000 [5:21:20<31:34:47,  1.13it/s]"
     ]
    },
    {
     "name": "stdout",
     "output_type": "stream",
     "text": [
      "G: 0.20 | D: 1.75 | GP: 0.18 | PL: 0.12\n"
     ]
    },
    {
     "name": "stderr",
     "output_type": "stream",
     "text": [
      "default</home/mati/Desktop/workplace/datasets/CelebA-img>:  15%|█▍        | 21800/150000 [5:22:17<31:35:20,  1.13it/s]"
     ]
    },
    {
     "name": "stdout",
     "output_type": "stream",
     "text": [
      "G: -0.24 | D: 1.90 | GP: 0.03 | PL: 0.12\n"
     ]
    },
    {
     "name": "stderr",
     "output_type": "stream",
     "text": [
      "default</home/mati/Desktop/workplace/datasets/CelebA-img>:  15%|█▍        | 21850/150000 [5:23:15<31:35:53,  1.13it/s]"
     ]
    },
    {
     "name": "stdout",
     "output_type": "stream",
     "text": [
      "G: 0.30 | D: 1.75 | GP: 0.02 | PL: 0.12\n"
     ]
    },
    {
     "name": "stderr",
     "output_type": "stream",
     "text": [
      "default</home/mati/Desktop/workplace/datasets/CelebA-img>:  15%|█▍        | 21900/150000 [5:24:12<31:36:25,  1.13it/s]"
     ]
    },
    {
     "name": "stdout",
     "output_type": "stream",
     "text": [
      "G: -0.35 | D: 1.96 | GP: 0.35 | PL: 0.12\n"
     ]
    },
    {
     "name": "stderr",
     "output_type": "stream",
     "text": [
      "default</home/mati/Desktop/workplace/datasets/CelebA-img>:  15%|█▍        | 21950/150000 [5:25:09<31:36:52,  1.13it/s]"
     ]
    },
    {
     "name": "stdout",
     "output_type": "stream",
     "text": [
      "G: 0.38 | D: 1.54 | GP: 0.84 | PL: 0.12\n"
     ]
    },
    {
     "name": "stderr",
     "output_type": "stream",
     "text": [
      "default</home/mati/Desktop/workplace/datasets/CelebA-img>:  15%|█▍        | 22000/150000 [5:26:06<31:37:23,  1.12it/s]"
     ]
    },
    {
     "name": "stdout",
     "output_type": "stream",
     "text": [
      "G: 0.51 | D: 1.71 | GP: 0.74 | PL: 0.12\n"
     ]
    },
    {
     "name": "stderr",
     "output_type": "stream",
     "text": [
      "default</home/mati/Desktop/workplace/datasets/CelebA-img>:  15%|█▍        | 22050/150000 [5:27:06<31:38:04,  1.12it/s]"
     ]
    },
    {
     "name": "stdout",
     "output_type": "stream",
     "text": [
      "G: -0.38 | D: 1.80 | GP: 0.12 | PL: 0.12\n"
     ]
    },
    {
     "name": "stderr",
     "output_type": "stream",
     "text": [
      "default</home/mati/Desktop/workplace/datasets/CelebA-img>:  15%|█▍        | 22100/150000 [5:27:59<31:38:11,  1.12it/s]"
     ]
    },
    {
     "name": "stdout",
     "output_type": "stream",
     "text": [
      "G: -0.23 | D: 1.86 | GP: 0.33 | PL: 0.12\n"
     ]
    },
    {
     "name": "stderr",
     "output_type": "stream",
     "text": [
      "default</home/mati/Desktop/workplace/datasets/CelebA-img>:  15%|█▍        | 22150/150000 [5:28:56<31:38:36,  1.12it/s]"
     ]
    },
    {
     "name": "stdout",
     "output_type": "stream",
     "text": [
      "G: 0.34 | D: 1.74 | GP: 1.41 | PL: 0.12\n"
     ]
    },
    {
     "name": "stderr",
     "output_type": "stream",
     "text": [
      "default</home/mati/Desktop/workplace/datasets/CelebA-img>:  15%|█▍        | 22200/150000 [5:29:48<31:38:35,  1.12it/s]"
     ]
    },
    {
     "name": "stdout",
     "output_type": "stream",
     "text": [
      "G: 0.91 | D: 1.34 | GP: 0.78 | PL: 0.12\n"
     ]
    },
    {
     "name": "stderr",
     "output_type": "stream",
     "text": [
      "default</home/mati/Desktop/workplace/datasets/CelebA-img>:  15%|█▍        | 22250/150000 [5:30:43<31:38:54,  1.12it/s]"
     ]
    },
    {
     "name": "stdout",
     "output_type": "stream",
     "text": [
      "G: 0.39 | D: 1.75 | GP: 0.31 | PL: 0.12\n"
     ]
    },
    {
     "name": "stderr",
     "output_type": "stream",
     "text": [
      "default</home/mati/Desktop/workplace/datasets/CelebA-img>:  15%|█▍        | 22300/150000 [5:31:36<31:38:57,  1.12it/s]"
     ]
    },
    {
     "name": "stdout",
     "output_type": "stream",
     "text": [
      "G: 0.09 | D: 1.84 | GP: 5.99 | PL: 0.12\n"
     ]
    },
    {
     "name": "stderr",
     "output_type": "stream",
     "text": [
      "default</home/mati/Desktop/workplace/datasets/CelebA-img>:  15%|█▍        | 22350/150000 [5:32:32<31:39:15,  1.12it/s]"
     ]
    },
    {
     "name": "stdout",
     "output_type": "stream",
     "text": [
      "G: 0.19 | D: 1.67 | GP: 0.22 | PL: 0.12\n"
     ]
    },
    {
     "name": "stderr",
     "output_type": "stream",
     "text": [
      "default</home/mati/Desktop/workplace/datasets/CelebA-img>:  15%|█▍        | 22400/150000 [5:33:25<31:39:22,  1.12it/s]"
     ]
    },
    {
     "name": "stdout",
     "output_type": "stream",
     "text": [
      "G: -0.33 | D: 1.73 | GP: 0.80 | PL: 0.12\n"
     ]
    },
    {
     "name": "stderr",
     "output_type": "stream",
     "text": [
      "default</home/mati/Desktop/workplace/datasets/CelebA-img>:  15%|█▍        | 22450/150000 [5:34:24<31:39:54,  1.12it/s]"
     ]
    },
    {
     "name": "stdout",
     "output_type": "stream",
     "text": [
      "G: -0.30 | D: 1.97 | GP: 0.05 | PL: 0.12\n"
     ]
    },
    {
     "name": "stderr",
     "output_type": "stream",
     "text": [
      "default</home/mati/Desktop/workplace/datasets/CelebA-img>:  15%|█▌        | 22500/150000 [5:35:17<31:39:59,  1.12it/s]"
     ]
    },
    {
     "name": "stdout",
     "output_type": "stream",
     "text": [
      "G: 0.41 | D: 1.53 | GP: 2.70 | PL: 0.12\n"
     ]
    },
    {
     "name": "stderr",
     "output_type": "stream",
     "text": [
      "default</home/mati/Desktop/workplace/datasets/CelebA-img>:  15%|█▌        | 22550/150000 [5:36:16<31:40:33,  1.12it/s]"
     ]
    },
    {
     "name": "stdout",
     "output_type": "stream",
     "text": [
      "G: 0.65 | D: 1.86 | GP: 0.02 | PL: 0.12\n"
     ]
    },
    {
     "name": "stderr",
     "output_type": "stream",
     "text": [
      "default</home/mati/Desktop/workplace/datasets/CelebA-img>:  15%|█▌        | 22600/150000 [5:37:10<31:40:40,  1.12it/s]"
     ]
    },
    {
     "name": "stdout",
     "output_type": "stream",
     "text": [
      "G: 0.26 | D: 1.64 | GP: 1.26 | PL: 0.12\n"
     ]
    },
    {
     "name": "stderr",
     "output_type": "stream",
     "text": [
      "default</home/mati/Desktop/workplace/datasets/CelebA-img>:  15%|█▌        | 22650/150000 [5:38:02<31:40:39,  1.12it/s]"
     ]
    },
    {
     "name": "stdout",
     "output_type": "stream",
     "text": [
      "G: -0.24 | D: 1.70 | GP: 0.14 | PL: 0.12\n"
     ]
    },
    {
     "name": "stderr",
     "output_type": "stream",
     "text": [
      "default</home/mati/Desktop/workplace/datasets/CelebA-img>:  15%|█▌        | 22700/150000 [5:38:56<31:40:46,  1.12it/s]"
     ]
    },
    {
     "name": "stdout",
     "output_type": "stream",
     "text": [
      "G: -0.08 | D: 1.72 | GP: 0.45 | PL: 0.12\n"
     ]
    },
    {
     "name": "stderr",
     "output_type": "stream",
     "text": [
      "default</home/mati/Desktop/workplace/datasets/CelebA-img>:  15%|█▌        | 22742/150000 [5:39:43<31:41:03,  1.12it/s]"
     ]
    }
   ],
   "source": [
    "train_from_folder()"
   ]
  },
  {
   "cell_type": "code",
   "execution_count": null,
   "id": "001bc87b-60fb-4a39-9f80-f152e3c2c90e",
   "metadata": {},
   "outputs": [],
   "source": []
  },
  {
   "cell_type": "code",
   "execution_count": null,
   "id": "2696f973-1497-45a2-9228-8ce6b39bde70",
   "metadata": {},
   "outputs": [],
   "source": []
  },
  {
   "cell_type": "code",
   "execution_count": 6,
   "id": "1eaabcc5-b4c1-4e13-bd8c-14c6e1a05617",
   "metadata": {
    "tags": []
   },
   "outputs": [],
   "source": [
    "import torch.nn as nn\n",
    "from math import log2\n",
    "from functools import partial"
   ]
  },
  {
   "cell_type": "code",
   "execution_count": 12,
   "id": "51f1184f-ba42-4cea-a851-454fb521d67c",
   "metadata": {
    "tags": []
   },
   "outputs": [],
   "source": [
    "class EncoderBlock(nn.Module):\n",
    "    def __init__(self, in_channels, out_channels):\n",
    "        super().__init__()\n",
    "        self.conv = nn.Conv2d(in_channels, out_channels, 3, stride=2, padding=1)\n",
    "        self.act = nn.LeakyReLU(0.2)\n",
    "\n",
    "    def forward(self, x):\n",
    "        x = self.conv(x)\n",
    "        x = self.act(x)\n",
    "        return x\n",
    "\n",
    "class Encoder(nn.Module):\n",
    "    def __init__(self, image_size,in_channels=3, network_capacity=16, fmap_max=512):\n",
    "        super().__init__()\n",
    "        self.num_layers = int(log2(image_size) - 2) # Adjusting number of layers\n",
    "\n",
    "        filters = [network_capacity * (2 ** i) for i in range(self.num_layers)]\n",
    "        set_fmap_max = partial(min, fmap_max)\n",
    "        filters = list(map(set_fmap_max, filters))\n",
    "        self.blocks = nn.ModuleList([])\n",
    "        for out_channels in filters:\n",
    "            block = EncoderBlock(in_channels, out_channels)\n",
    "            self.blocks.append(block)\n",
    "            in_channels = out_channels\n",
    "\n",
    "    def forward(self, x):\n",
    "        skip_connections = []\n",
    "        for block in self.blocks:\n",
    "            x = block(x)\n",
    "            skip_connections.append(x)\n",
    "        return skip_connections"
   ]
  },
  {
   "cell_type": "code",
   "execution_count": 13,
   "id": "5620fc67-cea0-455d-b085-cfd9fff64da8",
   "metadata": {
    "tags": []
   },
   "outputs": [],
   "source": [
    "encoder = Encoder(image_size=64)"
   ]
  },
  {
   "cell_type": "code",
   "execution_count": 14,
   "id": "d2c75628-3be6-4c62-af67-7fae34a0c621",
   "metadata": {
    "tags": []
   },
   "outputs": [],
   "source": [
    "dummy_input = torch.randn(1, 3, 64, 64)"
   ]
  },
  {
   "cell_type": "code",
   "execution_count": 15,
   "id": "bb9e0333-0076-4170-8523-6de9baa87b63",
   "metadata": {
    "tags": []
   },
   "outputs": [],
   "source": [
    "skip_connections = encoder(dummy_input)\n",
    "\n",
    "skip_connections_shapes = [skip.shape for skip in skip_connections]"
   ]
  },
  {
   "cell_type": "code",
   "execution_count": 16,
   "id": "49db2e40-0618-4e99-bf74-5866eee05874",
   "metadata": {
    "tags": []
   },
   "outputs": [
    {
     "data": {
      "text/plain": [
       "[torch.Size([1, 16, 32, 32]),\n",
       " torch.Size([1, 32, 16, 16]),\n",
       " torch.Size([1, 64, 8, 8]),\n",
       " torch.Size([1, 128, 4, 4])]"
      ]
     },
     "execution_count": 16,
     "metadata": {},
     "output_type": "execute_result"
    }
   ],
   "source": [
    "skip_connections_shapes"
   ]
  },
  {
   "cell_type": "code",
   "execution_count": null,
   "id": "c544f09e-6dd5-4e4c-9df6-b99c787df33a",
   "metadata": {},
   "outputs": [],
   "source": []
  },
  {
   "cell_type": "code",
   "execution_count": null,
   "id": "a580b134-5610-4e36-b4fb-e196b82739c9",
   "metadata": {},
   "outputs": [],
   "source": []
  }
 ],
 "metadata": {
  "kernelspec": {
   "display_name": "pytorch-gpu-2023-11",
   "language": "python",
   "name": "pytorch-gpu-2023-11"
  },
  "language_info": {
   "codemirror_mode": {
    "name": "ipython",
    "version": 3
   },
   "file_extension": ".py",
   "mimetype": "text/x-python",
   "name": "python",
   "nbconvert_exporter": "python",
   "pygments_lexer": "ipython3",
   "version": "3.11.5"
  }
 },
 "nbformat": 4,
 "nbformat_minor": 5
}
